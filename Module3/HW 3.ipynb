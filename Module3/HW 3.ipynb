{
 "cells": [
  {
   "cell_type": "markdown",
   "id": "dbb3fcc6",
   "metadata": {},
   "source": [
    "# init"
   ]
  },
  {
   "cell_type": "code",
   "execution_count": 27,
   "id": "24bd3373",
   "metadata": {},
   "outputs": [],
   "source": [
    "import numpy as np\n",
    "import math\n",
    "def std_checker(my_std):\n",
    "    test_cases = [\n",
    "        (np.array([1, 2, 3, 4, 5]), 1.4142135623730951),\n",
    "        (np.array([5, 5, 5, 5, 5]), 0.0),\n",
    "        (np.array([2, 4, 4, 4, 5, 5, 7, 9]), 2.0),\n",
    "    ]\n",
    "\n",
    "    EPSILON = 0.0001\n",
    "    passed = 0\n",
    "\n",
    "    for i, (input_array, expected_std) in enumerate(test_cases):\n",
    "        try:\n",
    "            result = my_std(input_array)\n",
    "\n",
    "            if math.isclose(result, expected_std, abs_tol=EPSILON):\n",
    "                print(f\"Test case {i+1} Passed\")\n",
    "                passed += 1\n",
    "            else:\n",
    "                print(f\"Test case {i+1} Failed (Expected {expected_std}, got {result})\")\n",
    "        except Exception as e:\n",
    "            print(f\"Test case {i+1} Exception occurred: {e}\")\n",
    "\n",
    "    print(f\"\\n Passed {passed}/{len(test_cases)} test cases.\")\n",
    "\n",
    "def outlier_bound_checker(my_iqr_bounds):\n",
    "    test_cases = [\n",
    "        (np.array([1, 2, 3, 4, 5]), (-3,9)),\n",
    "        (np.array([10, 12, 14, 16, 18, 20]), (1,29)),\n",
    "        (np.array([5, 7, 8, 9, 10, 11, 13]), (1,17)),\n",
    "        (np.array([6, 7, 15, 36, 39, 40, 41, 42, 43, 47, 49]), (-27,85)),\n",
    "        (np.array([1, 2, 2, 3, 4, 6, 18]), (-4,12)),\n",
    "    ]\n",
    "\n",
    "    tolerance = 2.1\n",
    "    passed = 0\n",
    "\n",
    "    for i, (input_array, expected_bounds) in enumerate(test_cases):\n",
    "        try:\n",
    "            result = my_iqr_bounds(input_array)\n",
    "\n",
    "            lb_ok = abs(result[0] - expected_bounds[0]) < tolerance\n",
    "            ub_ok = abs(result[1] - expected_bounds[1]) < tolerance\n",
    "\n",
    "            if lb_ok and ub_ok:\n",
    "                print(f\"Test case {i+1} PASSED\")\n",
    "                passed += 1\n",
    "            else:\n",
    "                print(f\"Test case {i+1} FAILED (Expected {expected_bounds}, got {result})\")\n",
    "        except Exception as e:\n",
    "            print(f\"Test case {i+1} ERROR: {e}\")\n",
    "\n",
    "    print(f\"\\nPassed {passed}/{len(test_cases)} test cases.\")\n",
    "\n",
    "def zscore_checker(my_z_scores):\n",
    "    test_cases = [\n",
    "        (np.array([1, 2, 3, 4, 5]), [-1.26491106 ,-0.63245553  ,0.          ,0.63245553  ,1.26491106]),\n",
    "        (np.array([10, 10, 10, 10, 10]), [0.0, 0.0, 0.0, 0.0, 0.0]),\n",
    "        (np.array([5, 10, 15]), [-1.0, 0.0, 1.0]),\n",
    "        (np.array([-5, 0, 5, 10]), [-1.161895   ,-0.38729833  ,0.38729833  ,1.161895  ]),\n",
    "        (np.array([100, 200, 300, 400]), [-1.1619, -0.3873, 0.3873, 1.1619]),\n",
    "    ]\n",
    "\n",
    "    tolerance = 0.0001\n",
    "    passed = 0\n",
    "\n",
    "    for i, (input_array, expected_scores) in enumerate(test_cases):\n",
    "        try:\n",
    "            result = my_z_scores(input_array)\n",
    "            all_ok = all(abs(a - b) < tolerance for a, b in zip(result, expected_scores))\n",
    "\n",
    "            if all_ok:\n",
    "                print(f\"Test case {i+1} PASSED\")\n",
    "                passed += 1\n",
    "            else:\n",
    "                print(f\"Test case {i+1} FAILED (Expected {expected_scores}, got {result})\")\n",
    "        except Exception as e:\n",
    "            print(f\"Test case {i+1} ERROR: {e}\")\n",
    "\n",
    "    print(f\"\\nPassed {passed}/{len(test_cases)} test cases.\")\n",
    "\n",
    "def minmax_checker(my_min_max_scale):\n",
    "    test_cases = [\n",
    "        (np.array([1, 2, 3, 4, 5]), [0.0, 0.25, 0.5, 0.75, 1.0]),\n",
    "        (np.array([10, 10, 10, 10]), [0.0, 0.0, 0.0, 0.0]),\n",
    "        (np.array([-5, 0, 5]), [0.0, 0.5, 1.0]),\n",
    "        (np.array([100, 300, 500]), [0.0, 0.5, 1.0]),\n",
    "        (np.array([5, 15, 25, 35]), [0.0, 0.3333, 0.6667, 1.0]),\n",
    "    ]\n",
    "\n",
    "    tolerance = 0.001\n",
    "    passed = 0\n",
    "\n",
    "    for i, (input_array, expected_scaled) in enumerate(test_cases):\n",
    "        try:\n",
    "            result = my_min_max_scale(input_array)\n",
    "            all_ok = all(abs(a - b) < tolerance for a, b in zip(result, expected_scaled))\n",
    "\n",
    "            if all_ok:\n",
    "                print(f\"Test case {i+1} PASSED\")\n",
    "                passed += 1\n",
    "            else:\n",
    "                print(f\"Test case {i+1} FAILED (Expected {expected_scaled}, got {result})\")\n",
    "        except Exception as e:\n",
    "            print(f\"Test case {i+1} ERROR: {e}\")\n",
    "\n",
    "    print(f\"\\nPassed {passed}/{len(test_cases)} test cases.\")"
   ]
  },
  {
   "cell_type": "markdown",
   "id": "02a2cd48",
   "metadata": {},
   "source": [
    "# Questions"
   ]
  },
  {
   "cell_type": "markdown",
   "id": "72b68209",
   "metadata": {},
   "source": [
    "**Standart Deviation**"
   ]
  },
  {
   "cell_type": "code",
   "execution_count": 11,
   "id": "c8371ab9",
   "metadata": {},
   "outputs": [],
   "source": [
    "def std(arr):\n",
    "    \"\"\"\n",
    "    Input: (n,) np.array | n: number of samples\n",
    "    Calculate the population standart deviation of the given array and return as single python float\n",
    "    Population standart deviation is calculated as follows:\n",
    "    σ = sqrt( Σ (x_i - μ)^2 / N )\n",
    "    \"\"\"\n",
    "    return 0.0"
   ]
  },
  {
   "cell_type": "code",
   "execution_count": null,
   "id": "553221f2",
   "metadata": {},
   "outputs": [],
   "source": [
    "std_checker(std)"
   ]
  },
  {
   "cell_type": "markdown",
   "id": "11cbf978",
   "metadata": {},
   "source": [
    "**IQR**"
   ]
  },
  {
   "cell_type": "code",
   "execution_count": 25,
   "id": "d1377d73",
   "metadata": {},
   "outputs": [],
   "source": [
    "def outlier_bound(arr:np.array):\n",
    "    \"\"\"\n",
    "    Input shape (n,) np.array | n: number of samples\n",
    "    Calculate upper and lower bounds using following formula. (Q1 and Q3 are first and third quantiles respectively and IQR is interquantile range.)\n",
    "    Using interpolation method to calculate Q1 and Q3 is encouraged, yet tolerance will be set to a higher number to accept other solutions.\n",
    "    Lower bound = Q1 - 1.5*IQR\n",
    "    Upper bound = Q3 + 1.5*IQR\n",
    "    Return as python tuple of two floats in order (lower_bound,upper_bound)\n",
    "    \"\"\"\n",
    "    return (0.0,0.0)"
   ]
  },
  {
   "cell_type": "code",
   "execution_count": 26,
   "id": "8ec8c7ae",
   "metadata": {},
   "outputs": [
    {
     "name": "stdout",
     "output_type": "stream",
     "text": [
      "Test case 1 FAILED (Expected (-3, 9), got (0.0, 0.0))\n",
      "Test case 2 FAILED (Expected (1, 29), got (0.0, 0.0))\n",
      "Test case 3 FAILED (Expected (1, 17), got (0.0, 0.0))\n",
      "Test case 4 FAILED (Expected (-27, 85), got (0.0, 0.0))\n",
      "Test case 5 FAILED (Expected (-4, 12), got (0.0, 0.0))\n",
      "\n",
      "Passed 0/5 test cases.\n"
     ]
    }
   ],
   "source": [
    "outlier_bound_checker(outlier_bound)"
   ]
  },
  {
   "cell_type": "markdown",
   "id": "3c80f1c5",
   "metadata": {},
   "source": [
    "**Z-Score**"
   ]
  },
  {
   "cell_type": "code",
   "execution_count": 56,
   "id": "6ff3f08e",
   "metadata": {},
   "outputs": [],
   "source": [
    "def z_score(arr):\n",
    "    \"\"\"\n",
    "    Input: (n,) np.array | n: number of samples\n",
    "    Calculate z-score for each element in the array. Return as np.array of z-scores. Preserve indexes between inputs and corresponding z-scores.\n",
    "    Use sample standard deviation to calculate z-score. Sample standard deviation is calculated as follows:\n",
    "    s = sqrt( Σ (x_i - x̄)^2 / (n - 1) )\n",
    "    Return Shape: (n,)\n",
    "    \"\"\"\n",
    "    return np.zeros(shape=(arr.shape[0],))"
   ]
  },
  {
   "cell_type": "code",
   "execution_count": null,
   "id": "441e718b",
   "metadata": {},
   "outputs": [],
   "source": [
    "zscore_checker(z_score)"
   ]
  },
  {
   "cell_type": "markdown",
   "id": "9b994629",
   "metadata": {},
   "source": [
    "**Min-Max Scaling**"
   ]
  },
  {
   "cell_type": "code",
   "execution_count": 43,
   "id": "9da23107",
   "metadata": {},
   "outputs": [],
   "source": [
    "def minmax_scaler(arr):\n",
    "    \"\"\"\n",
    "    Input shape: (n,) | n: number of samples\n",
    "    Normalize the given input using minmax scaler. Return the normalized array preserving the indexes.\n",
    "    Return shape: (5,)\n",
    "    \"\"\"\n",
    "    return np.zeros(shape=(arr.shape[0],))"
   ]
  },
  {
   "cell_type": "code",
   "execution_count": null,
   "id": "8fda3f10",
   "metadata": {},
   "outputs": [],
   "source": [
    "minmax_checker(minmax_scaler)"
   ]
  }
 ],
 "metadata": {
  "kernelspec": {
   "display_name": ".venv (3.12.3)",
   "language": "python",
   "name": "python3"
  },
  "language_info": {
   "codemirror_mode": {
    "name": "ipython",
    "version": 3
   },
   "file_extension": ".py",
   "mimetype": "text/x-python",
   "name": "python",
   "nbconvert_exporter": "python",
   "pygments_lexer": "ipython3",
   "version": "3.12.3"
  }
 },
 "nbformat": 4,
 "nbformat_minor": 5
}
