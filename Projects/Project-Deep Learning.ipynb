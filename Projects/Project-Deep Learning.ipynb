{
 "cells": [
  {
   "cell_type": "code",
   "execution_count": 13,
   "id": "a89722d8",
   "metadata": {},
   "outputs": [],
   "source": [
    "import torch\n",
    "import torch.nn as nn\n",
    "import numpy as np\n",
    "from sklearn.datasets import load_breast_cancer\n",
    "from torch.utils.data import Dataset, DataLoader\n",
    "from sklearn.model_selection import StratifiedKFold,train_test_split\n",
    "import torch.optim as optim\n",
    "from torchmetrics import Accuracy,F1Score"
   ]
  },
  {
   "cell_type": "code",
   "execution_count": 14,
   "id": "746a3a76",
   "metadata": {},
   "outputs": [],
   "source": [
    "device = torch.device(\"cuda\" if torch.cuda.is_available() else \"cpu\")"
   ]
  },
  {
   "cell_type": "code",
   "execution_count": 16,
   "id": "7e80ec41",
   "metadata": {},
   "outputs": [],
   "source": [
    "data = load_breast_cancer()\n",
    "X = torch.tensor(data.data, dtype=torch.float32)\n",
    "y = torch.tensor(data.target, dtype=torch.long)"
   ]
  },
  {
   "cell_type": "code",
   "execution_count": 20,
   "id": "7c28167d",
   "metadata": {},
   "outputs": [
    {
     "name": "stdout",
     "output_type": "stream",
     "text": [
      "torch.Size([569, 30]) torch.Size([569])\n"
     ]
    }
   ],
   "source": [
    "print(X.shape,y.shape)"
   ]
  },
  {
   "cell_type": "code",
   "execution_count": 21,
   "id": "f67db15a",
   "metadata": {},
   "outputs": [
    {
     "name": "stdout",
     "output_type": "stream",
     "text": [
      "torch.Size([455, 30]) torch.Size([455]) torch.Size([114, 30]) torch.Size([114])\n",
      "tensor(0.6264) tensor(0.6316)\n"
     ]
    }
   ],
   "source": [
    "X_train, X_test, y_train, y_test = train_test_split(X,y,test_size=0.2,random_state=22,shuffle=True,stratify=y)\n",
    "print(X_train.shape,y_train.shape,X_test.shape,y_test.shape)\n",
    "print(torch.sum(y_train)/len(y_train),torch.sum(y_test)/len(y_test))\n",
    "\n",
    "cv = StratifiedKFold(n_splits=10,shuffle=True,random_state=22)"
   ]
  },
  {
   "cell_type": "code",
   "execution_count": 22,
   "id": "a0f70fa2",
   "metadata": {},
   "outputs": [],
   "source": [
    "class Custom_Dataset(Dataset):\n",
    "    def __init__(self, X, y):\n",
    "        self.X = X\n",
    "        self.y = y\n",
    "\n",
    "    def __len__(self):\n",
    "        return len(self.X)\n",
    "\n",
    "    def __getitem__(self, idx):\n",
    "        return self.X[idx], self.y[idx]"
   ]
  },
  {
   "cell_type": "code",
   "execution_count": 23,
   "id": "2d2cc72d",
   "metadata": {},
   "outputs": [],
   "source": [
    "class SimpleNN(nn.Module):\n",
    "    def __init__(self):\n",
    "        super(SimpleNN, self).__init__()\n",
    "        self.layers = nn.Sequential(\n",
    "            nn.Linear(30,4),\n",
    "            nn.ReLU(),\n",
    "            nn.Linear(4, 1),\n",
    "        )\n",
    "\n",
    "    def forward(self, x):\n",
    "        return self.layers(x)"
   ]
  },
  {
   "cell_type": "code",
   "execution_count": 24,
   "id": "a39635f5",
   "metadata": {},
   "outputs": [],
   "source": [
    "epochs = 10\n",
    "batch_size = 32"
   ]
  },
  {
   "cell_type": "code",
   "execution_count": 25,
   "id": "e5dcaf47",
   "metadata": {},
   "outputs": [],
   "source": [
    "def evaluate_model(model,val_loader):\n",
    "    model.eval()\n",
    "    f1 = F1Score(task=\"binary\",threshold=0.5).to(device)\n",
    "    accuracy = Accuracy(task=\"binary\",threshold=0.5).to(device)\n",
    "\n",
    "    all_preds = []\n",
    "    all_labels = []\n",
    "    with torch.no_grad():\n",
    "        for batch_X, batch_y in val_loader:\n",
    "            batch_X, batch_y = batch_X.to(device), batch_y.to(device)\n",
    "            outputs = torch.sigmoid(model(batch_X))\n",
    "            all_preds.append(outputs.squeeze(-1))\n",
    "            all_labels.append(batch_y)\n",
    "        all_preds = torch.cat(all_preds, dim=0)\n",
    "        all_labels = torch.cat(all_labels, dim=0)\n",
    "    return f1(all_preds,all_labels).item(),accuracy(all_preds,all_labels).item()"
   ]
  },
  {
   "cell_type": "code",
   "execution_count": 26,
   "id": "7c858849",
   "metadata": {},
   "outputs": [
    {
     "name": "stdout",
     "output_type": "stream",
     "text": [
      "Epoch 1, Loss: 2.4350, Accuracy: 0.3696, F1: 0.0000\n",
      "Epoch 2, Loss: 0.6949, Accuracy: 0.6304, F1: 0.7733\n",
      "Epoch 3, Loss: 0.6864, Accuracy: 0.6304, F1: 0.7733\n",
      "Epoch 4, Loss: 0.6785, Accuracy: 0.6304, F1: 0.7733\n",
      "Epoch 5, Loss: 0.6715, Accuracy: 0.6304, F1: 0.7733\n",
      "Epoch 6, Loss: 0.6685, Accuracy: 0.6304, F1: 0.7733\n",
      "Epoch 7, Loss: 0.6641, Accuracy: 0.6304, F1: 0.7733\n",
      "Epoch 8, Loss: 0.6642, Accuracy: 0.6304, F1: 0.7733\n",
      "Epoch 9, Loss: 0.6619, Accuracy: 0.6304, F1: 0.7733\n",
      "Epoch 10, Loss: 0.6604, Accuracy: 0.6304, F1: 0.7733\n",
      "-------------------------\n",
      "Epoch 1, Loss: 2.7256, Accuracy: 0.4565, F1: 0.2424\n",
      "Epoch 2, Loss: 0.9557, Accuracy: 0.9565, F1: 0.9655\n",
      "Epoch 3, Loss: 0.6352, Accuracy: 0.8696, F1: 0.9062\n",
      "Epoch 4, Loss: 0.3029, Accuracy: 0.8913, F1: 0.9206\n",
      "Epoch 5, Loss: 0.2519, Accuracy: 0.9783, F1: 0.9831\n",
      "Epoch 6, Loss: 0.3062, Accuracy: 0.9130, F1: 0.9355\n",
      "Epoch 7, Loss: 0.2410, Accuracy: 0.9130, F1: 0.9355\n",
      "Epoch 8, Loss: 0.2190, Accuracy: 0.8478, F1: 0.8679\n",
      "Epoch 9, Loss: 0.1973, Accuracy: 0.9783, F1: 0.9831\n",
      "Epoch 10, Loss: 0.2571, Accuracy: 0.8696, F1: 0.8889\n",
      "-------------------------\n",
      "Epoch 1, Loss: 2.1854, Accuracy: 0.8913, F1: 0.9206\n",
      "Epoch 2, Loss: 0.9037, Accuracy: 0.9348, F1: 0.9508\n",
      "Epoch 3, Loss: 0.4273, Accuracy: 0.8478, F1: 0.8727\n",
      "Epoch 4, Loss: 0.3733, Accuracy: 0.8913, F1: 0.9123\n",
      "Epoch 5, Loss: 0.2521, Accuracy: 0.8913, F1: 0.9123\n",
      "Epoch 6, Loss: 0.2280, Accuracy: 0.8913, F1: 0.9123\n",
      "Epoch 7, Loss: 0.2230, Accuracy: 0.9565, F1: 0.9667\n",
      "Epoch 8, Loss: 0.2392, Accuracy: 0.8913, F1: 0.9123\n",
      "Epoch 9, Loss: 0.2385, Accuracy: 0.9565, F1: 0.9667\n",
      "Epoch 10, Loss: 0.2291, Accuracy: 0.9565, F1: 0.9667\n",
      "-------------------------\n",
      "Epoch 1, Loss: 32.5287, Accuracy: 0.3696, F1: 0.0000\n",
      "Epoch 2, Loss: 3.6744, Accuracy: 0.3696, F1: 0.0000\n",
      "Epoch 3, Loss: 0.6856, Accuracy: 0.6304, F1: 0.7733\n",
      "Epoch 4, Loss: 0.6856, Accuracy: 0.6304, F1: 0.7733\n",
      "Epoch 5, Loss: 0.6807, Accuracy: 0.6304, F1: 0.7733\n",
      "Epoch 6, Loss: 0.6769, Accuracy: 0.6304, F1: 0.7733\n",
      "Epoch 7, Loss: 0.6745, Accuracy: 0.6304, F1: 0.7733\n",
      "Epoch 8, Loss: 0.6706, Accuracy: 0.6304, F1: 0.7733\n",
      "Epoch 9, Loss: 0.6689, Accuracy: 0.6304, F1: 0.7733\n",
      "Epoch 10, Loss: 0.6661, Accuracy: 0.6304, F1: 0.7733\n",
      "-------------------------\n",
      "Epoch 1, Loss: 8.5080, Accuracy: 0.6304, F1: 0.7733\n",
      "Epoch 2, Loss: 0.6793, Accuracy: 0.6304, F1: 0.7733\n",
      "Epoch 3, Loss: 0.6770, Accuracy: 0.6304, F1: 0.7733\n",
      "Epoch 4, Loss: 0.6739, Accuracy: 0.6304, F1: 0.7733\n",
      "Epoch 5, Loss: 0.6702, Accuracy: 0.6304, F1: 0.7733\n",
      "Epoch 6, Loss: 0.6667, Accuracy: 0.6304, F1: 0.7733\n",
      "Epoch 7, Loss: 0.6650, Accuracy: 0.6304, F1: 0.7733\n",
      "Epoch 8, Loss: 0.6629, Accuracy: 0.6304, F1: 0.7733\n",
      "Epoch 9, Loss: 0.6621, Accuracy: 0.6304, F1: 0.7733\n",
      "Epoch 10, Loss: 0.6628, Accuracy: 0.6304, F1: 0.7733\n",
      "-------------------------\n",
      "Epoch 1, Loss: 0.8569, Accuracy: 0.8667, F1: 0.8929\n",
      "Epoch 2, Loss: 0.2235, Accuracy: 0.8222, F1: 0.8519\n",
      "Epoch 3, Loss: 0.2136, Accuracy: 0.8444, F1: 0.8727\n",
      "Epoch 4, Loss: 0.2125, Accuracy: 0.8889, F1: 0.9123\n",
      "Epoch 5, Loss: 0.2211, Accuracy: 0.8889, F1: 0.9123\n",
      "Epoch 6, Loss: 0.2152, Accuracy: 0.8000, F1: 0.8085\n",
      "Epoch 7, Loss: 0.2384, Accuracy: 0.9333, F1: 0.9492\n",
      "Epoch 8, Loss: 0.2348, Accuracy: 0.8000, F1: 0.8163\n",
      "Epoch 9, Loss: 0.2105, Accuracy: 0.8667, F1: 0.8889\n",
      "Epoch 10, Loss: 0.2055, Accuracy: 0.9111, F1: 0.9333\n",
      "-------------------------\n",
      "Epoch 1, Loss: 0.7507, Accuracy: 0.6222, F1: 0.7671\n",
      "Epoch 2, Loss: 0.6618, Accuracy: 0.6222, F1: 0.7671\n",
      "Epoch 3, Loss: 0.6602, Accuracy: 0.6222, F1: 0.7671\n",
      "Epoch 4, Loss: 0.6596, Accuracy: 0.6222, F1: 0.7671\n",
      "Epoch 5, Loss: 0.6613, Accuracy: 0.6222, F1: 0.7671\n",
      "Epoch 6, Loss: 0.6609, Accuracy: 0.6222, F1: 0.7671\n",
      "Epoch 7, Loss: 0.6611, Accuracy: 0.6222, F1: 0.7671\n",
      "Epoch 8, Loss: 0.6602, Accuracy: 0.6222, F1: 0.7671\n",
      "Epoch 9, Loss: 0.6601, Accuracy: 0.6222, F1: 0.7671\n",
      "Epoch 10, Loss: 0.6614, Accuracy: 0.6222, F1: 0.7671\n",
      "-------------------------\n",
      "Epoch 1, Loss: 1.7670, Accuracy: 0.3778, F1: 0.0000\n",
      "Epoch 2, Loss: 0.7071, Accuracy: 0.3778, F1: 0.0000\n",
      "Epoch 3, Loss: 0.6966, Accuracy: 0.6222, F1: 0.7671\n",
      "Epoch 4, Loss: 0.6849, Accuracy: 0.6222, F1: 0.7671\n",
      "Epoch 5, Loss: 0.6775, Accuracy: 0.6222, F1: 0.7671\n",
      "Epoch 6, Loss: 0.6707, Accuracy: 0.6222, F1: 0.7671\n",
      "Epoch 7, Loss: 0.6676, Accuracy: 0.6222, F1: 0.7671\n",
      "Epoch 8, Loss: 0.6653, Accuracy: 0.6222, F1: 0.7671\n",
      "Epoch 9, Loss: 0.6629, Accuracy: 0.6222, F1: 0.7671\n",
      "Epoch 10, Loss: 0.6613, Accuracy: 0.6222, F1: 0.7671\n",
      "-------------------------\n",
      "Epoch 1, Loss: 4.7306, Accuracy: 0.3778, F1: 0.0000\n",
      "Epoch 2, Loss: 0.6453, Accuracy: 0.3778, F1: 0.0000\n",
      "Epoch 3, Loss: 0.5938, Accuracy: 0.3778, F1: 0.0000\n",
      "Epoch 4, Loss: 0.5267, Accuracy: 0.9333, F1: 0.9455\n",
      "Epoch 5, Loss: 0.4978, Accuracy: 0.9556, F1: 0.9655\n",
      "Epoch 6, Loss: 0.4736, Accuracy: 0.9333, F1: 0.9474\n",
      "Epoch 7, Loss: 0.4454, Accuracy: 0.9556, F1: 0.9655\n",
      "Epoch 8, Loss: 0.4283, Accuracy: 0.9333, F1: 0.9455\n",
      "Epoch 9, Loss: 0.4042, Accuracy: 0.9556, F1: 0.9655\n",
      "Epoch 10, Loss: 0.3941, Accuracy: 0.9333, F1: 0.9474\n",
      "-------------------------\n",
      "Epoch 1, Loss: 3.8804, Accuracy: 0.9111, F1: 0.9333\n",
      "Epoch 2, Loss: 0.4546, Accuracy: 0.9333, F1: 0.9492\n",
      "Epoch 3, Loss: 0.2846, Accuracy: 0.9111, F1: 0.9333\n",
      "Epoch 4, Loss: 0.2178, Accuracy: 0.9556, F1: 0.9643\n",
      "Epoch 5, Loss: 0.2143, Accuracy: 0.9556, F1: 0.9643\n",
      "Epoch 6, Loss: 0.1905, Accuracy: 0.9556, F1: 0.9655\n",
      "Epoch 7, Loss: 0.2438, Accuracy: 0.9333, F1: 0.9492\n",
      "Epoch 8, Loss: 0.1965, Accuracy: 0.9556, F1: 0.9643\n",
      "Epoch 9, Loss: 0.1951, Accuracy: 0.9556, F1: 0.9643\n",
      "Epoch 10, Loss: 0.1647, Accuracy: 0.9333, F1: 0.9455\n",
      "-------------------------\n"
     ]
    }
   ],
   "source": [
    "for train_idx,val_idx in cv.split(X_train,y_train):\n",
    "    #print(train_idx.shape,val_idx.shape)\n",
    "\n",
    "    train_x , train_y = X_train[train_idx], y_train[train_idx]\n",
    "    val_x , val_y = X_train[val_idx], y_train[val_idx]\n",
    "\n",
    "    train_dataset = Custom_Dataset(train_x,train_y)\n",
    "    train_loader  = DataLoader(train_dataset,batch_size=batch_size,shuffle=True,pin_memory=True)\n",
    "    val_dataset = Custom_Dataset(val_x,val_y)\n",
    "    val_loader = DataLoader(val_dataset,batch_size=batch_size,shuffle=False,pin_memory=True)\n",
    "\n",
    "    model = SimpleNN().to(device)\n",
    "    criterion = nn.BCEWithLogitsLoss()\n",
    "    optimizer = optim.Adam(model.parameters(), lr=0.01)\n",
    "\n",
    "    for epoch in range(epochs):\n",
    "        model.train()\n",
    "        epoch_loss = 0.0\n",
    "\n",
    "        for batch_X, batch_y in train_loader:\n",
    "            batch_X, batch_y = batch_X.to(device), batch_y.to(device)\n",
    "            outputs = model(batch_X)\n",
    "            loss = criterion(outputs, batch_y.unsqueeze(1).float())\n",
    "            optimizer.zero_grad()\n",
    "            loss.backward()\n",
    "            optimizer.step()\n",
    "            epoch_loss += loss.item()\n",
    "\n",
    "        f1_score,accuracy = evaluate_model(model,val_loader)\n",
    "        print(f\"Epoch {epoch+1}, Loss: {epoch_loss/len(train_loader):.4f}, Accuracy: {accuracy:.4f}, F1: {f1_score:.4f}\")\n",
    "    print(\"-\"*25)"
   ]
  },
  {
   "cell_type": "markdown",
   "id": "89213163",
   "metadata": {},
   "source": [
    "# Test"
   ]
  },
  {
   "cell_type": "code",
   "execution_count": 27,
   "id": "70769d3e",
   "metadata": {},
   "outputs": [],
   "source": [
    "train_dataset = Custom_Dataset(X_train,y_train)\n",
    "train_loader  = DataLoader(train_dataset,batch_size=32,shuffle=True,pin_memory=True)\n",
    "\n",
    "model = SimpleNN().to(device)\n",
    "criterion = nn.BCEWithLogitsLoss()\n",
    "optimizer = optim.Adam(model.parameters(), lr=0.01)\n",
    "\n",
    "for epoch in range(epochs):\n",
    "    epoch_loss = 0.0\n",
    "\n",
    "    for batch_X, batch_y in train_loader:\n",
    "        model.train()\n",
    "        batch_X, batch_y = batch_X.to(device), batch_y.to(device)\n",
    "        outputs = model(batch_X)\n",
    "        loss = criterion(outputs, batch_y.unsqueeze(1).float())\n",
    "        optimizer.zero_grad()\n",
    "        loss.backward()\n",
    "        optimizer.step()\n",
    "        epoch_loss += loss.item()"
   ]
  },
  {
   "cell_type": "code",
   "execution_count": 28,
   "id": "52708685",
   "metadata": {},
   "outputs": [
    {
     "data": {
      "text/plain": [
       "(0.8776978254318237, 0.8508771657943726)"
      ]
     },
     "execution_count": 28,
     "metadata": {},
     "output_type": "execute_result"
    }
   ],
   "source": [
    "test_dataset = Custom_Dataset(X_test, y_test)\n",
    "test_loader  = DataLoader(test_dataset,batch_size=32,shuffle=True,pin_memory=True)\n",
    "\n",
    "evaluate_model(model,test_loader) #f1, accuracy"
   ]
  }
 ],
 "metadata": {
  "kernelspec": {
   "display_name": ".venv (3.12.3)",
   "language": "python",
   "name": "python3"
  },
  "language_info": {
   "codemirror_mode": {
    "name": "ipython",
    "version": 3
   },
   "file_extension": ".py",
   "mimetype": "text/x-python",
   "name": "python",
   "nbconvert_exporter": "python",
   "pygments_lexer": "ipython3",
   "version": "3.12.3"
  }
 },
 "nbformat": 4,
 "nbformat_minor": 5
}
