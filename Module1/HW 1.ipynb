{
 "cells": [
  {
   "cell_type": "markdown",
   "id": "bec10b0c",
   "metadata": {},
   "source": [
    "# init"
   ]
  },
  {
   "cell_type": "code",
   "execution_count": 3,
   "id": "e7294d0e",
   "metadata": {},
   "outputs": [],
   "source": [
    "import numpy as np\n",
    "EPSILON = 0.0001"
   ]
  },
  {
   "cell_type": "code",
   "execution_count": 4,
   "id": "6d96b422",
   "metadata": {},
   "outputs": [],
   "source": [
    "def MAE_check(function):\n",
    "    y = np.array([0.51681721, 5.31354632, 5.40635122, 6.37429901, 7.26091334,\n",
    "       9.75852079, 5.16300348, 3.22956473, 7.95186195, 2.70832251])\n",
    "\n",
    "    y_pred = np.array([7.21608251, 8.24849215, 9.62955589, 9.84572084, 4.55324007,\n",
    "        8.88818834, 6.01423086, 5.11070189, 4.31165881, 9.22289071])\n",
    "    mae = 3.3793979230000004\n",
    "    mae_custom = function(y,y_pred)\n",
    "    print(\"Your MAE: \",mae_custom)\n",
    "    print(\"Actual MAE:\",mae)\n",
    "    print(\"Status: \",abs(mae-mae_custom)<EPSILON)\n",
    "\n",
    "def RMSE_check(function):\n",
    "    y = np.array([0.51681721, 5.31354632, 5.40635122, 6.37429901, 7.26091334,\n",
    "       9.75852079, 5.16300348, 3.22956473, 7.95186195, 2.70832251])\n",
    "\n",
    "    y_pred = np.array([7.21608251, 8.24849215, 9.62955589, 9.84572084, 4.55324007,\n",
    "        8.88818834, 6.01423086, 5.11070189, 4.31165881, 9.22289071])\n",
    "    rmse = 3.891313476219\n",
    "    rmse_custom = function(y,y_pred)\n",
    "    print(\"Your RMSE: \",rmse_custom)\n",
    "    print(\"Actual RMSE:\",rmse)\n",
    "    print(\"Status: \",abs(rmse-rmse_custom)<EPSILON)\n",
    "\n",
    "def linear_prediction_check(function):\n",
    "    x = np.array([[0.14215343, 0.94820853, 0.29579119],\n",
    "       [0.34679464, 0.12884285, 0.52690323],\n",
    "       [0.1495045 , 0.87204075, 0.07340774],\n",
    "       [0.43879079, 0.6965163 , 0.68753715],\n",
    "       [0.19336729, 0.86966556, 0.08348424],\n",
    "       [0.91716047, 0.74556532, 0.39645044],\n",
    "       [0.54784853, 0.10766584, 0.92411041],\n",
    "       [0.37166777, 0.6922576 , 0.59634874],\n",
    "       [0.19471927, 0.28707713, 0.7628851 ],\n",
    "       [0.6009248 , 0.26299392, 0.41415595]])\n",
    "    weights = np.array([[0.41542635],\n",
    "       [0.29291408],\n",
    "       [0.94981302]])\n",
    "    bias = 0.09639534860249188\n",
    "    output = np.array([[0.71413959],\n",
    "       [0.77866241],\n",
    "       [0.4836601 ],\n",
    "       [1.13573178],\n",
    "       [0.51075692],\n",
    "       [1.07234835],\n",
    "       [1.23325501],\n",
    "       [1.01998773],\n",
    "       [0.985974  ],\n",
    "       [0.81644068]])\n",
    "    \n",
    "    pred = function(weights,x,bias)\n",
    "    c = 0\n",
    "    for i in range(output.shape[0]):\n",
    "        if abs(output[i]-pred[i]) < EPSILON: c+=1\n",
    "    print(f\"Correct Count: {c}/{output.shape[0]}\")\n",
    "\n",
    "def linear_training_check(function):\n",
    "    def mse(y_true,y_pred):\n",
    "        return np.sum(np.square(y_pred-y_true)) / y_true.size\n",
    "    x = np.random.random((1000,3))*10\n",
    "    true_weights = np.array([[3],[2],[1]])\n",
    "    bias = 3\n",
    "    y = np.matmul(x,true_weights)+bias\n",
    "    pred_weight,pred_bias= function(x,y,0.01,100000)\n",
    "    x_new = np.random.random((10,3))\n",
    "    y_true = np.matmul(x_new,true_weights) + bias\n",
    "    y_pred = np.matmul(x_new,pred_weight) + pred_bias\n",
    "    error = mse(y_true,y_pred)\n",
    "    print(\"Your MSE:\",error)\n",
    "    print(\"Status\",error<10)\n",
    "\n",
    "def logistic_predict_check(function):\n",
    "    x = np.array([[0.51546673, 0.28065662, 0.00947014],\n",
    "       [0.23801993, 0.7740894 , 0.13646804],\n",
    "       [0.08288778, 0.64900324, 0.48505752],\n",
    "       [0.63659589, 0.12595608, 0.40939819],\n",
    "       [0.35392796, 0.77655724, 0.0509008 ],\n",
    "       [0.88261907, 0.55407629, 0.8420845 ],\n",
    "       [0.66634428, 0.65731465, 0.75509069],\n",
    "       [0.61133671, 0.0864037 , 0.64021827],\n",
    "       [0.84675351, 0.19416872, 0.37804013],\n",
    "       [0.7991159 , 0.58705844, 0.6403704 ]])\n",
    "    weights = np.array([[0.52336716],\n",
    "       [0.65165963],\n",
    "       [0.89427092]])\n",
    "    bias = 0.6033310767964827\n",
    "    output = np.array([[0.74354401],\n",
    "        [0.79484561],\n",
    "        [0.81808309],\n",
    "        [0.79974444],\n",
    "        [0.79251222],\n",
    "        [0.89838301],\n",
    "        [0.88651978],\n",
    "        [0.82521957],\n",
    "        [0.81922362],\n",
    "        [0.87833845]])\n",
    "    pred = function(x,weights,bias)\n",
    "    c = 0\n",
    "    for i in range(output.shape[0]):\n",
    "        if abs(output[i]-pred[i]) < EPSILON: c+=1\n",
    "    print(f\"Correct Count: {c}/{output.shape[0]}\")\n",
    "\n",
    "def logistic_training_check(function):\n",
    "    def sigmoid(z):\n",
    "        return 1 / (1 + np.exp(-z))\n",
    "    np.random.seed(42)\n",
    "    x = np.random.rand(100, 3)\n",
    "    true_weights = np.array([[2.0], [-1.0], [1.5]])\n",
    "    true_bias = -0.5\n",
    "    z = np.dot(x, true_weights) + true_bias\n",
    "    y = (sigmoid(z) > 0.5).astype(int)\n",
    "    w_hat, b_hat = function(x, y, alpha=0.5, num_iter=5000)\n",
    "    preds = sigmoid(np.dot(x, w_hat) + b_hat)\n",
    "    preds = (preds > 0.5).astype(int)\n",
    "    acc = np.mean(preds == y)\n",
    "\n",
    "    if acc > 0.95:\n",
    "        print(\"Status: Pass\")\n",
    "    else:\n",
    "        print(\"Status: Fail\")"
   ]
  },
  {
   "cell_type": "markdown",
   "id": "b1a24e65",
   "metadata": {},
   "source": [
    "# Questions"
   ]
  },
  {
   "cell_type": "markdown",
   "id": "349030d6",
   "metadata": {},
   "source": [
    "**Mean Absolute Error**"
   ]
  },
  {
   "cell_type": "code",
   "execution_count": 5,
   "id": "72aa9e8a",
   "metadata": {},
   "outputs": [],
   "source": [
    "def MAE_custom(y_true:np.array,y_pred:np.array) -> float:\n",
    "    \"\"\"\n",
    "    y shape: (n,)\n",
    "    y_pred shape: (n,)\n",
    "    Calculate mean absolute error and return as python float\n",
    "    \"\"\"\n",
    "    error = 0.0\n",
    "    ##Your Code Here\n",
    "    \n",
    "    return error"
   ]
  },
  {
   "cell_type": "code",
   "execution_count": 6,
   "id": "c6cadd1a",
   "metadata": {},
   "outputs": [
    {
     "name": "stdout",
     "output_type": "stream",
     "text": [
      "Your MAE:  0.0\n",
      "Actual MAE: 3.3793979230000004\n",
      "Status:  False\n"
     ]
    }
   ],
   "source": [
    "MAE_check(MAE_custom)"
   ]
  },
  {
   "cell_type": "markdown",
   "id": "49a819b8",
   "metadata": {},
   "source": [
    "**Root Mean Squared Error**"
   ]
  },
  {
   "cell_type": "code",
   "execution_count": 7,
   "id": "53d6a036",
   "metadata": {},
   "outputs": [],
   "source": [
    "def RMSE_custom(y_true:np.array,y_pred:np.array) -> float:\n",
    "    \"\"\"\n",
    "    y shape: (n,)\n",
    "    y_pred shape: (n,)\n",
    "    Calculate root mean squared error and return as python float\n",
    "    \"\"\"\n",
    "    error = 0.0\n",
    "    ##Your Code Here\n",
    "    return error"
   ]
  },
  {
   "cell_type": "code",
   "execution_count": 8,
   "id": "4de9cb8e",
   "metadata": {},
   "outputs": [
    {
     "name": "stdout",
     "output_type": "stream",
     "text": [
      "Your RMSE:  0.0\n",
      "Actual RMSE: 3.891313476219\n",
      "Status:  False\n"
     ]
    }
   ],
   "source": [
    "RMSE_check(RMSE_custom)"
   ]
  },
  {
   "cell_type": "markdown",
   "id": "75598af1",
   "metadata": {},
   "source": [
    "**Multivariable Linear Regression Prediction**"
   ]
  },
  {
   "cell_type": "code",
   "execution_count": 9,
   "id": "b0165e83",
   "metadata": {},
   "outputs": [],
   "source": [
    "def predict_multivariable(weights:np.array,x:np.array,bias:float) -> np.array:\n",
    "    \"\"\"\n",
    "    weights shape: (n, 1) | n: Feature count\n",
    "    x shape: (k,n) | k: Sample count, n: Feature count\n",
    "    bias: python float\n",
    "    Predict the output using weights and bias. Return it as numpy array in the shape (k,1). You may delete return part and add yours; it's for compatibility.\n",
    "    \"\"\"\n",
    "    #Your code here\n",
    "    return np.random.random((x.shape[0],1))"
   ]
  },
  {
   "cell_type": "code",
   "execution_count": 10,
   "id": "d77b86c5",
   "metadata": {},
   "outputs": [
    {
     "name": "stdout",
     "output_type": "stream",
     "text": [
      "Correct Count: 0/10\n"
     ]
    }
   ],
   "source": [
    "linear_prediction_check(predict_multivariable)"
   ]
  },
  {
   "cell_type": "markdown",
   "id": "503cef9b",
   "metadata": {},
   "source": [
    "**Linear Regression with bias**"
   ]
  },
  {
   "cell_type": "code",
   "execution_count": 11,
   "id": "85a63983",
   "metadata": {},
   "outputs": [],
   "source": [
    "def linear_custom(x:np.array,y:np.array,alpha=0.01,iter=100):\n",
    "    \"\"\"\n",
    "    x shape: (n,m) -> n: sample count, m: feature count\n",
    "    y shape: (n,1) -> n: sample count\n",
    "    Train a linear regression model and return weights and bias. Return: np.array sizeof (m,1), python float\n",
    "    \"\"\"\n",
    "    weights = np.zeros((x.shape[1],1))\n",
    "    bias = 0.0\n",
    "    return weights,bias"
   ]
  },
  {
   "cell_type": "code",
   "execution_count": 12,
   "id": "63a93839",
   "metadata": {},
   "outputs": [
    {
     "name": "stdout",
     "output_type": "stream",
     "text": [
      "Your MSE: 29.404203431297464\n",
      "Status False\n"
     ]
    }
   ],
   "source": [
    "linear_training_check(linear_custom)"
   ]
  },
  {
   "cell_type": "markdown",
   "id": "63bbcf28",
   "metadata": {},
   "source": [
    "**Logistic Regression Prediction**"
   ]
  },
  {
   "cell_type": "code",
   "execution_count": 13,
   "id": "aa751dff",
   "metadata": {},
   "outputs": [],
   "source": [
    "def logistic_prediction(x,weights,b):\n",
    "    \"\"\"\n",
    "    x shape: (n,m) | n:sample count , m: feature count\n",
    "    weights: (m,1) | m: feature count\n",
    "    b: python float\n",
    "    Take x,weights and b as parameters. Predict output using given parameters. Return np.array of shape (n,1)\n",
    "    \"\"\"\n",
    "    prediction = np.zeros((x.shape[0],1))\n",
    "    return prediction"
   ]
  },
  {
   "cell_type": "code",
   "execution_count": 14,
   "id": "897e2ab0",
   "metadata": {},
   "outputs": [
    {
     "name": "stdout",
     "output_type": "stream",
     "text": [
      "Correct Count: 0/10\n"
     ]
    }
   ],
   "source": [
    "logistic_predict_check(logistic_prediction)"
   ]
  },
  {
   "cell_type": "markdown",
   "id": "09e589b2",
   "metadata": {},
   "source": [
    "**Logistic Regression Training**"
   ]
  },
  {
   "cell_type": "code",
   "execution_count": 15,
   "id": "8bb795e1",
   "metadata": {},
   "outputs": [],
   "source": [
    "def logistic_custom(x:np.array,y:np.array,alpha=0.01,num_iter=100):\n",
    "    \"\"\"\n",
    "    x: np.array of shape (n,m)\n",
    "    y: np.array of shape (n,1)\n",
    "    Train a logistic regression model using x,y, alpha (Learning rate), and num_iter. Return the learned weights and bias\n",
    "    Return shape: (m,1)\n",
    "    \"\"\"\n",
    "    weights = np.zeros((x.shape[1],1))\n",
    "    bias = 0.0\n",
    "    return weights,bias"
   ]
  },
  {
   "cell_type": "code",
   "execution_count": 16,
   "id": "05a70c45",
   "metadata": {},
   "outputs": [
    {
     "name": "stdout",
     "output_type": "stream",
     "text": [
      "Status: Fail\n"
     ]
    }
   ],
   "source": [
    "logistic_training_check(logistic_custom)"
   ]
  }
 ],
 "metadata": {
  "kernelspec": {
   "display_name": ".venv (3.12.3)",
   "language": "python",
   "name": "python3"
  },
  "language_info": {
   "codemirror_mode": {
    "name": "ipython",
    "version": 3
   },
   "file_extension": ".py",
   "mimetype": "text/x-python",
   "name": "python",
   "nbconvert_exporter": "python",
   "pygments_lexer": "ipython3",
   "version": "3.12.3"
  }
 },
 "nbformat": 4,
 "nbformat_minor": 5
}
