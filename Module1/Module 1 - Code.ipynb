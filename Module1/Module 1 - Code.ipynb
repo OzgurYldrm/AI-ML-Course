{
 "cells": [
  {
   "cell_type": "code",
   "execution_count": 2,
   "id": "cf8d399f",
   "metadata": {},
   "outputs": [],
   "source": [
    "import numpy as np"
   ]
  },
  {
   "cell_type": "markdown",
   "id": "81593718",
   "metadata": {},
   "source": [
    "# Mean Sqaurred Error"
   ]
  },
  {
   "cell_type": "code",
   "execution_count": 3,
   "id": "b3a72302",
   "metadata": {},
   "outputs": [
    {
     "name": "stdout",
     "output_type": "stream",
     "text": [
      "10 10\n"
     ]
    }
   ],
   "source": [
    "y = np.array([50,60,70,40,20,15,75,85,12,89],dtype=np.float32)\n",
    "y_predicted = np.array([41.2,65,52.8,40.9,20,12.6,70.8,72.9,5.6,82.5],dtype=np.float32)\n",
    "print(y.size,y_predicted.size)"
   ]
  },
  {
   "cell_type": "code",
   "execution_count": 4,
   "id": "5a197133",
   "metadata": {},
   "outputs": [
    {
     "name": "stdout",
     "output_type": "stream",
     "text": [
      "65.21099853515625\n"
     ]
    }
   ],
   "source": [
    "from sklearn.metrics import mean_squared_error\n",
    "\n",
    "error = mean_squared_error(y_true=y,\n",
    "                           y_pred=y_predicted)\n",
    "\n",
    "print(error)"
   ]
  },
  {
   "cell_type": "code",
   "execution_count": 5,
   "id": "6dae5d06",
   "metadata": {},
   "outputs": [],
   "source": [
    "def MSE(y_true,y_pred):\n",
    "    n = y_true.size\n",
    "    error = 0\n",
    "    for i in range(n):\n",
    "        error += (y_true[i] - y_pred[i])**2\n",
    "    error /= n\n",
    "    return np.array(error,dtype=np.float64)"
   ]
  },
  {
   "cell_type": "code",
   "execution_count": 9,
   "id": "28638ef3",
   "metadata": {},
   "outputs": [],
   "source": [
    "def MSE_vector(y_true,y_pred):\n",
    "    n = y_true.size\n",
    "    error = y_true-y_pred\n",
    "    error = error ** 2\n",
    "    error = error.sum()\n",
    "    error = error / n\n",
    "    #or with just one line: return np.sum(np.square(y_pred-y_true)) / y_true.size\n",
    "    return np.array(error,dtype=np.float64)"
   ]
  },
  {
   "cell_type": "code",
   "execution_count": 10,
   "id": "3b0db40b",
   "metadata": {},
   "outputs": [
    {
     "name": "stdout",
     "output_type": "stream",
     "text": [
      "65.21099853515625\n",
      "65.21099853515625\n"
     ]
    }
   ],
   "source": [
    "error = MSE(y_true=y,y_pred=y_predicted)\n",
    "error_2 = MSE_vector(y_true=y, y_pred=y_predicted)\n",
    "print(error)\n",
    "print(error_2)"
   ]
  },
  {
   "cell_type": "markdown",
   "id": "df7ccd79",
   "metadata": {},
   "source": [
    "# Huber Loss - Smooth L1"
   ]
  },
  {
   "cell_type": "code",
   "execution_count": 3,
   "id": "790ac0de",
   "metadata": {},
   "outputs": [],
   "source": [
    "y = np.array([10,20,30])\n",
    "y_hat = np.array([15,18,40])"
   ]
  },
  {
   "cell_type": "code",
   "execution_count": 4,
   "id": "d01d9a78",
   "metadata": {},
   "outputs": [],
   "source": [
    "def huber_loss(y_pred, y_true, delta=1.0):\n",
    "    loss = 0.0\n",
    "    for i in range(y_pred.shape[0]):\n",
    "        error = y_pred[i] - y_true[i]\n",
    "        if abs(error) <= delta:\n",
    "            loss += 0.5 * (error ** 2)\n",
    "        else:\n",
    "            loss += delta * (abs(error) - 0.5 * delta)\n",
    "    return loss / y_pred.shape[0]"
   ]
  },
  {
   "cell_type": "code",
   "execution_count": 8,
   "id": "4f607a35",
   "metadata": {},
   "outputs": [
    {
     "data": {
      "text/plain": [
       "np.float64(15.333333333333334)"
      ]
     },
     "execution_count": 8,
     "metadata": {},
     "output_type": "execute_result"
    }
   ],
   "source": [
    "huber_loss(y,y_hat,delta=4)"
   ]
  },
  {
   "cell_type": "code",
   "execution_count": 11,
   "id": "23c302ca",
   "metadata": {},
   "outputs": [],
   "source": [
    "def smooth_l1_loss(y_true, y_pred, beta=1.0):\n",
    "    diff = np.abs(y_true - y_pred)\n",
    "    loss = np.where(\n",
    "        diff < beta,\n",
    "        0.5 * (diff ** 2) / beta,\n",
    "        diff - 0.5 * beta\n",
    "    )\n",
    "    print(loss)\n",
    "    return np.mean(loss)"
   ]
  },
  {
   "cell_type": "code",
   "execution_count": 12,
   "id": "8dff1ddb",
   "metadata": {},
   "outputs": [
    {
     "name": "stdout",
     "output_type": "stream",
     "text": [
      "[2.5 0.4 7.5]\n"
     ]
    },
    {
     "data": {
      "text/plain": [
       "np.float64(3.466666666666667)"
      ]
     },
     "execution_count": 12,
     "metadata": {},
     "output_type": "execute_result"
    }
   ],
   "source": [
    "smooth_l1_loss(y,y_hat,beta=5)"
   ]
  },
  {
   "cell_type": "markdown",
   "id": "9eb9afce",
   "metadata": {},
   "source": [
    "# Linear Regression Prediction"
   ]
  },
  {
   "cell_type": "code",
   "execution_count": 3,
   "id": "06f40e21",
   "metadata": {},
   "outputs": [],
   "source": [
    "w = 5\n",
    "b = 10\n",
    "inputs = np.array([5,10,15,20],dtype=np.float32)"
   ]
  },
  {
   "cell_type": "code",
   "execution_count": 4,
   "id": "b8429f39",
   "metadata": {},
   "outputs": [
    {
     "data": {
      "text/plain": [
       "array([ 35.,  60.,  85., 110.], dtype=float32)"
      ]
     },
     "execution_count": 4,
     "metadata": {},
     "output_type": "execute_result"
    }
   ],
   "source": [
    "def predict(inputs,w=0,b=0):\n",
    "    output = w * inputs + b\n",
    "    return output\n",
    "predict(inputs,w,b)"
   ]
  },
  {
   "cell_type": "code",
   "execution_count": 6,
   "id": "e153890b",
   "metadata": {},
   "outputs": [
    {
     "name": "stdout",
     "output_type": "stream",
     "text": [
      "(4, 3) (3, 1)\n",
      "[[ 14]\n",
      " [ 32]\n",
      " [-14]\n",
      " [-32]]\n"
     ]
    }
   ],
   "source": [
    "x =  np.array([[1,2,3],[4,5,6],[-1,-2,-3],[-4,-5,-6]])\n",
    "w = np.array([[1],[2],[3]])\n",
    "print(x.shape,w.shape)\n",
    "print(np.matmul(x,w))"
   ]
  },
  {
   "cell_type": "markdown",
   "id": "8239970c",
   "metadata": {},
   "source": [
    "# Linear Regression - Gradient Descent"
   ]
  },
  {
   "cell_type": "code",
   "execution_count": 15,
   "id": "e3ba8927",
   "metadata": {},
   "outputs": [],
   "source": [
    "x = np.random.random((1000,5))*10\n",
    "weights = np.array([[1],[2],[3],[4],[5]]) #Burası normalde bilinmez!!!\n",
    "y = np.matmul(x,weights)"
   ]
  },
  {
   "cell_type": "markdown",
   "id": "3f956a7c",
   "metadata": {},
   "source": [
    "## Iterative"
   ]
  },
  {
   "cell_type": "code",
   "execution_count": 20,
   "id": "93aa0f8d",
   "metadata": {},
   "outputs": [],
   "source": [
    "# For loop ile\n",
    "def linear_regression_fit_for(input,output,alpha=0.1,iter=10):\n",
    "    m = input.shape[1] #5\n",
    "    n = input.shape[0] #1000\n",
    "    w = np.random.random((m,1)) #5x1\n",
    "    print(w)\n",
    "    #print(\"w:\",w)\n",
    "    print(f\"input shape:{input.shape}\\noutput shape: {output.shape}\\nw shape: {w.shape}\")\n",
    "    for i in range(iter):\n",
    "        prediction = np.matmul(input,w)\n",
    "        error = (output - prediction).flatten()\n",
    "        for j in range(m):\n",
    "            grad_vec = input[:,j] * error\n",
    "            grad = grad_vec.sum()\n",
    "            w[j,0] += (2 * alpha * grad)/n\n",
    "    return w"
   ]
  },
  {
   "cell_type": "code",
   "execution_count": 21,
   "id": "ab8a647e",
   "metadata": {},
   "outputs": [
    {
     "name": "stdout",
     "output_type": "stream",
     "text": [
      "[[0.39904211]\n",
      " [0.17239073]\n",
      " [0.15078575]\n",
      " [0.71920645]\n",
      " [0.32194602]]\n",
      "input shape:(1000, 5)\n",
      "output shape: (1000, 1)\n",
      "w shape: (5, 1)\n",
      "[[1.]\n",
      " [2.]\n",
      " [3.]\n",
      " [4.]\n",
      " [5.]]\n"
     ]
    }
   ],
   "source": [
    "w = linear_regression_fit_for(x,y,0.001,10000)\n",
    "print(w)"
   ]
  },
  {
   "cell_type": "markdown",
   "id": "7bc9e2b9",
   "metadata": {},
   "source": [
    "## Matrix"
   ]
  },
  {
   "cell_type": "code",
   "execution_count": 16,
   "id": "28f036e4",
   "metadata": {},
   "outputs": [],
   "source": [
    "# Matrix ile\n",
    "def linear_regression_fit(input,output,alpha=0.1,iter=10):\n",
    "    m = input.shape[1] #5\n",
    "    n = input.shape[0] #1000\n",
    "    w = np.random.random((m,1)) #5x1\n",
    "    #print(\"w:\",w)\n",
    "    print(f\"input shape:{input.shape}\\noutput shape: {output.shape}\\nw shape: {w.shape}\")\n",
    "    for _ in range(iter):\n",
    "        pred = np.matmul(input, w)\n",
    "        error = output - pred\n",
    "        gradient_w = -2 * np.matmul(input.T, error) / n\n",
    "\n",
    "        w -= alpha * gradient_w\n",
    "\n",
    "    return w"
   ]
  },
  {
   "cell_type": "code",
   "execution_count": 24,
   "id": "40f2d756",
   "metadata": {},
   "outputs": [
    {
     "name": "stdout",
     "output_type": "stream",
     "text": [
      "input shape:(1000, 5)\n",
      "output shape: (1000, 1)\n",
      "w shape: (5, 1)\n",
      "[[1.]\n",
      " [2.]\n",
      " [3.]\n",
      " [4.]\n",
      " [5.]]\n"
     ]
    }
   ],
   "source": [
    "w = linear_regression_fit(x,y,alpha=0.001,iter=5000)\n",
    "print(w)"
   ]
  },
  {
   "cell_type": "markdown",
   "id": "2a5ce38c",
   "metadata": {},
   "source": [
    "## With sklearn"
   ]
  },
  {
   "cell_type": "code",
   "execution_count": 8,
   "id": "c737fec5",
   "metadata": {},
   "outputs": [
    {
     "name": "stdout",
     "output_type": "stream",
     "text": [
      "[[1. 2. 3. 4. 5.]]\n"
     ]
    }
   ],
   "source": [
    "from sklearn.linear_model import LinearRegression\n",
    "model = LinearRegression()\n",
    "model.fit(x,y)\n",
    "print(model.coef_)"
   ]
  },
  {
   "cell_type": "code",
   "execution_count": 9,
   "id": "76f3ffa1",
   "metadata": {},
   "outputs": [
    {
     "name": "stdout",
     "output_type": "stream",
     "text": [
      "[[55.]]\n",
      "[[55.]]\n"
     ]
    }
   ],
   "source": [
    "new_data = np.array([[1,2,3,4,5]])\n",
    "print(model.predict(new_data))\n",
    "print(np.matmul(new_data,w))"
   ]
  },
  {
   "cell_type": "markdown",
   "id": "e6650711",
   "metadata": {},
   "source": [
    "# Normal Equation"
   ]
  },
  {
   "cell_type": "code",
   "execution_count": 28,
   "id": "376f137f",
   "metadata": {},
   "outputs": [],
   "source": [
    "x = np.random.random((1000,5))*10\n",
    "weights = np.array([[1],[2],[3],[4],[5]]) #Burası normalde bilinmez!!!\n",
    "y = np.matmul(x,weights)"
   ]
  },
  {
   "cell_type": "code",
   "execution_count": 29,
   "id": "ec99d415",
   "metadata": {},
   "outputs": [],
   "source": [
    "def normal_equation(x,y):\n",
    "    first_part = np.linalg.inv(np.matmul(x.T,x))\n",
    "    second_part = np.matmul(x.T,y)\n",
    "    weights = np.matmul(first_part,second_part)\n",
    "    return weights"
   ]
  },
  {
   "cell_type": "code",
   "execution_count": 30,
   "id": "acd7c7b5",
   "metadata": {},
   "outputs": [
    {
     "name": "stdout",
     "output_type": "stream",
     "text": [
      "[[1.]\n",
      " [2.]\n",
      " [3.]\n",
      " [4.]\n",
      " [5.]]\n"
     ]
    }
   ],
   "source": [
    "w = normal_equation(x,y)\n",
    "print(w)"
   ]
  },
  {
   "cell_type": "markdown",
   "id": "947ee88b",
   "metadata": {},
   "source": [
    "# Binary Cross Entropy"
   ]
  },
  {
   "cell_type": "code",
   "execution_count": 7,
   "id": "e1121185",
   "metadata": {},
   "outputs": [],
   "source": [
    "y_true = np.array([1,1,0])\n",
    "y_pred = np.array([0.9,0.7,0.3])"
   ]
  },
  {
   "cell_type": "code",
   "execution_count": 8,
   "id": "69df03a1",
   "metadata": {},
   "outputs": [],
   "source": [
    "def bce(y_true,y_pred):\n",
    "    n = y_true.shape[0]\n",
    "    part_1 = y_true*np.log(y_pred)\n",
    "    part_2 = (1-y_true)*np.log(1-y_pred)\n",
    "    bce = - np.sum(part_1+part_2) / n\n",
    "    return bce"
   ]
  },
  {
   "cell_type": "code",
   "execution_count": 9,
   "id": "d8170034",
   "metadata": {},
   "outputs": [
    {
     "data": {
      "text/plain": [
       "np.float64(0.27290346784509706)"
      ]
     },
     "execution_count": 9,
     "metadata": {},
     "output_type": "execute_result"
    }
   ],
   "source": [
    "bce(y_true,y_pred)"
   ]
  },
  {
   "cell_type": "markdown",
   "id": "59bac465",
   "metadata": {},
   "source": [
    "# Sigmoid"
   ]
  },
  {
   "cell_type": "code",
   "execution_count": 15,
   "id": "98276277",
   "metadata": {},
   "outputs": [],
   "source": [
    "def sigmoid(z):\n",
    "    y = 1/(1+np.exp(-z))\n",
    "    return y"
   ]
  },
  {
   "cell_type": "markdown",
   "id": "6b2e0e7d",
   "metadata": {},
   "source": [
    "# Logistic Regression Prediction"
   ]
  },
  {
   "cell_type": "code",
   "execution_count": 16,
   "id": "f61348b4",
   "metadata": {},
   "outputs": [],
   "source": [
    "def log_reg_predict(w,b,input):\n",
    "    z = w*input + b\n",
    "    y = sigmoid(z)\n",
    "    return y"
   ]
  },
  {
   "cell_type": "code",
   "execution_count": 17,
   "id": "9a876ab2",
   "metadata": {},
   "outputs": [
    {
     "data": {
      "text/plain": [
       "np.float64(0.8807970779778823)"
      ]
     },
     "execution_count": 17,
     "metadata": {},
     "output_type": "execute_result"
    }
   ],
   "source": [
    "log_reg_predict(2,1,0.5)"
   ]
  },
  {
   "cell_type": "markdown",
   "id": "13468e10",
   "metadata": {},
   "source": [
    "# Logistic Regression - Gradient Descent"
   ]
  },
  {
   "cell_type": "markdown",
   "id": "c8b38404",
   "metadata": {},
   "source": [
    "## Grafik fonksiyonu - Data"
   ]
  },
  {
   "cell_type": "code",
   "execution_count": 11,
   "id": "86f5054c",
   "metadata": {},
   "outputs": [],
   "source": [
    "import matplotlib.pyplot as plt\n",
    "import numpy as np\n",
    "\n",
    "def plot_logistic_regression_line(X, y, w, b):\n",
    "    \"\"\"\n",
    "    X: (n, 2) numpy array (2 feature)\n",
    "    y: (n, 1) veya (n,) numpy array\n",
    "    w: (2, 1) weight vector\n",
    "    b: scalar bias\n",
    "    \"\"\"\n",
    "\n",
    "    # y düzleştirme\n",
    "    if y.ndim > 1:\n",
    "        y = y.flatten()\n",
    "\n",
    "    # Verileri çiz\n",
    "    plt.figure(figsize=(8, 6))\n",
    "    plt.scatter(X[y == 0][:, 0], X[y == 0][:, 1], color='red', label='Sınıf 0')\n",
    "    plt.scatter(X[y == 1][:, 0], X[y == 1][:, 1], color='blue', label='Sınıf 1')\n",
    "\n",
    "    # Karar sınırı çizgisi: w1*x1 + w2*x2 + b = 0  =>  x2 = -(w1*x1 + b)/w2\n",
    "    x1_vals = np.linspace(X[:, 0].min()-1, X[:, 0].max()+1, 100)\n",
    "    w1, w2 = w[0, 0], w[1, 0]\n",
    "    if w2 != 0:\n",
    "        x2_vals = -(w1 * x1_vals + b) / w2\n",
    "        plt.plot(x1_vals, x2_vals, 'k--', label='Karar Sınırı')\n",
    "    else:\n",
    "        plt.axvline(x=-b / w1, color='k', linestyle='--', label='Karar Sınırı (dikey)')\n",
    "\n",
    "    plt.xlabel(\"Feature 1\")\n",
    "    plt.ylabel(\"Feature 2\")\n",
    "    plt.title(\"Logistic Regression Sınıflandırması\")\n",
    "    plt.legend()\n",
    "    plt.grid(True)\n",
    "    plt.show()"
   ]
  },
  {
   "cell_type": "code",
   "execution_count": 12,
   "id": "9c44a50e",
   "metadata": {},
   "outputs": [],
   "source": [
    "import numpy as np\n",
    "true_weights = np.array([[1.2], [-0.8]])\n",
    "x = np.random.randn(1000, 2)\n",
    "def sigmoid(z):\n",
    "    return 1 / (1 + np.exp(-z))\n",
    "z = x @ true_weights\n",
    "y_prob = sigmoid(z)\n",
    "y = (y_prob > 0.5).astype(int)"
   ]
  },
  {
   "cell_type": "markdown",
   "id": "7b91c1be",
   "metadata": {},
   "source": [
    "## Iterative"
   ]
  },
  {
   "cell_type": "code",
   "execution_count": 13,
   "id": "3437d9b9",
   "metadata": {},
   "outputs": [],
   "source": [
    "def logistic_regression_model(x,y,alpha=0.01,iter=100):\n",
    "    n = x.shape[0]\n",
    "    m = x.shape[1]\n",
    "    w = np.random.random((m,1))\n",
    "    print(f\"input shape:{x.shape}\\noutput shape: {y.shape}\\nw shape: {w.shape}\")\n",
    "    for i in range(iter):\n",
    "        z = np.matmul(x,w)\n",
    "        pred = 1 / (1 + np.exp(-z))\n",
    "        error = (pred - y)\n",
    "        for j in range(m):\n",
    "            grad_vec = x[:,j] * error.flatten()\n",
    "            grad = grad_vec.sum()\n",
    "            w[j,0] -= (alpha * grad)/n\n",
    "    return w"
   ]
  },
  {
   "cell_type": "code",
   "execution_count": 14,
   "id": "6d11737d",
   "metadata": {},
   "outputs": [
    {
     "name": "stdout",
     "output_type": "stream",
     "text": [
      "input shape:(1000, 2)\n",
      "output shape: (1000, 1)\n",
      "w shape: (2, 1)\n"
     ]
    },
    {
     "data": {
      "text/plain": [
       "array([[ 1.57008027],\n",
       "       [-0.87472433]])"
      ]
     },
     "execution_count": 14,
     "metadata": {},
     "output_type": "execute_result"
    }
   ],
   "source": [
    "w_iter = logistic_regression_model(x,y,0.001,10000)\n",
    "w_iter"
   ]
  },
  {
   "cell_type": "markdown",
   "id": "a4b3cbcd",
   "metadata": {},
   "source": [
    "## Matrix"
   ]
  },
  {
   "cell_type": "code",
   "execution_count": 15,
   "id": "796757fd",
   "metadata": {},
   "outputs": [],
   "source": [
    "def logistic_regression_model_matrix(x,y,alpha=0.01,iter=100):\n",
    "    n = x.shape[0]\n",
    "    m = x.shape[1]\n",
    "    w = np.random.random((m,1))\n",
    "    print(f\"input shape:{x.shape}\\noutput shape: {y.shape}\\nw shape: {w.shape}\")\n",
    "    for i in range(iter):\n",
    "        z = np.matmul(x,w)\n",
    "        pred = 1 / (1 + np.exp(-z))\n",
    "        error = (pred - y)\n",
    "        grad = np.matmul(x.T,error)\n",
    "        w -= alpha * grad / n\n",
    "        \n",
    "    return w"
   ]
  },
  {
   "cell_type": "code",
   "execution_count": 16,
   "id": "da87b36e",
   "metadata": {},
   "outputs": [
    {
     "name": "stdout",
     "output_type": "stream",
     "text": [
      "input shape:(1000, 2)\n",
      "output shape: (1000, 1)\n",
      "w shape: (2, 1)\n"
     ]
    },
    {
     "data": {
      "text/plain": [
       "array([[ 1.39655014],\n",
       "       [-0.66191521]])"
      ]
     },
     "execution_count": 16,
     "metadata": {},
     "output_type": "execute_result"
    }
   ],
   "source": [
    "w_matrix = logistic_regression_model_matrix(x,y,0.0001,50000)\n",
    "w_matrix"
   ]
  },
  {
   "cell_type": "markdown",
   "id": "a8725b5a",
   "metadata": {},
   "source": [
    "## With sklearn"
   ]
  },
  {
   "cell_type": "code",
   "execution_count": 164,
   "id": "6f06ef30",
   "metadata": {},
   "outputs": [
    {
     "data": {
      "text/plain": [
       "array([[ 7.09088245, -4.7013614 ]])"
      ]
     },
     "execution_count": 164,
     "metadata": {},
     "output_type": "execute_result"
    }
   ],
   "source": [
    "from sklearn.linear_model import LogisticRegression\n",
    "model = LogisticRegression(fit_intercept=False)\n",
    "model.fit(x,y.flatten())\n",
    "w_sklearn = model.coef_\n",
    "w_sklearn"
   ]
  },
  {
   "cell_type": "markdown",
   "id": "f34efe7d",
   "metadata": {},
   "source": [
    "## Results"
   ]
  },
  {
   "cell_type": "code",
   "execution_count": null,
   "id": "e6b05c2a",
   "metadata": {},
   "outputs": [],
   "source": [
    "plot_logistic_regression_line(x,y,w_iter,0)"
   ]
  },
  {
   "cell_type": "code",
   "execution_count": 17,
   "id": "63c468ce",
   "metadata": {},
   "outputs": [
    {
     "data": {
      "image/png": "[encoded data removed]",
      "text/plain": [
       "<Figure size 800x600 with 1 Axes>"
      ]
     },
     "metadata": {},
     "output_type": "display_data"
    }
   ],
   "source": [
    "plot_logistic_regression_line(x,y,w_matrix,0)"
   ]
  },
  {
   "cell_type": "code",
   "execution_count": null,
   "id": "3b42b587",
   "metadata": {},
   "outputs": [],
   "source": [
    "plot_logistic_regression_line(x,y,w_sklearn.reshape(2,1),0)"
   ]
  }
 ],
 "metadata": {
  "kernelspec": {
   "display_name": ".venv (3.12.3)",
   "language": "python",
   "name": "python3"
  },
  "language_info": {
   "codemirror_mode": {
    "name": "ipython",
    "version": 3
   },
   "file_extension": ".py",
   "mimetype": "text/x-python",
   "name": "python",
   "nbconvert_exporter": "python",
   "pygments_lexer": "ipython3",
   "version": "3.12.3"
  }
 },
 "nbformat": 4,
 "nbformat_minor": 5
}
