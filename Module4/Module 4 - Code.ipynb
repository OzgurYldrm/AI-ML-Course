{
 "cells": [
  {
   "cell_type": "code",
   "execution_count": 2,
   "id": "7eb678d3",
   "metadata": {},
   "outputs": [],
   "source": [
    "import torch\n",
    "import torch.nn as nn"
   ]
  },
  {
   "cell_type": "markdown",
   "id": "68ec6624",
   "metadata": {},
   "source": [
    "# Torch Tensor"
   ]
  },
  {
   "cell_type": "code",
   "execution_count": 23,
   "id": "aed5ad41",
   "metadata": {},
   "outputs": [
    {
     "name": "stdout",
     "output_type": "stream",
     "text": [
      "tensor([1., 2., 3.])\n"
     ]
    }
   ],
   "source": [
    "x = torch.tensor([1, 2, 3],dtype=torch.float32)\n",
    "print(x)"
   ]
  },
  {
   "cell_type": "code",
   "execution_count": 24,
   "id": "90a59372",
   "metadata": {},
   "outputs": [],
   "source": [
    "a = torch.zeros(3, 3)      # 3x3 sıfırlardan oluşan tensor\n",
    "b = torch.ones(2, 4)       # 2x4 birlerden oluşan tensor\n",
    "c = torch.rand(2, 3)       # 2x3 [0,1) arası rastgele sayı\n",
    "d = torch.arange(0, 10, 2) # 0'dan 10'a kadar 2’şer artış"
   ]
  },
  {
   "cell_type": "code",
   "execution_count": 27,
   "id": "c6609d5a",
   "metadata": {},
   "outputs": [
    {
     "name": "stdout",
     "output_type": "stream",
     "text": [
      "torch.Size([3, 4, 5])\n",
      "3\n",
      "torch.float32\n"
     ]
    }
   ],
   "source": [
    "t = torch.rand(3, 4, 5)  \n",
    "print(t.shape)   # (3, 4, 5)\n",
    "print(t.ndim)    # 3 boyut\n",
    "print(t.dtype)   # default float32"
   ]
  },
  {
   "cell_type": "code",
   "execution_count": 28,
   "id": "6919ade3",
   "metadata": {},
   "outputs": [
    {
     "name": "stdout",
     "output_type": "stream",
     "text": [
      "tensor(0)\n",
      "tensor(9)\n",
      "tensor([2, 3, 4, 5, 6])\n",
      "tensor([4, 5, 6, 7])\n",
      "tensor([ 2,  6, 10, 14])\n"
     ]
    }
   ],
   "source": [
    "x = torch.arange(10)  # [0,1,2,...,9]\n",
    "print(x[0])    # ilk eleman\n",
    "print(x[-1])   # son eleman\n",
    "print(x[2:7])  # slicing\n",
    "\n",
    "mat = torch.arange(16).reshape(4,4)\n",
    "print(mat[1, :])   # 1. satır\n",
    "print(mat[:, 2])   # 2. sütun"
   ]
  },
  {
   "cell_type": "code",
   "execution_count": 31,
   "id": "33e12d01",
   "metadata": {},
   "outputs": [
    {
     "name": "stdout",
     "output_type": "stream",
     "text": [
      "tensor([5, 7, 9])\n",
      "tensor([ 4, 10, 18])\n",
      "tensor(32.)\n"
     ]
    }
   ],
   "source": [
    "a = torch.tensor([1, 2, 3])\n",
    "b = torch.tensor([4, 5, 6])\n",
    "\n",
    "print(a + b)       # toplama\n",
    "print(a * b)       # çarpma (eleman bazlı)\n",
    "print(torch.dot(a.float(), b.float())) # dot product"
   ]
  },
  {
   "cell_type": "code",
   "execution_count": 33,
   "id": "03bfee40",
   "metadata": {},
   "outputs": [
    {
     "name": "stdout",
     "output_type": "stream",
     "text": [
      "tensor([1., 3.])\n",
      "tensor([1., 3.])\n",
      "tensor([[1., 3.],\n",
      "        [2., 4.]])\n"
     ]
    }
   ],
   "source": [
    "M = torch.tensor([[1., 2.], [3., 4.]])\n",
    "v = torch.tensor([1., 0.])\n",
    "\n",
    "print(M @ v)                # matris çarpımı\n",
    "print(torch.matmul(M, v))   # matris çarpımı\n",
    "print(M.T)                  # transpoz"
   ]
  },
  {
   "cell_type": "code",
   "execution_count": 34,
   "id": "0b18206e",
   "metadata": {},
   "outputs": [
    {
     "name": "stdout",
     "output_type": "stream",
     "text": [
      "tensor([[0, 1, 2],\n",
      "        [3, 4, 5]])\n",
      "torch.Size([3, 4])\n",
      "torch.Size([1, 1, 3, 1, 4])\n"
     ]
    }
   ],
   "source": [
    "x = torch.arange(6)         # [0,1,2,3,4,5]\n",
    "print(x.view(2,3))          # reshape\n",
    "\n",
    "y = torch.rand(1,3,1,4)\n",
    "print(y.squeeze().shape)    # boyutu 1 olan eksenleri atar\n",
    "print(y.unsqueeze(0).shape) # yeni eksen ekler"
   ]
  },
  {
   "cell_type": "markdown",
   "id": "6eb4d0b7",
   "metadata": {},
   "source": [
    "# Activation functions"
   ]
  },
  {
   "cell_type": "markdown",
   "id": "d439a43d",
   "metadata": {},
   "source": [
    "## Threshold like"
   ]
  },
  {
   "cell_type": "code",
   "execution_count": 3,
   "id": "89bceeab",
   "metadata": {},
   "outputs": [
    {
     "name": "stdout",
     "output_type": "stream",
     "text": [
      "tensor(11)\n",
      "tensor(-1)\n"
     ]
    }
   ],
   "source": [
    "from torch.nn import Threshold\n",
    "threshold_af = Threshold(threshold=10,value=-1)\n",
    "print(threshold_af(torch.tensor(11)))\n",
    "print(threshold_af(torch.tensor(9)))"
   ]
  },
  {
   "cell_type": "code",
   "execution_count": 7,
   "id": "0870294a",
   "metadata": {},
   "outputs": [
    {
     "name": "stdout",
     "output_type": "stream",
     "text": [
      "Hardshrink\n",
      "tensor(0.)\n",
      "tensor(0.6000)\n",
      "\n",
      "SoftShrink\n",
      "tensor(0.)\n",
      "tensor(9.5000)\n",
      "\n",
      "tanhshrink\n",
      "tensor(0.)\n",
      "tensor(0.0087)\n",
      "tensor(0.0630)\n"
     ]
    }
   ],
   "source": [
    "from torch.nn import Hardshrink,Softshrink,Tanhshrink\n",
    "print(\"Hardshrink\")\n",
    "af = Hardshrink(lambd=0.5)\n",
    "print(af(torch.tensor(0.3)))\n",
    "print(af(torch.tensor(0.6)))\n",
    "\n",
    "print(\"\\nSoftShrink\")\n",
    "af = Softshrink(lambd=0.5)\n",
    "print(af(torch.tensor(0.3)))\n",
    "print(af(torch.tensor(10.)))\n",
    "\n",
    "print(\"\\ntanhshrink\")\n",
    "af = Tanhshrink()\n",
    "print(af(torch.tensor(0.00000005)))\n",
    "print(af(torch.tensor(0.3)))\n",
    "print(af(torch.tensor(0.6)))"
   ]
  },
  {
   "cell_type": "markdown",
   "id": "c96fc4b9",
   "metadata": {},
   "source": [
    "## Sigmoid like"
   ]
  },
  {
   "cell_type": "code",
   "execution_count": 3,
   "id": "c2e9e001",
   "metadata": {},
   "outputs": [
    {
     "name": "stdout",
     "output_type": "stream",
     "text": [
      "tensor(0.0067)\n",
      "tensor(0.5000)\n",
      "tensor(1.0000)\n"
     ]
    }
   ],
   "source": [
    "from torch.nn import Sigmoid\n",
    "sigmoid_af = Sigmoid()\n",
    "print(sigmoid_af(torch.tensor(-5)))\n",
    "print(sigmoid_af(torch.tensor(0)))\n",
    "print(sigmoid_af(torch.tensor(10)))"
   ]
  },
  {
   "cell_type": "code",
   "execution_count": 6,
   "id": "f0adeae1",
   "metadata": {},
   "outputs": [
    {
     "name": "stdout",
     "output_type": "stream",
     "text": [
      "tensor(-5.0067)\n",
      "tensor(-0.6931)\n",
      "tensor(-4.5399e-05)\n"
     ]
    }
   ],
   "source": [
    "from torch.nn import LogSigmoid\n",
    "af = LogSigmoid()\n",
    "print(af(torch.tensor(-5,dtype=torch.float32)))\n",
    "print(af(torch.tensor(0,dtype=torch.float32)))\n",
    "print(af(torch.tensor(10,dtype=torch.float32)))"
   ]
  },
  {
   "cell_type": "code",
   "execution_count": 7,
   "id": "8156b732",
   "metadata": {},
   "outputs": [
    {
     "name": "stdout",
     "output_type": "stream",
     "text": [
      "tensor(-0.9999)\n",
      "tensor(0.)\n",
      "tensor(1.)\n"
     ]
    }
   ],
   "source": [
    "from torch.nn import Tanh\n",
    "af = Tanh()\n",
    "print(af(torch.tensor(-5,dtype=torch.float32)))\n",
    "print(af(torch.tensor(0,dtype=torch.float32)))\n",
    "print(af(torch.tensor(10,dtype=torch.float32)))"
   ]
  },
  {
   "cell_type": "code",
   "execution_count": 9,
   "id": "f12ef62d",
   "metadata": {},
   "outputs": [
    {
     "name": "stdout",
     "output_type": "stream",
     "text": [
      "tensor(0.)\n",
      "tensor(0.5000)\n",
      "tensor(1.)\n",
      "tensor(-1.)\n",
      "tensor(0.)\n",
      "tensor(1.)\n"
     ]
    }
   ],
   "source": [
    "from torch.nn import Hardsigmoid,Hardtanh\n",
    "af = Hardsigmoid()\n",
    "print(af(torch.tensor(-5,dtype=torch.float32)))\n",
    "print(af(torch.tensor(0,dtype=torch.float32)))\n",
    "print(af(torch.tensor(10,dtype=torch.float32)))\n",
    "\n",
    "af = Hardtanh()\n",
    "print(af(torch.tensor(-5,dtype=torch.float32)))\n",
    "print(af(torch.tensor(0,dtype=torch.float32)))\n",
    "print(af(torch.tensor(10,dtype=torch.float32)))"
   ]
  },
  {
   "cell_type": "markdown",
   "id": "28f61319",
   "metadata": {},
   "source": [
    "## Softmax like"
   ]
  },
  {
   "cell_type": "code",
   "execution_count": 10,
   "id": "9a5887ef",
   "metadata": {},
   "outputs": [
    {
     "name": "stdout",
     "output_type": "stream",
     "text": [
      "tensor([0.6590, 0.2424, 0.0986])\n",
      "tensor([-0.4170, -1.4170, -2.3170])\n"
     ]
    }
   ],
   "source": [
    "from torch.nn import Softmax,LogSoftmax\n",
    "softmax_af = Softmax(dim=0)\n",
    "logsoftmax_af = LogSoftmax(dim=0)\n",
    "print(softmax_af(torch.tensor([2.0,1.0,0.1])))\n",
    "print(logsoftmax_af(torch.tensor([2.0,1.0,0.1])))"
   ]
  },
  {
   "cell_type": "code",
   "execution_count": 11,
   "id": "9d94b286",
   "metadata": {},
   "outputs": [
    {
     "name": "stdout",
     "output_type": "stream",
     "text": [
      "tensor([0.0961, 0.2613, 0.6426])\n"
     ]
    }
   ],
   "source": [
    "from torch.nn import Softmin\n",
    "af = Softmin(dim=0)\n",
    "print(af(torch.tensor([2.0,1.0,0.1])))"
   ]
  },
  {
   "cell_type": "markdown",
   "id": "f7aa9b5d",
   "metadata": {},
   "source": [
    "## ReLU like"
   ]
  },
  {
   "cell_type": "code",
   "execution_count": 13,
   "id": "9225c4cb",
   "metadata": {},
   "outputs": [
    {
     "name": "stdout",
     "output_type": "stream",
     "text": [
      "tensor(11)\n",
      "tensor(0)\n"
     ]
    }
   ],
   "source": [
    "from torch.nn import ReLU\n",
    "relu_af = ReLU()\n",
    "print(relu_af(torch.tensor(11)))\n",
    "print(relu_af(torch.tensor(0)))"
   ]
  },
  {
   "cell_type": "code",
   "execution_count": 14,
   "id": "9ea2e31d",
   "metadata": {},
   "outputs": [
    {
     "name": "stdout",
     "output_type": "stream",
     "text": [
      "tensor(11.)\n",
      "tensor(-0.0100)\n"
     ]
    }
   ],
   "source": [
    "from torch.nn import ReLU,ReLU6,RReLU,PReLU,LeakyReLU,Softplus,GELU,SiLU,Hardswish,Mish\n",
    "relu_af = LeakyReLU()\n",
    "print(relu_af(torch.tensor(11,dtype=torch.float32)))\n",
    "print(relu_af(torch.tensor(-1,dtype=torch.float32)))"
   ]
  },
  {
   "cell_type": "markdown",
   "id": "7347d73f",
   "metadata": {},
   "source": [
    "## ELU like"
   ]
  },
  {
   "cell_type": "code",
   "execution_count": 4,
   "id": "69623d8d",
   "metadata": {},
   "outputs": [
    {
     "name": "stdout",
     "output_type": "stream",
     "text": [
      "tensor(11.)\n",
      "tensor(-0.6321)\n",
      "tensor(11.5577)\n",
      "tensor(-1.1113)\n",
      "tensor(11.)\n",
      "tensor(-0.6321)\n"
     ]
    }
   ],
   "source": [
    "from torch.nn import ELU,SELU,CELU\n",
    "af = ELU(alpha=1.0)\n",
    "print(af(torch.tensor(11,dtype=torch.float32)))\n",
    "print(af(torch.tensor(-1,dtype=torch.float32)))\n",
    "\n",
    "af = SELU()\n",
    "print(af(torch.tensor(11,dtype=torch.float32)))\n",
    "print(af(torch.tensor(-1,dtype=torch.float32)))\n",
    "\n",
    "af = CELU(alpha=1.0)\n",
    "print(af(torch.tensor(11,dtype=torch.float32)))\n",
    "print(af(torch.tensor(-1,dtype=torch.float32)))"
   ]
  },
  {
   "cell_type": "markdown",
   "id": "814c093a",
   "metadata": {},
   "source": [
    "# Simple Neural Network"
   ]
  },
  {
   "cell_type": "code",
   "execution_count": 8,
   "id": "c08b0147",
   "metadata": {},
   "outputs": [
    {
     "name": "stdout",
     "output_type": "stream",
     "text": [
      "tensor([0.4470], grad_fn=<SigmoidBackward0>)\n"
     ]
    }
   ],
   "source": [
    "import torch.nn as nn\n",
    "class SimpleNN(nn.Module):\n",
    "    def __init__(self):\n",
    "        super(SimpleNN, self).__init__()\n",
    "        self.layers = nn.Sequential(\n",
    "            nn.Linear(2, 4),\n",
    "            nn.ReLU(),\n",
    "            nn.Linear(4, 1),\n",
    "            nn.Sigmoid()\n",
    "        )\n",
    "\n",
    "    def forward(self, x):\n",
    "        return self.layers(x)\n",
    "    \n",
    "model = SimpleNN()\n",
    "output = model(torch.tensor([1.0,2.0]))\n",
    "print(output)"
   ]
  },
  {
   "cell_type": "code",
   "execution_count": 10,
   "id": "05cfdbff",
   "metadata": {},
   "outputs": [
    {
     "name": "stdout",
     "output_type": "stream",
     "text": [
      "tensor([0.4010], grad_fn=<SigmoidBackward0>)\n"
     ]
    }
   ],
   "source": [
    "class SimpleNN(nn.Module):\n",
    "    def __init__(self):\n",
    "        super(SimpleNN, self).__init__()\n",
    "        self.fc1 = nn.Linear(2, 4)\n",
    "        self.relu = nn.ReLU()\n",
    "        self.fc2 = nn.Linear(4, 1)\n",
    "        self.sigmoid = nn.Sigmoid()\n",
    "\n",
    "    def forward(self, x):\n",
    "        x = self.fc1(x)\n",
    "        x = self.relu(x)\n",
    "        x = self.fc2(x)\n",
    "        x = self.sigmoid(x)\n",
    "        return x\n",
    "    \n",
    "model = SimpleNN()\n",
    "output = model(torch.tensor([1.0,2.0]))\n",
    "print(output)"
   ]
  },
  {
   "cell_type": "markdown",
   "id": "9f5cf747",
   "metadata": {},
   "source": [
    "# Backpropagation"
   ]
  },
  {
   "cell_type": "code",
   "execution_count": 12,
   "id": "687fa429",
   "metadata": {},
   "outputs": [
    {
     "name": "stdout",
     "output_type": "stream",
     "text": [
      "fc1 weight gradients (∂L/∂w1):\n",
      "tensor([[-0.0450, -0.0900],\n",
      "        [-0.0540, -0.1080]])\n",
      "\n",
      "fc2 weight gradients (∂L/∂w2):\n",
      "tensor([[-0.0450, -0.0990]])\n",
      "\n",
      "Prediction: 0.9100000262260437\n",
      "Loss: 0.00404999777674675\n"
     ]
    }
   ],
   "source": [
    "import torch\n",
    "import torch.nn as nn\n",
    "\n",
    "x = torch.tensor([[1.0, 2.0]]) \n",
    "y_true = torch.tensor([[1.0]])\n",
    "\n",
    "class SimpleNN(nn.Module):\n",
    "    def __init__(self):\n",
    "        super().__init__()\n",
    "        self.fc1 = nn.Linear(2, 2, bias=False)\n",
    "        self.fc2 = nn.Linear(2, 1, bias=False)\n",
    "\n",
    "        with torch.no_grad():\n",
    "            self.fc1.weight.copy_(torch.tensor([[0.1, 0.2],\n",
    "                                                [0.3, 0.4]]))\n",
    "            self.fc2.weight.copy_(torch.tensor([[0.5, 0.6]]))\n",
    "\n",
    "    def forward(self, x):\n",
    "        x = self.fc1(x)          \n",
    "        x = self.fc2(x)\n",
    "        x = torch.relu(x)\n",
    "        return x\n",
    "\n",
    "\n",
    "model = SimpleNN()\n",
    "criterion = nn.MSELoss()\n",
    "\n",
    "y_pred = model(x)\n",
    "loss = 0.5 * criterion(y_pred, y_true)\n",
    "\n",
    "loss.backward()\n",
    "\n",
    "# 6. Gradyanlar\n",
    "print(\"fc1 weight gradients (∂L/∂w1):\")\n",
    "print(model.fc1.weight.grad)\n",
    "\n",
    "print(\"\\nfc2 weight gradients (∂L/∂w2):\")\n",
    "print(model.fc2.weight.grad)\n",
    "\n",
    "print(\"\\nPrediction:\", y_pred.item())\n",
    "print(\"Loss:\", loss.item())\n"
   ]
  },
  {
   "cell_type": "markdown",
   "id": "41e35a1d",
   "metadata": {},
   "source": [
    "# Loss Functions in Torch"
   ]
  },
  {
   "cell_type": "code",
   "execution_count": 13,
   "id": "11f9bde5",
   "metadata": {},
   "outputs": [],
   "source": [
    "from torch.nn import MSELoss,L1Loss,HuberLoss\n",
    "MSE = MSELoss()\n",
    "L1 = L1Loss()\n",
    "huber = HuberLoss()"
   ]
  },
  {
   "cell_type": "code",
   "execution_count": 14,
   "id": "1e41efcc",
   "metadata": {},
   "outputs": [],
   "source": [
    "from torch.nn import BCELoss,BCEWithLogitsLoss\n",
    "BCE = BCELoss()\n",
    "BCE_logit = BCEWithLogitsLoss()"
   ]
  },
  {
   "cell_type": "code",
   "execution_count": 19,
   "id": "1ff8319c",
   "metadata": {},
   "outputs": [
    {
     "name": "stdout",
     "output_type": "stream",
     "text": [
      "tensor(0.4170, grad_fn=<NllLossBackward0>)\n",
      "tensor(0.4170)\n"
     ]
    }
   ],
   "source": [
    "from torch.nn import CrossEntropyLoss,NLLLoss\n",
    "ce = CrossEntropyLoss()\n",
    "nll = NLLLoss()\n",
    "\n",
    "x_logit = torch.tensor([[2.0,1.0,0.1]],dtype=torch.float32)\n",
    "x = torch.tensor([[-0.4170, -1.4170, -2.3170]],dtype=torch.float32,requires_grad=True)\n",
    "y = torch.tensor([0])\n",
    "\n",
    "print(nll(x,y))\n",
    "print(ce(x_logit,y))"
   ]
  },
  {
   "cell_type": "markdown",
   "id": "f043c94c",
   "metadata": {},
   "source": [
    "# Optimizers"
   ]
  },
  {
   "cell_type": "markdown",
   "id": "0636b4b7",
   "metadata": {},
   "source": [
    "## SGD - Momentum - ASGD"
   ]
  },
  {
   "cell_type": "code",
   "execution_count": 9,
   "id": "03d4adc5",
   "metadata": {},
   "outputs": [
    {
     "name": "stdout",
     "output_type": "stream",
     "text": [
      "Epoch 1 - Loss: 1.6148\n",
      "Epoch 2 - Loss: 1.5745\n",
      "Epoch 3 - Loss: 1.5363\n",
      "Epoch 4 - Loss: 1.5000\n",
      "Epoch 5 - Loss: 1.4655\n"
     ]
    }
   ],
   "source": [
    "import torch\n",
    "import torch.nn as nn\n",
    "import torch.optim as optim\n",
    "\n",
    "model = nn.Linear(10, 1)\n",
    "criterion = nn.MSELoss()\n",
    "optimizer = optim.SGD(model.parameters(), lr=0.01, weight_decay=0.1)\n",
    "\n",
    "x = torch.randn(20, 10)\n",
    "y = torch.randn(20, 1)\n",
    "\n",
    "for epoch in range(5):\n",
    "    model.train()\n",
    "    optimizer.zero_grad()\n",
    "    output = model(x)\n",
    "    loss = criterion(output, y)\n",
    "    loss.backward()\n",
    "    optimizer.step()\n",
    "    print(f\"Epoch {epoch+1} - Loss: {loss.item():.4f}\")"
   ]
  },
  {
   "cell_type": "code",
   "execution_count": 10,
   "id": "0032b0ec",
   "metadata": {},
   "outputs": [
    {
     "name": "stdout",
     "output_type": "stream",
     "text": [
      "Epoch 1 - Loss: 1.0142\n",
      "Epoch 2 - Loss: 1.0037\n",
      "Epoch 3 - Loss: 0.9848\n",
      "Epoch 4 - Loss: 0.9605\n",
      "Epoch 5 - Loss: 0.9337\n"
     ]
    }
   ],
   "source": [
    "import torch\n",
    "import torch.nn as nn\n",
    "import torch.optim as optim\n",
    "\n",
    "model = nn.Linear(10, 1)\n",
    "criterion = nn.MSELoss()\n",
    "optimizer = optim.SGD(model.parameters(), lr=0.01,momentum=0.9)\n",
    "\n",
    "x = torch.randn(20, 10)\n",
    "y = torch.randn(20, 1)\n",
    "\n",
    "for epoch in range(5):\n",
    "    model.train()\n",
    "    optimizer.zero_grad()\n",
    "    output = model(x)\n",
    "    loss = criterion(output, y)\n",
    "    loss.backward()\n",
    "    optimizer.step()\n",
    "    print(f\"Epoch {epoch+1} - Loss: {loss.item():.4f}\")"
   ]
  },
  {
   "cell_type": "code",
   "execution_count": 11,
   "id": "f83e71eb",
   "metadata": {},
   "outputs": [
    {
     "name": "stdout",
     "output_type": "stream",
     "text": [
      "Epoch 1 - Loss: 1.8399\n",
      "Epoch 1, Param 0: step=1.0, averaging started=False\n",
      "Epoch 1, Param 1: step=1.0, averaging started=False\n",
      "Epoch 2 - Loss: 1.7920\n",
      "Epoch 2, Param 0: step=2.0, averaging started=False\n",
      "Epoch 2, Param 1: step=2.0, averaging started=False\n",
      "Epoch 3 - Loss: 1.7479\n",
      "Epoch 3, Param 0: step=3.0, averaging started=True\n",
      "Epoch 3, Param 1: step=3.0, averaging started=True\n",
      "Epoch 4 - Loss: 1.7073\n",
      "Epoch 4, Param 0: step=4.0, averaging started=True\n",
      "Epoch 4, Param 1: step=4.0, averaging started=True\n",
      "Epoch 5 - Loss: 1.6699\n",
      "Epoch 5, Param 0: step=5.0, averaging started=True\n",
      "Epoch 5, Param 1: step=5.0, averaging started=True\n"
     ]
    }
   ],
   "source": [
    "import torch\n",
    "import torch.nn as nn\n",
    "import torch.optim as optim\n",
    "\n",
    "model = nn.Linear(10, 1)\n",
    "criterion = nn.MSELoss()\n",
    "optimizer = optim.ASGD(model.parameters(),lr=0.01,t0=3)\n",
    "\n",
    "x = torch.randn(20, 10)\n",
    "y = torch.randn(20, 1)\n",
    "\n",
    "for epoch in range(5):\n",
    "    model.train()\n",
    "    optimizer.zero_grad()\n",
    "    output = model(x)\n",
    "    loss = criterion(output, y)\n",
    "    loss.backward()\n",
    "    optimizer.step()\n",
    "    print(f\"Epoch {epoch+1} - Loss: {loss.item():.4f}\")\n",
    "\n",
    "    for i, param in enumerate(model.parameters()):\n",
    "        state = optimizer.state[param]\n",
    "        step = state.get('step', 0)\n",
    "        t0 = optimizer.param_groups[0].get('t0', 1)\n",
    "        averaging_started = step >= t0\n",
    "        print(f\"Epoch {epoch+1}, Param {i}: step={step}, averaging started={averaging_started}\")"
   ]
  },
  {
   "cell_type": "markdown",
   "id": "bd5c35ef",
   "metadata": {},
   "source": [
    "## AdaGrad - RMSProp - Adadelta"
   ]
  },
  {
   "cell_type": "code",
   "execution_count": 12,
   "id": "0995c46b",
   "metadata": {},
   "outputs": [
    {
     "name": "stdout",
     "output_type": "stream",
     "text": [
      "Epoch 1 - Loss: 1.7048\n",
      "Epoch 2 - Loss: 1.6228\n",
      "Epoch 3 - Loss: 1.5687\n",
      "Epoch 4 - Loss: 1.5265\n",
      "Epoch 5 - Loss: 1.4914\n"
     ]
    }
   ],
   "source": [
    "import torch\n",
    "import torch.nn as nn\n",
    "import torch.optim as optim\n",
    "\n",
    "model = nn.Linear(10, 1)\n",
    "criterion = nn.MSELoss()\n",
    "optimizer = optim.Adagrad(model.parameters(),lr=0.01, initial_accumulator_value=0.0)\n",
    "\n",
    "x = torch.randn(20, 10)\n",
    "y = torch.randn(20, 1)\n",
    "\n",
    "for epoch in range(5):\n",
    "    model.train()\n",
    "    optimizer.zero_grad()\n",
    "    output = model(x)\n",
    "    loss = criterion(output, y)\n",
    "    loss.backward()\n",
    "    optimizer.step()\n",
    "    print(f\"Epoch {epoch+1} - Loss: {loss.item():.4f}\")"
   ]
  },
  {
   "cell_type": "code",
   "execution_count": 13,
   "id": "8fcfbc1b",
   "metadata": {},
   "outputs": [
    {
     "name": "stdout",
     "output_type": "stream",
     "text": [
      "Epoch 1 - Loss: 0.8090\n",
      "Epoch 2 - Loss: 0.6581\n",
      "Epoch 3 - Loss: 0.6490\n",
      "Epoch 4 - Loss: 0.6151\n",
      "Epoch 5 - Loss: 0.5714\n"
     ]
    }
   ],
   "source": [
    "import torch\n",
    "import torch.nn as nn\n",
    "import torch.optim as optim\n",
    "\n",
    "model = nn.Linear(10, 1)\n",
    "criterion = nn.MSELoss()\n",
    "optimizer = optim.RMSprop(model.parameters(),lr=0.01,momentum=0.9)\n",
    "\n",
    "x = torch.randn(20, 10)\n",
    "y = torch.randn(20, 1)\n",
    "\n",
    "for epoch in range(5):\n",
    "    model.train()\n",
    "    optimizer.zero_grad()\n",
    "    output = model(x)\n",
    "    loss = criterion(output, y)\n",
    "    loss.backward()\n",
    "    optimizer.step()\n",
    "    print(f\"Epoch {epoch+1} - Loss: {loss.item():.4f}\")"
   ]
  },
  {
   "cell_type": "code",
   "execution_count": 14,
   "id": "082fa5da",
   "metadata": {},
   "outputs": [
    {
     "name": "stdout",
     "output_type": "stream",
     "text": [
      "Epoch 1 - Loss: 1.6059\n",
      "Epoch 2 - Loss: 1.6056\n",
      "Epoch 3 - Loss: 1.6054\n",
      "Epoch 4 - Loss: 1.6051\n",
      "Epoch 5 - Loss: 1.6048\n"
     ]
    }
   ],
   "source": [
    "import torch\n",
    "import torch.nn as nn\n",
    "import torch.optim as optim\n",
    "\n",
    "model = nn.Linear(10, 1)\n",
    "criterion = nn.MSELoss()\n",
    "optimizer = optim.Adadelta(model.parameters(),lr=0.01,rho=0.9)\n",
    "\n",
    "x = torch.randn(20, 10)\n",
    "y = torch.randn(20, 1)\n",
    "\n",
    "for epoch in range(5):\n",
    "    model.train()\n",
    "    optimizer.zero_grad()\n",
    "    output = model(x)\n",
    "    loss = criterion(output, y)\n",
    "    loss.backward()\n",
    "    optimizer.step()\n",
    "    print(f\"Epoch {epoch+1} - Loss: {loss.item():.4f}\")"
   ]
  },
  {
   "cell_type": "markdown",
   "id": "4ede8c4f",
   "metadata": {},
   "source": [
    "## Adam - AdamW - Adafactor"
   ]
  },
  {
   "cell_type": "code",
   "execution_count": 15,
   "id": "2e3def73",
   "metadata": {},
   "outputs": [
    {
     "name": "stdout",
     "output_type": "stream",
     "text": [
      "Epoch 1 - Loss: 2.5588\n",
      "Epoch 2 - Loss: 2.4489\n",
      "Epoch 3 - Loss: 2.3427\n",
      "Epoch 4 - Loss: 2.2403\n",
      "Epoch 5 - Loss: 2.1417\n"
     ]
    }
   ],
   "source": [
    "import torch\n",
    "import torch.nn as nn\n",
    "import torch.optim as optim\n",
    "\n",
    "model = nn.Linear(10, 1)\n",
    "criterion = nn.MSELoss()\n",
    "optimizer = optim.Adam(model.parameters(),lr=0.01,betas=(0.9,0.99))\n",
    "\n",
    "x = torch.randn(20, 10)\n",
    "y = torch.randn(20, 1)\n",
    "\n",
    "for epoch in range(5):\n",
    "    model.train()\n",
    "    optimizer.zero_grad()\n",
    "    output = model(x)\n",
    "    loss = criterion(output, y)\n",
    "    loss.backward()\n",
    "    optimizer.step()\n",
    "    print(f\"Epoch {epoch+1} - Loss: {loss.item():.4f}\")"
   ]
  },
  {
   "cell_type": "code",
   "execution_count": 16,
   "id": "643f2152",
   "metadata": {},
   "outputs": [
    {
     "name": "stdout",
     "output_type": "stream",
     "text": [
      "Epoch 1 - Loss: 2.2088\n",
      "Epoch 2 - Loss: 2.1342\n",
      "Epoch 3 - Loss: 2.0635\n",
      "Epoch 4 - Loss: 1.9968\n",
      "Epoch 5 - Loss: 1.9340\n"
     ]
    }
   ],
   "source": [
    "import torch\n",
    "import torch.nn as nn\n",
    "import torch.optim as optim\n",
    "\n",
    "model = nn.Linear(10, 1)\n",
    "criterion = nn.MSELoss()\n",
    "optimizer = optim.AdamW(model.parameters(),lr=0.01,betas=(0.9,0.99),weight_decay=0.2)\n",
    "\n",
    "x = torch.randn(20, 10)\n",
    "y = torch.randn(20, 1)\n",
    "\n",
    "for epoch in range(5):\n",
    "    model.train()\n",
    "    optimizer.zero_grad()\n",
    "    output = model(x)\n",
    "    loss = criterion(output, y)\n",
    "    loss.backward()\n",
    "    optimizer.step()\n",
    "    print(f\"Epoch {epoch+1} - Loss: {loss.item():.4f}\")"
   ]
  },
  {
   "cell_type": "code",
   "execution_count": 17,
   "id": "5c9c0d47",
   "metadata": {},
   "outputs": [
    {
     "name": "stdout",
     "output_type": "stream",
     "text": [
      "Epoch 1 - Loss: 2.3867\n",
      "Epoch 2 - Loss: 2.3676\n",
      "Epoch 3 - Loss: 2.3489\n",
      "Epoch 4 - Loss: 2.3306\n",
      "Epoch 5 - Loss: 2.3126\n"
     ]
    }
   ],
   "source": [
    "import torch\n",
    "import torch.nn as nn\n",
    "import torch.optim as optim\n",
    "\n",
    "model = nn.Linear(10, 1)\n",
    "criterion = nn.MSELoss()\n",
    "optimizer = optim.Adafactor(model.parameters(),lr=0.01)\n",
    "\n",
    "x = torch.randn(20, 10)\n",
    "y = torch.randn(20, 1)\n",
    "\n",
    "for epoch in range(5):\n",
    "    model.train()\n",
    "    optimizer.zero_grad()\n",
    "    output = model(x)\n",
    "    loss = criterion(output, y)\n",
    "    loss.backward()\n",
    "    optimizer.step()\n",
    "    print(f\"Epoch {epoch+1} - Loss: {loss.item():.4f}\")"
   ]
  },
  {
   "cell_type": "markdown",
   "id": "bdc16d22",
   "metadata": {},
   "source": [
    "# Linear Layers"
   ]
  },
  {
   "cell_type": "code",
   "execution_count": 13,
   "id": "c280555f",
   "metadata": {},
   "outputs": [
    {
     "name": "stdout",
     "output_type": "stream",
     "text": [
      "tensor([-0.6380,  0.3433], grad_fn=<ViewBackward0>)\n",
      "<bound method Module.parameters of LazyLinear(in_features=0, out_features=2, bias=True)>\n",
      "tensor([0.2533, 2.0513], grad_fn=<ViewBackward0>)\n",
      "<bound method Module.parameters of Linear(in_features=3, out_features=2, bias=True)>\n"
     ]
    }
   ],
   "source": [
    "from torch.nn import Linear,LazyLinear\n",
    "import torch\n",
    "\n",
    "linear = Linear(in_features=3,out_features=2)\n",
    "print(linear(torch.tensor([1,2,3],dtype=torch.float32)))\n",
    "\n",
    "lazy_linear = LazyLinear(out_features=2)\n",
    "print(lazy_linear.parameters)\n",
    "print(lazy_linear(torch.tensor([1,2,3],dtype=torch.float32)))\n",
    "print(lazy_linear.parameters)"
   ]
  },
  {
   "cell_type": "code",
   "execution_count": 14,
   "id": "dd9302fb",
   "metadata": {},
   "outputs": [
    {
     "data": {
      "text/plain": [
       "tensor([1, 2, 3])"
      ]
     },
     "execution_count": 14,
     "metadata": {},
     "output_type": "execute_result"
    }
   ],
   "source": [
    "from torch.nn import Identity\n",
    "import torch\n",
    "\n",
    "identity = Identity()\n",
    "identity(torch.tensor([1,2,3]))"
   ]
  },
  {
   "cell_type": "markdown",
   "id": "11fe9f2f",
   "metadata": {},
   "source": [
    "# Normalization Layer"
   ]
  },
  {
   "cell_type": "code",
   "execution_count": 16,
   "id": "310c8a45",
   "metadata": {},
   "outputs": [
    {
     "name": "stdout",
     "output_type": "stream",
     "text": [
      "Parameter containing:\n",
      "tensor([1., 1., 1.], requires_grad=True) Parameter containing:\n",
      "tensor([0., 0., 0.], requires_grad=True)\n",
      "BatchNorm sonrası çıktı:\n",
      " tensor([[-1.3416, -1.3416, -1.3416],\n",
      "        [-0.4472, -0.4472, -0.4472],\n",
      "        [ 0.4472,  0.4472,  0.4472],\n",
      "        [ 1.3416,  1.3416,  1.3416]], grad_fn=<NativeBatchNormBackward0>)\n",
      "tensor([1.3333, 1.3333, 1.3333], grad_fn=<VarBackward0>)\n",
      "tensor([ 5.9605e-08, -5.9605e-08,  5.9605e-08], grad_fn=<MeanBackward1>)\n"
     ]
    }
   ],
   "source": [
    "import torch\n",
    "import torch.nn as nn\n",
    "\n",
    "x = torch.tensor([\n",
    "    [1.0, 2.0, 3.0],\n",
    "    [2.0, 3.0, 4.0],\n",
    "    [3.0, 4.0, 5.0],\n",
    "    [4.0, 5.0, 6.0]\n",
    "])\n",
    "\n",
    "bn = nn.BatchNorm1d(num_features=3)\n",
    "print(bn.weight,bn.bias)\n",
    "bn.train()\n",
    "out = bn(x)\n",
    "print(\"BatchNorm sonrası çıktı:\\n\", out)\n",
    "print(torch.var(out,dim=0))\n",
    "print(torch.mean(out,dim=0))"
   ]
  },
  {
   "cell_type": "markdown",
   "id": "0a3819ee",
   "metadata": {},
   "source": [
    "# Dropout"
   ]
  },
  {
   "cell_type": "code",
   "execution_count": 22,
   "id": "2d8b4230",
   "metadata": {},
   "outputs": [
    {
     "name": "stdout",
     "output_type": "stream",
     "text": [
      "Girdi:\n",
      "tensor([-2.0274, -1.4799, -2.0106, -0.0581,  1.1067,  0.0355, -0.0645,  1.6369,\n",
      "        -0.0342, -0.5075,  0.0075, -1.2198,  0.9939, -0.0023,  1.4923, -0.2790,\n",
      "         0.2863, -1.8746,  1.5853,  0.7123])\n",
      "Çıktı (Dropout sonrası):\n",
      "tensor([-2.0274, -1.4799, -2.0106, -0.0581,  1.1067,  0.0355, -0.0645,  1.6369,\n",
      "        -0.0342, -0.5075,  0.0075, -1.2198,  0.9939, -0.0023,  1.4923, -0.2790,\n",
      "         0.2863, -1.8746,  1.5853,  0.7123])\n",
      "Mask (1: geçti, 0: sıfırlandı):\n",
      "tensor([1., 1., 1., 1., 1., 1., 1., 1., 1., 1., 1., 1., 1., 1., 1., 1., 1., 1.,\n",
      "        1., 1.])\n"
     ]
    },
    {
     "data": {
      "image/png": "[encoded data removed]",
      "text/plain": [
       "<Figure size 1000x400 with 1 Axes>"
      ]
     },
     "metadata": {},
     "output_type": "display_data"
    }
   ],
   "source": [
    "import torch\n",
    "import torch.nn as nn\n",
    "import matplotlib.pyplot as plt\n",
    "\n",
    "p = 0.4\n",
    "dropout = nn.Dropout(p=p)\n",
    "x = torch.randn(20)\n",
    "\n",
    "#dropout.train()\n",
    "dropout.eval()\n",
    "\n",
    "out = dropout(x)\n",
    "mask = (out != 0).float()\n",
    "\n",
    "print(f\"Girdi:\\n{x}\")\n",
    "print(f\"Çıktı (Dropout sonrası):\\n{out}\")\n",
    "print(f\"Mask (1: geçti, 0: sıfırlandı):\\n{mask}\")\n",
    "\n",
    "plt.figure(figsize=(10, 4))\n",
    "plt.bar(range(len(out)), out, alpha=0.8, label='After Dropout')\n",
    "plt.xticks(range(len(x)))\n",
    "plt.legend()\n",
    "plt.title(f\"Dropout p={p}\")\n",
    "plt.grid(True)\n",
    "plt.show()\n"
   ]
  },
  {
   "cell_type": "markdown",
   "id": "15ca05cd",
   "metadata": {},
   "source": [
    "# Weight init"
   ]
  },
  {
   "cell_type": "code",
   "execution_count": 1,
   "id": "1a50389c",
   "metadata": {},
   "outputs": [
    {
     "name": "stdout",
     "output_type": "stream",
     "text": [
      "SimpleFC(\n",
      "  (fc1): Linear(in_features=16, out_features=32, bias=True)\n",
      "  (fc2): Linear(in_features=32, out_features=32, bias=True)\n",
      "  (fc3): Linear(in_features=32, out_features=8, bias=True)\n",
      ")\n"
     ]
    }
   ],
   "source": [
    "import torch\n",
    "import torch.nn as nn\n",
    "import torch.nn.init as init\n",
    "\n",
    "class SimpleFC(nn.Module):\n",
    "    def __init__(self, input_dim, hidden_dim, output_dim):\n",
    "        super().__init__()\n",
    "        self.fc1 = nn.Linear(input_dim, hidden_dim)\n",
    "        self.fc2 = nn.Linear(hidden_dim, hidden_dim)\n",
    "        self.fc3 = nn.Linear(hidden_dim, output_dim)\n",
    "        self.initialize_weights()\n",
    "        \n",
    "    def initialize_weights(self):\n",
    "        for m in self.modules():\n",
    "            if isinstance(m, nn.Linear):\n",
    "                # ---------- LeCun Initialization ----------\n",
    "                fan_in = m.weight.size(1)\n",
    "                init.normal_(m.weight, mean=0.0, std=(1/fan_in)**0.5)\n",
    "                init.zeros_(m.bias)\n",
    "                \n",
    "    def forward(self, x):\n",
    "        x = torch.relu(self.fc1(x))\n",
    "        x = torch.relu(self.fc2(x))\n",
    "        x = self.fc3(x)\n",
    "        return x\n",
    "\n",
    "model = SimpleFC(input_dim=16, hidden_dim=32, output_dim=8)\n",
    "print(model)\n"
   ]
  },
  {
   "cell_type": "code",
   "execution_count": 2,
   "id": "314d1a2b",
   "metadata": {},
   "outputs": [
    {
     "data": {
      "image/png": "[encoded data removed]",
      "text/plain": [
       "<Figure size 1500x400 with 3 Axes>"
      ]
     },
     "metadata": {},
     "output_type": "display_data"
    }
   ],
   "source": [
    "import matplotlib.pyplot as plt\n",
    "layers = [m for m in model.modules() if isinstance(m, nn.Linear)]\n",
    "plt.figure(figsize=(15,4))\n",
    "for i, layer in enumerate(layers):\n",
    "    weights = layer.weight.detach().cpu().numpy().flatten()\n",
    "    plt.subplot(1, len(layers), i+1)\n",
    "    plt.hist(weights, bins=20, color='skyblue', edgecolor='black')\n",
    "    plt.title(f'Layer {i+1} weights')\n",
    "    plt.xlabel('Weight value')\n",
    "    plt.ylabel('Frequency')"
   ]
  },
  {
   "cell_type": "code",
   "execution_count": 3,
   "id": "576651ef",
   "metadata": {},
   "outputs": [
    {
     "name": "stdout",
     "output_type": "stream",
     "text": [
      "SimpleFC(\n",
      "  (fc1): Linear(in_features=16, out_features=32, bias=True)\n",
      "  (fc2): Linear(in_features=32, out_features=32, bias=True)\n",
      "  (fc3): Linear(in_features=32, out_features=8, bias=True)\n",
      ")\n"
     ]
    }
   ],
   "source": [
    "import torch\n",
    "import torch.nn as nn\n",
    "import torch.nn.init as init\n",
    "\n",
    "class SimpleFC(nn.Module):\n",
    "    def __init__(self, input_dim, hidden_dim, output_dim):\n",
    "        super().__init__()\n",
    "        self.fc1 = nn.Linear(input_dim, hidden_dim)\n",
    "        self.fc2 = nn.Linear(hidden_dim, hidden_dim)\n",
    "        self.fc3 = nn.Linear(hidden_dim, output_dim)\n",
    "        self.initialize_weights()\n",
    "        \n",
    "    def initialize_weights(self):\n",
    "        for m in self.modules():\n",
    "            if isinstance(m, nn.Linear):\n",
    "                # ---------- Xavier (Glorot) Initialization ----------\n",
    "                fan_in = m.weight.size(1)\n",
    "                fan_out = m.weight.size(0)\n",
    "                limit = (6 / (fan_in + fan_out))**0.5\n",
    "                init.uniform_(m.weight, -limit, limit)\n",
    "                \n",
    "    def forward(self, x):\n",
    "        x = torch.relu(self.fc1(x))\n",
    "        x = torch.relu(self.fc2(x))\n",
    "        x = self.fc3(x)\n",
    "        return x\n",
    "\n",
    "model = SimpleFC(input_dim=16, hidden_dim=32, output_dim=8)\n",
    "print(model)\n"
   ]
  },
  {
   "cell_type": "code",
   "execution_count": 4,
   "id": "85f70f5f",
   "metadata": {},
   "outputs": [
    {
     "data": {
      "image/png": "[encoded data removed]",
      "text/plain": [
       "<Figure size 1500x400 with 3 Axes>"
      ]
     },
     "metadata": {},
     "output_type": "display_data"
    }
   ],
   "source": [
    "import matplotlib.pyplot as plt\n",
    "layers = [m for m in model.modules() if isinstance(m, nn.Linear)]\n",
    "plt.figure(figsize=(15,4))\n",
    "for i, layer in enumerate(layers):\n",
    "    weights = layer.weight.detach().cpu().numpy().flatten()\n",
    "    plt.subplot(1, len(layers), i+1)\n",
    "    plt.hist(weights, bins=20, color='skyblue', edgecolor='black')\n",
    "    plt.title(f'Layer {i+1} weights')\n",
    "    plt.xlabel('Weight value')\n",
    "    plt.ylabel('Frequency')"
   ]
  },
  {
   "cell_type": "code",
   "execution_count": 6,
   "id": "375fbdae",
   "metadata": {},
   "outputs": [
    {
     "name": "stdout",
     "output_type": "stream",
     "text": [
      "SimpleFC(\n",
      "  (fc1): Linear(in_features=16, out_features=32, bias=True)\n",
      "  (fc2): Linear(in_features=32, out_features=32, bias=True)\n",
      "  (fc3): Linear(in_features=32, out_features=8, bias=True)\n",
      ")\n"
     ]
    }
   ],
   "source": [
    "import torch\n",
    "import torch.nn as nn\n",
    "import torch.nn.init as init\n",
    "\n",
    "class SimpleFC(nn.Module):\n",
    "    def __init__(self, input_dim, hidden_dim, output_dim):\n",
    "        super().__init__()\n",
    "        self.fc1 = nn.Linear(input_dim, hidden_dim)\n",
    "        self.fc2 = nn.Linear(hidden_dim, hidden_dim)\n",
    "        self.fc3 = nn.Linear(hidden_dim, output_dim)\n",
    "        self.initialize_weights()\n",
    "        \n",
    "    def initialize_weights(self):\n",
    "        for m in self.modules():\n",
    "            if isinstance(m, nn.Linear):\n",
    "                # ---------- He Initialization ----------\n",
    "                fan_in = m.weight.size(1)\n",
    "                init.kaiming_normal_(m.weight, mode='fan_in', nonlinearity='relu')\n",
    "                init.zeros_(m.bias)\n",
    "                \n",
    "    def forward(self, x):\n",
    "        x = torch.relu(self.fc1(x))\n",
    "        x = torch.relu(self.fc2(x))\n",
    "        x = self.fc3(x)\n",
    "        return x\n",
    "\n",
    "model = SimpleFC(input_dim=16, hidden_dim=32, output_dim=8)\n",
    "print(model)\n"
   ]
  },
  {
   "cell_type": "code",
   "execution_count": 7,
   "id": "f562ed5b",
   "metadata": {},
   "outputs": [
    {
     "data": {
      "image/png": "[encoded data removed]",
      "text/plain": [
       "<Figure size 1500x400 with 3 Axes>"
      ]
     },
     "metadata": {},
     "output_type": "display_data"
    }
   ],
   "source": [
    "import matplotlib.pyplot as plt\n",
    "layers = [m for m in model.modules() if isinstance(m, nn.Linear)]\n",
    "plt.figure(figsize=(15,4))\n",
    "for i, layer in enumerate(layers):\n",
    "    weights = layer.weight.detach().cpu().numpy().flatten()\n",
    "    plt.subplot(1, len(layers), i+1)\n",
    "    plt.hist(weights, bins=20, color='skyblue', edgecolor='black')\n",
    "    plt.title(f'Layer {i+1} weights')\n",
    "    plt.xlabel('Weight value')\n",
    "    plt.ylabel('Frequency')"
   ]
  },
  {
   "cell_type": "markdown",
   "id": "60e81f54",
   "metadata": {},
   "source": [
    "# Learning Rate Schedulers"
   ]
  },
  {
   "cell_type": "code",
   "execution_count": 8,
   "id": "d8ac4fd9",
   "metadata": {},
   "outputs": [],
   "source": [
    "import torch.optim as optim\n",
    "import torch.nn as nn\n",
    "model = nn.Linear(10, 1)\n",
    "initial_lr = 0.1\n",
    "optimizer = optim.SGD(model.parameters(), lr=initial_lr)"
   ]
  },
  {
   "cell_type": "code",
   "execution_count": null,
   "id": "213c5f24",
   "metadata": {},
   "outputs": [],
   "source": [
    "optimizer = optim.SGD(model.parameters(), lr=initial_lr)\n",
    "step_scheduler = optim.lr_scheduler.StepLR(optimizer, step_size=10, gamma=0.5)\n",
    "for epoch in range(50):\n",
    "    optimizer.step()\n",
    "    step_scheduler.step()\n",
    "    print(f\"epoch:{epoch} Learning Rate:{optimizer.param_groups[0][\"lr\"]}\")"
   ]
  },
  {
   "cell_type": "code",
   "execution_count": null,
   "id": "7a4469d6",
   "metadata": {},
   "outputs": [],
   "source": [
    "optimizer = optim.SGD(model.parameters(), lr=initial_lr)\n",
    "milestones = [15, 30, 40]\n",
    "multistep_scheduler = optim.lr_scheduler.MultiStepLR(optimizer, milestones=milestones, gamma=0.5)\n",
    "for epoch in range(50):\n",
    "    optimizer.step()\n",
    "    multistep_scheduler.step()\n",
    "    print(f\"epoch:{epoch} Learning Rate:{optimizer.param_groups[0][\"lr\"]}\")"
   ]
  },
  {
   "cell_type": "code",
   "execution_count": null,
   "id": "ec1adf58",
   "metadata": {},
   "outputs": [],
   "source": [
    "optimizer = optim.SGD(model.parameters(), lr=initial_lr)\n",
    "exp_scheduler = optim.lr_scheduler.ExponentialLR(optimizer, gamma=0.9)\n",
    "for epoch in range(50):\n",
    "    optimizer.step()\n",
    "    exp_scheduler.step()\n",
    "    print(f\"epoch:{epoch} Learning Rate:{optimizer.param_groups[0][\"lr\"]}\")\n"
   ]
  },
  {
   "cell_type": "code",
   "execution_count": null,
   "id": "21cca640",
   "metadata": {},
   "outputs": [],
   "source": [
    "optimizer = optim.SGD(model.parameters(), lr=initial_lr)\n",
    "scheduler = optim.lr_scheduler.PolynomialLR(optimizer,total_iters=10,power=2)\n",
    "for epoch in range(10):\n",
    "    optimizer.step()\n",
    "    scheduler.step()\n",
    "    print(f\"epoch:{epoch} Learning Rate:{optimizer.param_groups[0][\"lr\"]}\")"
   ]
  },
  {
   "cell_type": "code",
   "execution_count": null,
   "id": "f1acbadf",
   "metadata": {},
   "outputs": [],
   "source": [
    "optimizer = optim.SGD(model.parameters(), lr=initial_lr)\n",
    "scheduler = optim.lr_scheduler.LinearLR(optimizer,start_factor=0.1,end_factor=1.0,total_iters=10)\n",
    "for epoch in range(15):\n",
    "    optimizer.step()\n",
    "    scheduler.step()\n",
    "    print(f\"epoch:{epoch} Learning Rate:{optimizer.param_groups[0][\"lr\"]}\")"
   ]
  },
  {
   "cell_type": "code",
   "execution_count": null,
   "id": "3e3feb1e",
   "metadata": {},
   "outputs": [],
   "source": [
    "optimizer = optim.SGD(model.parameters(), lr=initial_lr)\n",
    "scheduler = optim.lr_scheduler.ConstantLR(optimizer,factor=0.5,total_iters=10)\n",
    "for epoch in range(15):\n",
    "    optimizer.step()\n",
    "    scheduler.step()\n",
    "    print(f\"epoch:{epoch} Learning Rate:{optimizer.param_groups[0][\"lr\"]}\")"
   ]
  },
  {
   "cell_type": "code",
   "execution_count": null,
   "id": "65eb953b",
   "metadata": {},
   "outputs": [],
   "source": [
    "optimizer = optim.SGD(model.parameters(), lr=initial_lr)\n",
    "scheduler = optim.lr_scheduler.CosineAnnealingLR(optimizer, T_max=50, eta_min=0)\n",
    "for epoch in range(100):\n",
    "    optimizer.step()\n",
    "    scheduler.step()\n",
    "    print(f\"epoch:{epoch} Learning Rate:{optimizer.param_groups[0][\"lr\"]}\")"
   ]
  },
  {
   "cell_type": "code",
   "execution_count": null,
   "id": "74de29b6",
   "metadata": {},
   "outputs": [],
   "source": [
    "param = torch.nn.Parameter(torch.randn(1))\n",
    "optimizer = optim.SGD([param], lr=0.1)\n",
    "scheduler = optim.lr_scheduler.ReduceLROnPlateau(\n",
    "    optimizer, mode='min', factor=0.5, patience=3, min_lr=0.001\n",
    ")\n",
    "val_losses = [0.9, 0.8, 0.7, 0.6, 0.55] + [0.55]*10 + [0.5, 0.45, 0.4, 0.35]\n",
    "lrs = []\n",
    "epochs = len(val_losses)\n",
    "for epoch in range(epochs):\n",
    "    val_loss = val_losses[epoch]\n",
    "    scheduler.step(val_loss)\n",
    "    lr = optimizer.param_groups[0]['lr']\n",
    "    lrs.append(lr)\n",
    "    print(f\"Epoch {epoch+1:02d}: val_loss={val_loss:.3f}, lr={lr:.5f}\")"
   ]
  },
  {
   "cell_type": "code",
   "execution_count": 17,
   "id": "1ff05a8f",
   "metadata": {},
   "outputs": [
    {
     "name": "stdout",
     "output_type": "stream",
     "text": [
      "Epoch 1: LR = 0.10000\n",
      "Epoch 2: LR = 0.10000\n",
      "Epoch 3: LR = 0.05000\n",
      "Epoch 4: LR = 0.05000\n",
      "Epoch 5: LR = 0.02500\n",
      "Epoch 6: LR = 0.10000\n",
      "Epoch 7: LR = 0.09755\n",
      "Epoch 8: LR = 0.09045\n",
      "Epoch 9: LR = 0.07939\n",
      "Epoch 10: LR = 0.06545\n",
      "Epoch 11: LR = 0.05000\n",
      "Epoch 12: LR = 0.03455\n",
      "Epoch 13: LR = 0.02061\n",
      "Epoch 14: LR = 0.00955\n",
      "Epoch 15: LR = 0.00245\n"
     ]
    },
    {
     "name": "stderr",
     "output_type": "stream",
     "text": [
      "/home/ozgur/Desktop/Eğitim/.venv/lib/python3.12/site-packages/torch/optim/lr_scheduler.py:198: UserWarning: The epoch parameter in `scheduler.step()` was not necessary and is being deprecated where possible. Please use `scheduler.step()` to step the scheduler. During the deprecation, if epoch is different from None, the closed form is used instead of the new chainable form, where available. Please open an issue if you are unable to replicate your use case: https://github.com/pytorch/pytorch/issues/new/choose.\n",
      "  warnings.warn(EPOCH_DEPRECATION_WARNING, UserWarning)\n"
     ]
    }
   ],
   "source": [
    "import torch\n",
    "import torch.optim as optim\n",
    "import matplotlib.pyplot as plt\n",
    "\n",
    "model_param = torch.nn.Parameter(torch.randn(1))\n",
    "\n",
    "optimizer = optim.SGD([model_param], lr=0.1)\n",
    "step_scheduler = optim.lr_scheduler.StepLR(optimizer, step_size=2, gamma=0.5)\n",
    "cosine_scheduler = optim.lr_scheduler.CosineAnnealingLR(optimizer, T_max=10)\n",
    "scheduler = optim.lr_scheduler.SequentialLR(\n",
    "    optimizer,\n",
    "    schedulers=[step_scheduler, cosine_scheduler],\n",
    "    milestones=[5]\n",
    ")\n",
    "\n",
    "lrs = []\n",
    "total_epochs = 15\n",
    "\n",
    "for epoch in range(total_epochs):\n",
    "    lrs.append(optimizer.param_groups[0]['lr'])\n",
    "    print(f\"Epoch {epoch+1}: LR = {optimizer.param_groups[0]['lr']:.5f}\")\n",
    "    optimizer.step()\n",
    "    scheduler.step()"
   ]
  },
  {
   "cell_type": "markdown",
   "id": "b2743843",
   "metadata": {},
   "source": [
    "# Dataset - Dataloader"
   ]
  },
  {
   "cell_type": "code",
   "execution_count": 36,
   "id": "7e15131c",
   "metadata": {},
   "outputs": [],
   "source": [
    "import torch\n",
    "from torch.utils.data import Dataset, DataLoader\n",
    "import numpy as np"
   ]
  },
  {
   "cell_type": "code",
   "execution_count": 37,
   "id": "5c84b9b0",
   "metadata": {},
   "outputs": [],
   "source": [
    "X_np = np.random.rand(100, 10).astype(np.float32)\n",
    "y_np = np.random.randint(0, 2, size=(100,)).astype(np.int64)"
   ]
  },
  {
   "cell_type": "code",
   "execution_count": 40,
   "id": "b383af60",
   "metadata": {},
   "outputs": [],
   "source": [
    "class NumpyDataset(Dataset):\n",
    "    def __init__(self, X, y):\n",
    "        self.X = torch.from_numpy(X)\n",
    "        self.y = torch.from_numpy(y)\n",
    "\n",
    "    def __len__(self):\n",
    "        return len(self.X)\n",
    "\n",
    "    def __getitem__(self, idx):\n",
    "        return self.X[idx], self.y[idx]"
   ]
  },
  {
   "cell_type": "code",
   "execution_count": null,
   "id": "fbb25da2",
   "metadata": {},
   "outputs": [],
   "source": [
    "dataset = NumpyDataset(X_np, y_np)\n",
    "dataloader = DataLoader(dataset, batch_size=16, shuffle=True)\n",
    "\n",
    "for batch_X, batch_y in dataloader:\n",
    "    print(batch_X.shape, batch_y.shape)"
   ]
  },
  {
   "cell_type": "code",
   "execution_count": 45,
   "id": "bd0dab57",
   "metadata": {},
   "outputs": [
    {
     "ename": "ModuleNotFoundError",
     "evalue": "No module named 'torchvision'",
     "output_type": "error",
     "traceback": [
      "\u001b[31m---------------------------------------------------------------------------\u001b[39m",
      "\u001b[31mModuleNotFoundError\u001b[39m                       Traceback (most recent call last)",
      "\u001b[36mCell\u001b[39m\u001b[36m \u001b[39m\u001b[32mIn[45]\u001b[39m\u001b[32m, line 3\u001b[39m\n\u001b[32m      1\u001b[39m \u001b[38;5;28;01mimport\u001b[39;00m\u001b[38;5;250m \u001b[39m\u001b[34;01mos\u001b[39;00m\n\u001b[32m      2\u001b[39m \u001b[38;5;28;01mimport\u001b[39;00m\u001b[38;5;250m \u001b[39m\u001b[34;01mpandas\u001b[39;00m\u001b[38;5;250m \u001b[39m\u001b[38;5;28;01mas\u001b[39;00m\u001b[38;5;250m \u001b[39m\u001b[34;01mpd\u001b[39;00m\n\u001b[32m----> \u001b[39m\u001b[32m3\u001b[39m \u001b[38;5;28;01mfrom\u001b[39;00m\u001b[38;5;250m \u001b[39m\u001b[34;01mtorchvision\u001b[39;00m\u001b[34;01m.\u001b[39;00m\u001b[34;01mio\u001b[39;00m\u001b[38;5;250m \u001b[39m\u001b[38;5;28;01mimport\u001b[39;00m decode_image\n\u001b[32m      5\u001b[39m \u001b[38;5;28;01mclass\u001b[39;00m\u001b[38;5;250m \u001b[39m\u001b[34;01mCustomImageDataset\u001b[39;00m(Dataset):\n\u001b[32m      6\u001b[39m     \u001b[38;5;28;01mdef\u001b[39;00m\u001b[38;5;250m \u001b[39m\u001b[34m__init__\u001b[39m(\u001b[38;5;28mself\u001b[39m, annotations_file, img_dir, transform=\u001b[38;5;28;01mNone\u001b[39;00m, target_transform=\u001b[38;5;28;01mNone\u001b[39;00m):\n",
      "\u001b[31mModuleNotFoundError\u001b[39m: No module named 'torchvision'"
     ]
    }
   ],
   "source": [
    "import os\n",
    "import pandas as pd\n",
    "from torchvision.io import decode_image\n",
    "\n",
    "class CustomImageDataset(Dataset):\n",
    "    def __init__(self, annotations_file, img_dir, transform=None, target_transform=None):\n",
    "        self.img_labels = pd.read_csv(annotations_file)\n",
    "        self.img_dir = img_dir\n",
    "        self.transform = transform\n",
    "        self.target_transform = target_transform\n",
    "\n",
    "    def __len__(self):\n",
    "        return len(self.img_labels)\n",
    "\n",
    "    def __getitem__(self, idx):\n",
    "        img_path = os.path.join(self.img_dir, self.img_labels.iloc[idx, 0])\n",
    "        image = decode_image(img_path)\n",
    "        label = self.img_labels.iloc[idx, 1]\n",
    "        if self.transform:\n",
    "            image = self.transform(image)\n",
    "        if self.target_transform:\n",
    "            label = self.target_transform(label)\n",
    "        return image, label"
   ]
  },
  {
   "cell_type": "markdown",
   "id": "1fe202fa",
   "metadata": {},
   "source": [
    "# GPU - CUDA"
   ]
  },
  {
   "cell_type": "code",
   "execution_count": 2,
   "id": "8087837c",
   "metadata": {},
   "outputs": [],
   "source": [
    "import torch\n",
    "import torch.nn as nn"
   ]
  },
  {
   "cell_type": "code",
   "execution_count": 3,
   "id": "3cc422c4",
   "metadata": {},
   "outputs": [
    {
     "name": "stdout",
     "output_type": "stream",
     "text": [
      "True\n",
      "1\n",
      "0\n",
      "NVIDIA GeForce RTX 4060 Laptop GPU\n"
     ]
    }
   ],
   "source": [
    "print(torch.cuda.is_available())  # Returns True if GPU is available\n",
    "print(torch.cuda.device_count())  # Number of GPUs\n",
    "print(torch.cuda.current_device()) # Current GPU device index\n",
    "print(torch.cuda.get_device_name(0))  # Name of GPU 0"
   ]
  },
  {
   "cell_type": "code",
   "execution_count": 4,
   "id": "1fe9e788",
   "metadata": {},
   "outputs": [],
   "source": [
    "device = torch.device(\"cuda:0\" if torch.cuda.is_available() else \"cpu\")"
   ]
  },
  {
   "cell_type": "code",
   "execution_count": 6,
   "id": "cc26cc78",
   "metadata": {},
   "outputs": [],
   "source": [
    "class SimpleNN(nn.Module):\n",
    "    def __init__(self):\n",
    "        super(SimpleNN, self).__init__()\n",
    "        self.layers = nn.Sequential(\n",
    "            nn.Linear(10000, 4),\n",
    "            nn.ReLU(),\n",
    "            nn.Linear(4, 1),\n",
    "            nn.Sigmoid()\n",
    "        )\n",
    "\n",
    "    def forward(self, x):\n",
    "        return self.layers(x)\n",
    "    \n",
    "model = SimpleNN().to(device)"
   ]
  },
  {
   "cell_type": "code",
   "execution_count": null,
   "id": "89d361bd",
   "metadata": {},
   "outputs": [],
   "source": [
    "data = torch.randn(100000, 10000)\n",
    "data = data.to(device)"
   ]
  },
  {
   "cell_type": "code",
   "execution_count": 8,
   "id": "e478b02d",
   "metadata": {},
   "outputs": [],
   "source": [
    "output = model(data)"
   ]
  },
  {
   "cell_type": "markdown",
   "id": "a8105f3e",
   "metadata": {},
   "source": [
    "# Reproducibility"
   ]
  },
  {
   "cell_type": "code",
   "execution_count": 14,
   "id": "ccdaad28",
   "metadata": {},
   "outputs": [
    {
     "name": "stdout",
     "output_type": "stream",
     "text": [
      "tensor([[ 0.4368,  0.2115,  0.2421],\n",
      "        [ 0.9547, -0.9362,  1.4641],\n",
      "        [ 0.0573,  1.4288, -0.2554]])\n"
     ]
    }
   ],
   "source": [
    "x1 = torch.randn(3, 3)\n",
    "print(x1)"
   ]
  },
  {
   "cell_type": "code",
   "execution_count": 35,
   "id": "79e410f8",
   "metadata": {},
   "outputs": [
    {
     "name": "stdout",
     "output_type": "stream",
     "text": [
      "tensor([[ 0.3367,  0.1288,  0.2345],\n",
      "        [ 0.2303, -1.1229, -0.1863],\n",
      "        [ 2.2082, -0.6380,  0.4617]])\n"
     ]
    }
   ],
   "source": [
    "torch.manual_seed(42)\n",
    "x1 = torch.randn(3, 3)\n",
    "print(x1)"
   ]
  },
  {
   "cell_type": "code",
   "execution_count": 37,
   "id": "a804b663",
   "metadata": {},
   "outputs": [],
   "source": [
    "import os\n",
    "import random\n",
    "import numpy as np\n",
    "import torch\n",
    "\n",
    "SEED = 42\n",
    "random.seed(SEED)\n",
    "np.random.seed(SEED)\n",
    "torch.manual_seed(SEED)\n",
    "torch.cuda.manual_seed(SEED) #Tek GPU\n",
    "torch.cuda.manual_seed_all(SEED) #Multiple GPU\n",
    "torch.backends.cudnn.deterministic = True\n",
    "torch.backends.cudnn.benchmark = False\n",
    "torch.use_deterministic_algorithms(True)\n",
    "os.environ[\"PYTHONHASHSEED\"] = str(SEED)"
   ]
  },
  {
   "cell_type": "markdown",
   "id": "871b11db",
   "metadata": {},
   "source": [
    "# Torchmetrics"
   ]
  },
  {
   "cell_type": "code",
   "execution_count": 1,
   "id": "8c173396",
   "metadata": {},
   "outputs": [],
   "source": [
    "from torchmetrics import Accuracy,F1Score,Precision,AUROC\n",
    "import torch"
   ]
  },
  {
   "cell_type": "code",
   "execution_count": 3,
   "id": "ae79e2f4",
   "metadata": {},
   "outputs": [
    {
     "data": {
      "text/plain": [
       "tensor(0.3333)"
      ]
     },
     "execution_count": 3,
     "metadata": {},
     "output_type": "execute_result"
    }
   ],
   "source": [
    "acc = Accuracy(task=\"binary\",threshold=0.5)\n",
    "acc(torch.tensor([0,0,1]),torch.tensor([0,1,0]))"
   ]
  },
  {
   "cell_type": "markdown",
   "id": "39b48ee0",
   "metadata": {},
   "source": [
    "# Saving-Loading Model"
   ]
  },
  {
   "cell_type": "code",
   "execution_count": 4,
   "id": "3d2d5030",
   "metadata": {},
   "outputs": [],
   "source": [
    "import torch\n",
    "import torch.nn as nn\n",
    "import torch.nn.functional as F\n",
    "\n",
    "class MyModel(nn.Module):\n",
    "    def __init__(self, input_dim, hidden_dim, output_dim):\n",
    "        super(MyModel, self).__init__()\n",
    "        self.fc1 = nn.Linear(input_dim, hidden_dim)\n",
    "        self.fc2 = nn.Linear(hidden_dim, output_dim)\n",
    "\n",
    "    def forward(self, x):\n",
    "        x = F.relu(self.fc1(x))\n",
    "        x = self.fc2(x)\n",
    "        return x\n",
    "    \n",
    "model = MyModel(input_dim=10, hidden_dim=32, output_dim=1)"
   ]
  },
  {
   "cell_type": "code",
   "execution_count": 6,
   "id": "b2901fae",
   "metadata": {},
   "outputs": [],
   "source": [
    "torch.save(model.state_dict(), 'model_weights.pth')"
   ]
  },
  {
   "cell_type": "code",
   "execution_count": 7,
   "id": "c53caf7a",
   "metadata": {},
   "outputs": [
    {
     "data": {
      "text/plain": [
       "MyModel(\n",
       "  (fc1): Linear(in_features=10, out_features=32, bias=True)\n",
       "  (fc2): Linear(in_features=32, out_features=1, bias=True)\n",
       ")"
      ]
     },
     "execution_count": 7,
     "metadata": {},
     "output_type": "execute_result"
    }
   ],
   "source": [
    "model = MyModel(input_dim=10, hidden_dim=32, output_dim=1)\n",
    "model.load_state_dict(torch.load('model_weights.pth'))\n",
    "model.eval()"
   ]
  },
  {
   "cell_type": "code",
   "execution_count": 8,
   "id": "5a5d9109",
   "metadata": {},
   "outputs": [],
   "source": [
    "torch.save(model, 'entire_model.pth')"
   ]
  },
  {
   "cell_type": "code",
   "execution_count": null,
   "id": "acf6868c",
   "metadata": {},
   "outputs": [
    {
     "data": {
      "text/plain": [
       "MyModel(\n",
       "  (fc1): Linear(in_features=10, out_features=32, bias=True)\n",
       "  (fc2): Linear(in_features=32, out_features=1, bias=True)\n",
       ")"
      ]
     },
     "execution_count": 11,
     "metadata": {},
     "output_type": "execute_result"
    }
   ],
   "source": [
    "model = torch.load('entire_model.pth',weights_only=False)\n",
    "model.eval()"
   ]
  }
 ],
 "metadata": {
  "kernelspec": {
   "display_name": ".venv (3.12.3)",
   "language": "python",
   "name": "python3"
  },
  "language_info": {
   "codemirror_mode": {
    "name": "ipython",
    "version": 3
   },
   "file_extension": ".py",
   "mimetype": "text/x-python",
   "name": "python",
   "nbconvert_exporter": "python",
   "pygments_lexer": "ipython3",
   "version": "3.12.3"
  }
 },
 "nbformat": 4,
 "nbformat_minor": 5
}
