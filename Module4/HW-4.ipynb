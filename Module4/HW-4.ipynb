{
 "cells": [
  {
   "cell_type": "markdown",
   "id": "4148317e",
   "metadata": {},
   "source": [
    "# init"
   ]
  },
  {
   "cell_type": "code",
   "execution_count": 91,
   "id": "80dba9f1",
   "metadata": {},
   "outputs": [],
   "source": [
    "import numpy as np\n",
    "def NN_regression_checker(function):\n",
    "    def generate_dataset(seed=42, n_samples=100, n_features=5):\n",
    "        np.random.seed(seed)\n",
    "        X = np.random.rand(n_samples, n_features).astype(np.float32)*50\n",
    "        \n",
    "        # Örnek hedef: lineer kombinasyon + küçük gürültü\n",
    "        weights = np.array([0.5, -0.2, 0.1, 0.3, 0.7], dtype=np.float32)\n",
    "        y = X @ weights + 0.05 * np.random.randn(n_samples).astype(np.float32)\n",
    "        y = y.reshape(-1, 1)  # column vector\n",
    "        return X, y\n",
    "    from sklearn.model_selection import train_test_split\n",
    "    from sklearn.metrics import mean_absolute_error\n",
    "    X,y = generate_dataset(seed=22, n_samples=10000)\n",
    "    X_train, X_test, y_train, y_test = train_test_split(X,y,test_size=0.2,random_state=22,shuffle=True)\n",
    "    prediction = function(X_train,y_train,X_test)\n",
    "    mae = mean_absolute_error(prediction,y_test)\n",
    "    print(f\"Your MAE:{mae} | Threshold is 5\")\n",
    "    print(f\"{mae<5}\")\n",
    "\n",
    "def NN_classification_checker(function):\n",
    "    def generate_multiclass_dataset(seed=42, n_samples=1000, n_features=5, n_classes=3):\n",
    "        np.random.seed(seed)\n",
    "        X = np.random.randn(n_samples, n_features).astype(np.float32)\n",
    "        y = np.zeros(n_samples, dtype=np.int64)\n",
    "        weights = np.random.randn(n_classes, n_features).astype(np.float32)\n",
    "        scores = X @ weights.T\n",
    "        y = np.argmax(scores, axis=1)\n",
    "        return X, y\n",
    "    from sklearn.model_selection import train_test_split\n",
    "    from sklearn.metrics import accuracy_score\n",
    "    X,y = generate_multiclass_dataset(seed=22, n_samples=10000,n_features=10,n_classes=4)\n",
    "    X_train, X_test, y_train, y_test = train_test_split(X,y,test_size=0.2,random_state=22,shuffle=True,stratify=y)\n",
    "    prediction = function(X_train,y_train,X_test)\n",
    "    acc = accuracy_score(prediction,y_test)\n",
    "    print(f\"Your accuracy:{acc} | Threshold is 0.8\")\n",
    "    print(f\"{acc>0.8}\")"
   ]
  },
  {
   "cell_type": "markdown",
   "id": "f9868ed3",
   "metadata": {},
   "source": [
    "# Questions"
   ]
  },
  {
   "cell_type": "code",
   "execution_count": null,
   "id": "f4e6cb48",
   "metadata": {},
   "outputs": [],
   "source": [
    "def NN_regression(X_train,y_train,X_test):\n",
    "    \"\"\"\n",
    "    X_train ve y_train verilerini kullanarak bir derin öğrenme modeli eğitin ve X_test'in sonucunu tahmin edin.\n",
    "    INPUTS --->\n",
    "    X_train: np array of (n,m) | n: Train veri sayısı | m: Özellik sayısı\n",
    "    y_train: np.array of (n,1) | n: Train veri sayısı\n",
    "    X_test: np.array of (k,m)  | k: Test veri sayısı | m: Özellik sayısı\n",
    "\n",
    "    OUTPUT --->\n",
    "    np array of (k,) | k: Test veri sayısı\n",
    "    \"\"\"\n",
    "    return np.zeros(X_test.shape[0])"
   ]
  },
  {
   "cell_type": "code",
   "execution_count": null,
   "id": "dd17bd91",
   "metadata": {},
   "outputs": [],
   "source": [
    "NN_regression_checker(NN_regression)"
   ]
  },
  {
   "cell_type": "code",
   "execution_count": 89,
   "id": "50ceecd7",
   "metadata": {},
   "outputs": [],
   "source": [
    "def NN_classification(X_train,y_train,X_test):\n",
    "    \"\"\"\n",
    "    X_train ve y_train verilerini kullanarak bir derin öğrenme modeli eğitin ve X_test'in sonucunu tahmin edin.\n",
    "    INPUTS --->\n",
    "    X_train: np array of (n,m) | n: Train veri sayısı | m: Özellik sayısı\n",
    "    y_train: np.array of (n,) | n: Train veri sayısı -> Bu array tek bir dimension özelinde ground truth sınıfların indexini içermektedir. Ör: [0,1,3,2,0,..]\n",
    "    X_test: np.array of (k,m)  | k: Test veri sayısı | m: Özellik sayısı\n",
    "\n",
    "    OUTPUT --->\n",
    "    np array of (k,) | k: Test veri sayısı\n",
    "    \"\"\"\n",
    "    return np.zeros(X_test.shape[0])"
   ]
  },
  {
   "cell_type": "code",
   "execution_count": 90,
   "id": "c352ade0",
   "metadata": {},
   "outputs": [
    {
     "name": "stdout",
     "output_type": "stream",
     "text": [
      "Your accuracy:0.26 | Threshold is 0.8\n",
      "False\n"
     ]
    }
   ],
   "source": [
    "NN_classification_checker(NN_classification)"
   ]
  }
 ],
 "metadata": {
  "kernelspec": {
   "display_name": ".venv (3.12.3)",
   "language": "python",
   "name": "python3"
  },
  "language_info": {
   "codemirror_mode": {
    "name": "ipython",
    "version": 3
   },
   "file_extension": ".py",
   "mimetype": "text/x-python",
   "name": "python",
   "nbconvert_exporter": "python",
   "pygments_lexer": "ipython3",
   "version": "3.12.3"
  }
 },
 "nbformat": 4,
 "nbformat_minor": 5
}
