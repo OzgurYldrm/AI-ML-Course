{
 "cells": [
  {
   "cell_type": "markdown",
   "id": "16a379f7",
   "metadata": {},
   "source": [
    "# init"
   ]
  },
  {
   "cell_type": "code",
   "execution_count": 1,
   "id": "22a8f041",
   "metadata": {},
   "outputs": [],
   "source": [
    "import numpy as np"
   ]
  },
  {
   "cell_type": "code",
   "execution_count": 5,
   "id": "b8461a58",
   "metadata": {},
   "outputs": [],
   "source": [
    "def accuracy_checker(func):\n",
    "    y_true =    np.array([1, 0, 1, 1, 0, 0, 1, 1, 0, 1])\n",
    "    y_pred =    np.array([1, 0, 0, 1, 0, 1, 1, 0, 0, 1])\n",
    "    expected =  0.7  # 7 doğru tahmin var\n",
    "\n",
    "    try:\n",
    "        result = func(y_true, y_pred)\n",
    "        print(\"Your accuracy: \",result)\n",
    "        if abs(result - expected) < 1e-6:\n",
    "            print(\"Status: True\")\n",
    "        else:\n",
    "            print(\"Status: False\")\n",
    "    except Exception as e:\n",
    "        print(f\"Hata oluştu: {e}\")\n",
    "\n",
    "def f1_checker(func):\n",
    "    y_true = np.array([1, 0, 1, 1, 0, 0, 1, 1, 0, 1])\n",
    "    y_pred = np.array([1, 0, 0, 1, 0, 1, 1, 0, 0, 1])\n",
    "\n",
    "    expected = 2 * (4/5 * 2/3) / (4/5 + 2/3)\n",
    "\n",
    "    try:\n",
    "        result = func(y_true, y_pred)\n",
    "        print(\"Your F1 score: \",result)\n",
    "        print(f\"Status: {abs(result - expected) < 1e-6}\")\n",
    "    except Exception as e:\n",
    "        print(f\"❌ Hata oluştu: {e}\")\n",
    "\n",
    "def CI_checker(func):\n",
    "    np.random.seed(0)\n",
    "    data = np.array([10.2, 9.8, 10.5, 10.1, 10.0, 9.9, 10.3, 10.4, 10.1, 9.7])\n",
    "    expected = (9.939966670138165, 10.260033329861834)\n",
    "\n",
    "    try:\n",
    "        result = func(data)\n",
    "        print(\"Your result: \",result)\n",
    "        if np.allclose(result, expected, atol=1e-6):\n",
    "            print(f\"Status: True\")\n",
    "        else:\n",
    "            print(f\"Status: False\")\n",
    "    except Exception as e:\n",
    "        print(f\"❌ Hata oluştu: {e}\")"
   ]
  },
  {
   "cell_type": "markdown",
   "id": "e8d7695a",
   "metadata": {},
   "source": [
    "# Questions"
   ]
  },
  {
   "cell_type": "markdown",
   "id": "01b1543a",
   "metadata": {},
   "source": [
    "**Accuracy**"
   ]
  },
  {
   "cell_type": "code",
   "execution_count": 49,
   "id": "40bd9367",
   "metadata": {},
   "outputs": [],
   "source": [
    "def accuracy(y_true, y_pred):\n",
    "    \"\"\"\n",
    "    y_true shape: (10,)\n",
    "    y_pred shape: (10,)\n",
    "    Compute accuracy using y_ture and y_pred. Return as single python float\n",
    "    \"\"\"\n",
    "    acc = 0.0\n",
    "    #Your code here\n",
    "    return acc"
   ]
  },
  {
   "cell_type": "code",
   "execution_count": 50,
   "id": "780894fb",
   "metadata": {},
   "outputs": [
    {
     "name": "stdout",
     "output_type": "stream",
     "text": [
      "Your accuracy:  0.0\n",
      "Status: False\n"
     ]
    }
   ],
   "source": [
    "accuracy_checker(accuracy)"
   ]
  },
  {
   "cell_type": "markdown",
   "id": "9d8b99e0",
   "metadata": {},
   "source": [
    "**F1 Score**"
   ]
  },
  {
   "cell_type": "code",
   "execution_count": 7,
   "id": "d37a4af0",
   "metadata": {},
   "outputs": [],
   "source": [
    "def f1_score(y_true, y_pred):\n",
    "    \"\"\"\n",
    "    y_true shape: (10,)\n",
    "    y_pred shape: (10,)\n",
    "    Compute F1 score using y_ture and y_pred. Note that this is a binary F1 task. Return as single python float\n",
    "    \"\"\"\n",
    "    f1 = 0.0\n",
    "    #Your code here\n",
    "    return f1"
   ]
  },
  {
   "cell_type": "code",
   "execution_count": 8,
   "id": "41dae730",
   "metadata": {},
   "outputs": [
    {
     "name": "stdout",
     "output_type": "stream",
     "text": [
      "Your F1 score:  0.0\n",
      "Status: False\n"
     ]
    }
   ],
   "source": [
    "f1_checker(f1_score)"
   ]
  },
  {
   "cell_type": "markdown",
   "id": "1bd1e2f2",
   "metadata": {},
   "source": [
    "**Confidence Interval**"
   ]
  },
  {
   "cell_type": "code",
   "execution_count": 55,
   "id": "5497cdc6",
   "metadata": {},
   "outputs": [],
   "source": [
    "def confidence_interval(data, confidence=0.95):\n",
    "    \"\"\"\n",
    "    data: np.array of shape (n,) | n: Sample count\n",
    "    Confidence will be 0.95. You may use 1.96 as z score\n",
    "    return as python tuple of 2 python floats \n",
    "    \"\"\"\n",
    "    CI_lower,CI_upper = 0,0\n",
    "    #Your Code here\n",
    "    return CI_lower,CI_upper"
   ]
  },
  {
   "cell_type": "code",
   "execution_count": 56,
   "id": "e9345e5e",
   "metadata": {},
   "outputs": [
    {
     "name": "stdout",
     "output_type": "stream",
     "text": [
      "Your result:  (0, 0)\n",
      "Status: False\n"
     ]
    }
   ],
   "source": [
    "CI_checker(confidence_interval)"
   ]
  }
 ],
 "metadata": {
  "kernelspec": {
   "display_name": ".venv (3.12.3)",
   "language": "python",
   "name": "python3"
  },
  "language_info": {
   "codemirror_mode": {
    "name": "ipython",
    "version": 3
   },
   "file_extension": ".py",
   "mimetype": "text/x-python",
   "name": "python",
   "nbconvert_exporter": "python",
   "pygments_lexer": "ipython3",
   "version": "3.12.3"
  }
 },
 "nbformat": 4,
 "nbformat_minor": 5
}
