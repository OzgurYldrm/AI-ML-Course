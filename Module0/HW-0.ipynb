{
 "cells": [
  {
   "cell_type": "markdown",
   "id": "2453be64",
   "metadata": {},
   "source": [
    "# init"
   ]
  },
  {
   "cell_type": "code",
   "execution_count": null,
   "id": "dec77341",
   "metadata": {},
   "outputs": [],
   "source": [
    "from typing import List"
   ]
  },
  {
   "cell_type": "code",
   "execution_count": null,
   "id": "121095d0",
   "metadata": {},
   "outputs": [],
   "source": [
    "def prime_factors_checker(function):\n",
    "    cases = {\n",
    "        75: [3, 5],\n",
    "        919191: [3, 7, 13, 37],\n",
    "        2025: [3, 5],\n",
    "        512: [2],\n",
    "        9699690: [2, 3, 5, 7, 11, 13, 17, 19]\n",
    "    }\n",
    "    correct = 0\n",
    "    for case in cases:\n",
    "        real = cases[case]\n",
    "        prediction = function(case)\n",
    "        real.sort()\n",
    "        prediction.sort()\n",
    "        if real==prediction:\n",
    "            correct+=1\n",
    "    print(f\"Correct: {correct}/{len(cases)}\")\n",
    "    print(f\"Status:{correct==len(cases)}\")\n",
    "\n",
    "def digit_permutations_checker(function):\n",
    "    cases = {\n",
    "        \"123\": ['123', '132', '213', '231', '312', '321'],\n",
    "        \"999\": ['999'],\n",
    "        \"989\": ['899', '989', '998'],\n",
    "        \"3578\": ['3578',\n",
    " '3587',\n",
    " '3758',\n",
    " '3785',\n",
    " '3857',\n",
    " '3875',\n",
    " '5378',\n",
    " '5387',\n",
    " '5738',\n",
    " '5783',\n",
    " '5837',\n",
    " '5873',\n",
    " '7358',\n",
    " '7385',\n",
    " '7538',\n",
    " '7583',\n",
    " '7835',\n",
    " '7853',\n",
    " '8357',\n",
    " '8375',\n",
    " '8537',\n",
    " '8573',\n",
    " '8735',\n",
    " '8753']\n",
    "    }\n",
    "    correct = 0\n",
    "    for case in cases:\n",
    "        real = cases[case]\n",
    "        prediction = function(case)\n",
    "        real.sort()\n",
    "        prediction.sort()\n",
    "        if real==prediction:\n",
    "            correct+=1\n",
    "    print(f\"Correct: {correct}/{len(cases)}\")\n",
    "    print(f\"Status:{correct==len(cases)}\")\n",
    "\n",
    "def flatten_list_checker(function):\n",
    "    cases = {\n",
    "        1: ([1, [2, 3], [4, [5, 6]], 7], [1, 2, 3, 4, 5, 6, 7]),\n",
    "        2: ([[[1,2],3],4] , [1,2,3,4]),\n",
    "        3: ([1, [2, [3, [4]]]], [1,2,3,4]),\n",
    "        4: ([[[[[]]]]], [])\n",
    "    }\n",
    "    correct = 0\n",
    "    for case in cases:\n",
    "        real = cases[case][1]\n",
    "        prediction = function(cases[case][0])\n",
    "        real.sort()\n",
    "        prediction.sort()\n",
    "        if real==prediction:\n",
    "            correct+=1\n",
    "    print(f\"Correct: {correct}/{len(cases)}\")\n",
    "    print(f\"Status:{correct==len(cases)}\")\n",
    "\n",
    "def generate_mean_list_checker(function):\n",
    "    import numpy as np\n",
    "    cases = [(10,50,25),(5,0,0),(100,55,100)]\n",
    "    correct = 0\n",
    "    for case in cases:\n",
    "        prediction = function(case[0],case[1],case[2])\n",
    "        if len(prediction)==case[0] and abs(np.mean(prediction)-case[1])<1e-6 and abs((np.max(prediction)-np.min(prediction))-case[2])<1e-6:\n",
    "            correct += 1\n",
    "    print(f\"Correct: {correct}/{len(cases)}\")\n",
    "    print(f\"Status:{correct==len(cases)}\")\n",
    "\n",
    "def calculate_mean_checker(function):\n",
    "    notlar1 = [40, 50, 60, 55, 45] # 1) Hepsi geçerli, aşırı uç değer yok\n",
    "    notlar2 = [10, 20, -5, 105, 30] # 2) Arada geçersiz (100’den büyük ve negatif) değerler var\n",
    "    notlar3 = [50, 52, 48, 49, 100] # 3) Aşırı yüksek bir uç değer var (ortalama+std dışına düşecek)\n",
    "    notlar4 = [80, 85, 82, 84, 10] # 4) Aşırı düşük bir uç değer var\n",
    "    notlar5 = [70, 72, 68, 69, 0] # 5) Ortalama civarında yoğunlaşmış ama bir tane çok aykırı\n",
    "    notlar = [notlar1,notlar2,notlar3,notlar4,notlar5]\n",
    "    val = [50.0,20.0,49.75,82.75,69.75]\n",
    "\n",
    "    correct = 0\n",
    "    for id,case in enumerate(notlar):\n",
    "        prediction = function(case)\n",
    "        actual = val[id]\n",
    "        if abs(actual-prediction)<1e-6:\n",
    "            correct += 1\n",
    "    print(f\"Correct: {correct}/{len(val)}\")\n",
    "    print(f\"Status:{correct==len(val)}\")\n",
    "\n",
    "def time_diff_checker(function):\n",
    "    test_cases = [\n",
    "        (\"08:30\", \"17:15\", 525),\n",
    "        (\"12:00\", \"12:30\", 30),\n",
    "        (\"23:50\", \"00:20\", 30),\n",
    "        (\"09:15\", \"09:15\", 0),\n",
    "        (\"18:00\", \"07:00\", 780),\n",
    "    ]\n",
    "    correct = 0\n",
    "    for s1, s2, expected in test_cases:\n",
    "        prediction = function(s1,s2)\n",
    "        if prediction==expected:\n",
    "            correct += 1\n",
    "    print(f\"Correct: {correct}/{len(test_cases)}\")\n",
    "    print(f\"Status:{correct==len(test_cases)}\")"
   ]
  },
  {
   "cell_type": "markdown",
   "id": "30d0efe6",
   "metadata": {},
   "source": [
    "# Questions"
   ]
  },
  {
   "cell_type": "markdown",
   "id": "aa508b6a",
   "metadata": {},
   "source": [
    "**Asal çarpan bulma**"
   ]
  },
  {
   "cell_type": "code",
   "execution_count": null,
   "id": "c26ccc84",
   "metadata": {},
   "outputs": [],
   "source": [
    "def prime_factors(n:int) -> List[int]:\n",
    "    \"\"\"\n",
    "    n sayısının asal çarpanlarını hesaplayıp Python Listesi olarak döndürür.\n",
    "    listenin sıralı olma zorunluluğu yoktur.\n",
    "    Asal sayı girdiler için sayının kendisinin döndürülmesi gerekir. Ör: 13 -> [13]\n",
    "    Return: Python List of integers\n",
    "    \"\"\"\n",
    "    l = []\n",
    "    ###Your Code Here\n",
    "    return l"
   ]
  },
  {
   "cell_type": "code",
   "execution_count": 64,
   "id": "6b31aae7",
   "metadata": {},
   "outputs": [
    {
     "name": "stdout",
     "output_type": "stream",
     "text": [
      "Correct: 0/5\n",
      "Status:False\n"
     ]
    }
   ],
   "source": [
    "prime_factors_checker(prime_factors)"
   ]
  },
  {
   "cell_type": "markdown",
   "id": "e8c331ee",
   "metadata": {},
   "source": [
    "**permütasyon bulma**"
   ]
  },
  {
   "cell_type": "code",
   "execution_count": null,
   "id": "b48b4b11",
   "metadata": {},
   "outputs": [],
   "source": [
    "def digit_permutations(n:str) -> List[str]:\n",
    "    \"\"\"\n",
    "    Verilen string sayının basamaklarındaki rakamlarının yerlerini değiştirerek oluşturulabilecek bütün permütasyonları liste olarak döndürür.\n",
    "    n değeri her zaman numerik tam sayıları içeren bir string olacaktır. Ör: \"123\"\n",
    "    n içerisinde tekrar eden rakamların bulunma ihtimalleri de vardır. Bu durumlarda aynı yazımı tekrar etmeyiniz. Ör: \"111\" için sadece [\"111\"] listesi döndürülmelidir.\n",
    "    Return type -> Python List of strings\n",
    "    \"\"\"\n",
    "    l = []\n",
    "    return l"
   ]
  },
  {
   "cell_type": "code",
   "execution_count": 62,
   "id": "cc558452",
   "metadata": {},
   "outputs": [
    {
     "name": "stdout",
     "output_type": "stream",
     "text": [
      "Correct: 0/4\n",
      "Status:False\n"
     ]
    }
   ],
   "source": [
    "digit_permutations_checker(digit_permutations)"
   ]
  },
  {
   "cell_type": "markdown",
   "id": "4ecf1da6",
   "metadata": {},
   "source": [
    "**flatten**"
   ]
  },
  {
   "cell_type": "code",
   "execution_count": null,
   "id": "db39a385",
   "metadata": {},
   "outputs": [],
   "source": [
    "def flatten_list(nested_list):\n",
    "    \"\"\"\n",
    "    Verilen nested list yapısının içerisindeki itemleri düz (flattened) bir liste haline getirecek kod. Ör: [1,[2],[[3,4]]] -> [1,2,3,4]\n",
    "    Boş liste gelmesi durumunda boş liste döndürünüz. Ör: [[]] -> []\n",
    "    \"\"\"\n",
    "    result = []\n",
    "    return result"
   ]
  },
  {
   "cell_type": "code",
   "execution_count": 78,
   "id": "11e31202",
   "metadata": {},
   "outputs": [
    {
     "name": "stdout",
     "output_type": "stream",
     "text": [
      "Correct: 1/4\n",
      "Status:False\n"
     ]
    }
   ],
   "source": [
    "flatten_list_checker(flatten_list)"
   ]
  },
  {
   "cell_type": "markdown",
   "id": "cbc66455",
   "metadata": {},
   "source": [
    "**Verilen ortalamada liste oluşturma**"
   ]
  },
  {
   "cell_type": "code",
   "execution_count": null,
   "id": "85421afb",
   "metadata": {},
   "outputs": [],
   "source": [
    "def generate_mean_list(n, mean, range_width):\n",
    "    \"\"\"\n",
    "    Verilen eleman sayısına, ortalamaya ve açıklığa sahip bir liste oluşturan kod\n",
    "    n: eleman sayısı\n",
    "    mean: hedef ortalama\n",
    "    range_width: max - min olacak değer (açıklık)\n",
    "    \"\"\"\n",
    "    return []"
   ]
  },
  {
   "cell_type": "code",
   "execution_count": 87,
   "id": "dec98ea1",
   "metadata": {},
   "outputs": [
    {
     "name": "stdout",
     "output_type": "stream",
     "text": [
      "Correct: 0/3\n",
      "Status:False\n"
     ]
    }
   ],
   "source": [
    "generate_mean_list_checker(generate_mean_list)"
   ]
  },
  {
   "cell_type": "markdown",
   "id": "f24f39bb",
   "metadata": {},
   "source": [
    "**Sınıf Ortalaması Hesaplama**"
   ]
  },
  {
   "cell_type": "code",
   "execution_count": 14,
   "id": "d6368951",
   "metadata": {},
   "outputs": [],
   "source": [
    "def calculate_mean(l:list[int]) -> float:\n",
    "    \"\"\"\n",
    "    Verilen l listesi için harici değerlerin dahil olmadığı ortalamayı hesaplayınız.\n",
    "    Kabul edilebilir not aralığı [0-100] kapalı aralığıdır. Bu aralık dışındaki değerler ortalamaya dahil edilmemelidir.\n",
    "    Ortalamayı daha stabil kılmak adına ortalama+-standart sapma aralığının dışına düşen değerleri dahil etmeden \n",
    "    stabil ortalamayı hesaplayınız ve python float olarak döndürünüz. Ör: Eğer ortalama 50 ve standart sapma 15 ise [35,65] aralığının dışına düşen değerleri\n",
    "    hariç bırakarak \"stabil ortalamayı\" tekrar hesaplayınız.\n",
    "    \"\"\"\n",
    "\n",
    "    return 0.0"
   ]
  },
  {
   "cell_type": "code",
   "execution_count": 16,
   "id": "6c902389",
   "metadata": {},
   "outputs": [
    {
     "name": "stdout",
     "output_type": "stream",
     "text": [
      "Correct: 0/5\n",
      "Status:False\n"
     ]
    }
   ],
   "source": [
    "calculate_mean_checker(calculate_mean)"
   ]
  },
  {
   "cell_type": "markdown",
   "id": "73240b85",
   "metadata": {},
   "source": [
    "**zaman farkı**"
   ]
  },
  {
   "cell_type": "code",
   "execution_count": null,
   "id": "d84178fa",
   "metadata": {},
   "outputs": [],
   "source": [
    "def time_diff(time1:str,time2:str) -> int:\n",
    "    \"\"\"\n",
    "    verilen 2 zaman arasındaki farkı dakika cinsinden hesaplar ve döndürür.\n",
    "    time1 ve time2 \"HH:MM\" formatında zamanı belirten string ifadelerdir. Saniye cinsinden veri içerilmediği için arada hesaplanan zaman farkının dakika cinsinden\n",
    "    mutlak değerini hesaplayıp python integer olarak döndürünüz.\n",
    "    time2 parametresinin time1'den kronolojik olarak sonra geldiğini varsayınız. sonuç olarak time2-time1 işleminin değerini döndürünüz.\n",
    "    \"\"\"\n",
    "    return 0"
   ]
  },
  {
   "cell_type": "code",
   "execution_count": 28,
   "id": "a22fdd6a",
   "metadata": {},
   "outputs": [
    {
     "name": "stdout",
     "output_type": "stream",
     "text": [
      "Correct: 1/5\n",
      "Status:False\n"
     ]
    }
   ],
   "source": [
    "time_diff_checker(time_diff)"
   ]
  }
 ],
 "metadata": {
  "kernelspec": {
   "display_name": ".venv (3.12.3)",
   "language": "python",
   "name": "python3"
  },
  "language_info": {
   "codemirror_mode": {
    "name": "ipython",
    "version": 3
   },
   "file_extension": ".py",
   "mimetype": "text/x-python",
   "name": "python",
   "nbconvert_exporter": "python",
   "pygments_lexer": "ipython3",
   "version": "3.12.3"
  }
 },
 "nbformat": 4,
 "nbformat_minor": 5
}
