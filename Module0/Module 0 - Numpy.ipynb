{
 "cells": [
  {
   "cell_type": "code",
   "execution_count": 1,
   "id": "dbebcfd2",
   "metadata": {},
   "outputs": [],
   "source": [
    "import numpy as np"
   ]
  },
  {
   "cell_type": "markdown",
   "id": "fe7267f9",
   "metadata": {},
   "source": [
    "NumPy (Numerical Python), Python’da bilimsel ve sayısal hesaplamalar için kullanılan temel kütüphanedir. Çok boyutlu dizi (array) veri yapısını sağlar. Normal Python listelerine göre çok daha hızlı ve hafızada verimli çalışır."
   ]
  },
  {
   "cell_type": "markdown",
   "id": "eea4d6f8",
   "metadata": {},
   "source": [
    "# Array kavramı"
   ]
  },
  {
   "cell_type": "markdown",
   "id": "0fa047e0",
   "metadata": {},
   "source": [
    "**array**: Numpy içerisindeki aynı tipte verileri tutan liste benzeri yapıdır. Arraylar birden fazla boyutlu olabilir."
   ]
  },
  {
   "cell_type": "markdown",
   "id": "70a30b6f",
   "metadata": {},
   "source": [
    "**np.array()** -> Başka veri tiplerinden numpy array oluşturulmasını sağlar."
   ]
  },
  {
   "cell_type": "code",
   "execution_count": 2,
   "id": "9c4563ee",
   "metadata": {},
   "outputs": [
    {
     "name": "stdout",
     "output_type": "stream",
     "text": [
      "Python listesi: [1, 2, 3, 4, 5]\n",
      "NumPy array: [1 2 3 4 5]\n",
      "Array tipi: <class 'numpy.ndarray'>\n"
     ]
    }
   ],
   "source": [
    "py_list = [1, 2, 3, 4, 5]\n",
    "np_array = np.array([1, 2, 3, 4, 5])\n",
    "\n",
    "print(\"Python listesi:\", py_list)\n",
    "print(\"NumPy array:\", np_array)\n",
    "print(\"Array tipi:\", type(np_array))"
   ]
  },
  {
   "cell_type": "markdown",
   "id": "55d5d68b",
   "metadata": {},
   "source": [
    "# Array Özellikleri"
   ]
  },
  {
   "cell_type": "code",
   "execution_count": 6,
   "id": "29cc7f79",
   "metadata": {},
   "outputs": [],
   "source": [
    "arr = np.array([[1, 2, 3], [4, 5, 6]]) #2D array"
   ]
  },
  {
   "cell_type": "markdown",
   "id": "09d23f6a",
   "metadata": {},
   "source": [
    "**np.shape(arr) | arr.shape** -> Verilen array'in boyutlarını döndürür.    "
   ]
  },
  {
   "cell_type": "code",
   "execution_count": 4,
   "id": "dc0a14c8",
   "metadata": {},
   "outputs": [
    {
     "name": "stdout",
     "output_type": "stream",
     "text": [
      "Shape: (2, 3)\n",
      "(2, 3)\n"
     ]
    }
   ],
   "source": [
    "print(\"Shape:\", arr.shape)\n",
    "print(np.shape(arr))"
   ]
  },
  {
   "cell_type": "markdown",
   "id": "f111c230",
   "metadata": {},
   "source": [
    "**np.ndim(arr) | arr.ndim** -> Verilen array'in boyut sayısını döndürür."
   ]
  },
  {
   "cell_type": "code",
   "execution_count": 7,
   "id": "646eda21",
   "metadata": {},
   "outputs": [
    {
     "name": "stdout",
     "output_type": "stream",
     "text": [
      "Boyut sayısı: 2\n",
      "2\n"
     ]
    }
   ],
   "source": [
    "print(\"Boyut sayısı:\", arr.ndim)\n",
    "print(np.ndim(arr))"
   ]
  },
  {
   "cell_type": "markdown",
   "id": "de688083",
   "metadata": {},
   "source": [
    "**np.size(arr) | arr.size** -> Verilen array'in eleman sayısını döndürür.  "
   ]
  },
  {
   "cell_type": "code",
   "execution_count": 8,
   "id": "ed6fe8c0",
   "metadata": {},
   "outputs": [
    {
     "name": "stdout",
     "output_type": "stream",
     "text": [
      "Eleman sayısı: 6\n",
      "6\n"
     ]
    }
   ],
   "source": [
    "print(\"Eleman sayısı:\", arr.size)\n",
    "print(np.size(arr))"
   ]
  },
  {
   "cell_type": "markdown",
   "id": "2437902b",
   "metadata": {},
   "source": [
    "**arr.itemsize**->Array'in her bir elemanının kaç byte kapladığını döndürür"
   ]
  },
  {
   "cell_type": "code",
   "execution_count": 10,
   "id": "38b8c7a5",
   "metadata": {},
   "outputs": [
    {
     "name": "stdout",
     "output_type": "stream",
     "text": [
      "Itemsize: 8\n"
     ]
    }
   ],
   "source": [
    "print(\"Itemsize:\", arr.itemsize)"
   ]
  },
  {
   "cell_type": "markdown",
   "id": "1735c3b9",
   "metadata": {},
   "source": [
    "**arr.nbytes** -> Array'in toplam kaç byte olduğunu döndürür"
   ]
  },
  {
   "cell_type": "code",
   "execution_count": 11,
   "id": "2edd7e14",
   "metadata": {},
   "outputs": [
    {
     "name": "stdout",
     "output_type": "stream",
     "text": [
      "Nbytes: 48\n"
     ]
    }
   ],
   "source": [
    "print(\"Nbytes:\", arr.nbytes)"
   ]
  },
  {
   "cell_type": "markdown",
   "id": "d36a435b",
   "metadata": {},
   "source": [
    "**arr.min()** -> array içerisindeki minimum değeri döndürür.        \n",
    "**arr.max()** -> array içerisindeki maksimum değeri döndürür.       \n",
    "**arr.argmin()** -> array içerisindeki minimum elemanın indeksini döndürür.     \n",
    "**arr.argmax()** -> array içerisindeki maksimum elemanın indexini döndürür."
   ]
  },
  {
   "cell_type": "code",
   "execution_count": 12,
   "id": "50bdd235",
   "metadata": {},
   "outputs": [],
   "source": [
    "arr = np.array([[1, 2, 3], [4, 5, 6]]) #2D array"
   ]
  },
  {
   "cell_type": "code",
   "execution_count": 14,
   "id": "48ff905f",
   "metadata": {},
   "outputs": [
    {
     "name": "stdout",
     "output_type": "stream",
     "text": [
      "Min: 1\n",
      "Max: 6\n",
      "Argmin: 0\n",
      "Argmax: 5\n"
     ]
    }
   ],
   "source": [
    "print(\"Min:\", arr.min())\n",
    "print(\"Max:\", arr.max())\n",
    "print(\"Argmin:\", arr.argmin())  # min’in index’i\n",
    "print(\"Argmax:\", arr.argmax())  # max’in index’i"
   ]
  },
  {
   "cell_type": "markdown",
   "id": "ef97006a",
   "metadata": {},
   "source": [
    "**arr.cumsum()**->Array elemanlarının kümülatif toplamını alır.     \n",
    "**arr.cumprod()** -> Array elemanlarının kümülatif çarpımını alır."
   ]
  },
  {
   "cell_type": "code",
   "execution_count": 15,
   "id": "bb446dfe",
   "metadata": {},
   "outputs": [
    {
     "name": "stdout",
     "output_type": "stream",
     "text": [
      "Cumsum: [ 1  3  6 10 15 21]\n",
      "Cumprod: [  1   2   6  24 120 720]\n"
     ]
    }
   ],
   "source": [
    "print(\"Cumsum:\", arr.cumsum())  # Kümülatif toplam\n",
    "print(\"Cumprod:\", arr.cumprod()) # Kümülatif çarpım"
   ]
  },
  {
   "cell_type": "markdown",
   "id": "5c375515",
   "metadata": {},
   "source": [
    "# Array Oluşturma"
   ]
  },
  {
   "cell_type": "markdown",
   "id": "71e7b333",
   "metadata": {},
   "source": [
    "Python listeleri ve tuple'larından numpy array oluşturulabilir."
   ]
  },
  {
   "cell_type": "code",
   "execution_count": 17,
   "id": "80da4d50",
   "metadata": {},
   "outputs": [
    {
     "name": "stdout",
     "output_type": "stream",
     "text": [
      "Liste: [1, 2, 3, 4, 5]\n",
      "NumPy array: [1 2 3 4 5]\n",
      "Tipi: <class 'numpy.ndarray'>\n",
      "\n",
      "Liste (2D): [[1, 2, 3], [4, 5, 6]]\n",
      "NumPy array (2D):\n",
      " [[1 2 3]\n",
      " [4 5 6]]\n"
     ]
    }
   ],
   "source": [
    "py_list = [1, 2, 3, 4, 5] #Tek boyutlu\n",
    "arr1 = np.array(py_list)\n",
    "print(\"Liste:\", py_list)\n",
    "print(\"NumPy array:\", arr1)\n",
    "print(\"Tipi:\", type(arr1))\n",
    "\n",
    "py_list_2d = [[1, 2, 3], [4, 5, 6]] #Çok boyutlu\n",
    "arr2 = np.array(py_list_2d)\n",
    "print(\"\\nListe (2D):\", py_list_2d)\n",
    "print(\"NumPy array (2D):\\n\", arr2)"
   ]
  },
  {
   "cell_type": "markdown",
   "id": "42cb9f76",
   "metadata": {},
   "source": [
    "**np.zeros(shape)** -> Belirtilen shape'de tamamen sıfırlardan oluşan bir array oluşturur."
   ]
  },
  {
   "cell_type": "code",
   "execution_count": 18,
   "id": "62de2caa",
   "metadata": {},
   "outputs": [
    {
     "name": "stdout",
     "output_type": "stream",
     "text": [
      "[0. 0. 0.]\n",
      "(3,)\n",
      "[[0. 0. 0.]\n",
      " [0. 0. 0.]]\n",
      "(2, 3)\n"
     ]
    }
   ],
   "source": [
    "arr = np.zeros(3)\n",
    "print(arr)\n",
    "print(arr.shape)\n",
    "\n",
    "arr = np.zeros((2, 3))\n",
    "print(arr)\n",
    "print(arr.shape)"
   ]
  },
  {
   "cell_type": "markdown",
   "id": "e8848f5f",
   "metadata": {},
   "source": [
    "**np.ones(shape)** -> Belirtilen shape'de tamamen birlerden oluşan bir array oluşturur."
   ]
  },
  {
   "cell_type": "code",
   "execution_count": null,
   "id": "b85e5e95",
   "metadata": {},
   "outputs": [],
   "source": [
    "arr = np.ones(5)\n",
    "print(arr)\n",
    "print(arr.shape)\n",
    "\n",
    "arr = np.ones((3,3,3))\n",
    "print(arr)\n",
    "print(arr.shape)"
   ]
  },
  {
   "cell_type": "markdown",
   "id": "6c59f3e0",
   "metadata": {},
   "source": [
    "**np.full(shape,x)** -> Verilen shape'de ve tamamen x ile doldurulmuş bir array oluşturur."
   ]
  },
  {
   "cell_type": "code",
   "execution_count": 23,
   "id": "060e94d5",
   "metadata": {},
   "outputs": [
    {
     "name": "stdout",
     "output_type": "stream",
     "text": [
      "[[7 7]\n",
      " [7 7]]\n"
     ]
    }
   ],
   "source": [
    "print(np.full((2, 2), 7))"
   ]
  },
  {
   "cell_type": "markdown",
   "id": "470a49da",
   "metadata": {},
   "source": [
    "**np.arange(Başlangıç,Bitiş,Adım)**->Belirlenene aralıkta belirlenen adım sayısı ile beraber sayılar oluşturur. Float ile de iş yapar."
   ]
  },
  {
   "cell_type": "code",
   "execution_count": 25,
   "id": "d0d84a3a",
   "metadata": {},
   "outputs": [
    {
     "name": "stdout",
     "output_type": "stream",
     "text": [
      "[0 2 4 6 8]\n"
     ]
    }
   ],
   "source": [
    "print(np.arange(0, 10, 2))"
   ]
  },
  {
   "cell_type": "markdown",
   "id": "06a740c9",
   "metadata": {},
   "source": [
    "**np.linspace(Başlangıç,Bitiş,Aralık sayısı)**-> İki sayı arasında eşit aralıklar oluşturmak için kullanılır."
   ]
  },
  {
   "cell_type": "code",
   "execution_count": 26,
   "id": "2a32361c",
   "metadata": {},
   "outputs": [
    {
     "name": "stdout",
     "output_type": "stream",
     "text": [
      "[0.   0.25 0.5  0.75 1.  ]\n"
     ]
    }
   ],
   "source": [
    "print(np.linspace(0, 1, 5)) "
   ]
  },
  {
   "cell_type": "markdown",
   "id": "dae214ec",
   "metadata": {},
   "source": [
    "**np.logspace(Başlangıç,Bitiş,Adet)** -> 10^başlangıç ve 10^bitiş arasını logaritmik olarak adet sayısına böler."
   ]
  },
  {
   "cell_type": "code",
   "execution_count": 30,
   "id": "c3bc5ed2",
   "metadata": {},
   "outputs": [
    {
     "name": "stdout",
     "output_type": "stream",
     "text": [
      "[  10.           31.6227766   100.          316.22776602 1000.        ]\n"
     ]
    }
   ],
   "source": [
    "print(np.logspace(1, 3, 5)) # 10^1 ile 10^3 arasında logaritmik 5 sayı"
   ]
  },
  {
   "cell_type": "markdown",
   "id": "9b2c8cc4",
   "metadata": {},
   "source": [
    "**np.diag(liste,k)**->Verilen liste ile diagonal matris oluşturur. k kaçıncı dioganal olacağını belirler."
   ]
  },
  {
   "cell_type": "code",
   "execution_count": 38,
   "id": "18cc6e76",
   "metadata": {},
   "outputs": [
    {
     "name": "stdout",
     "output_type": "stream",
     "text": [
      "[[1 0 0 0]\n",
      " [0 2 0 0]\n",
      " [0 0 3 0]\n",
      " [0 0 0 4]]\n"
     ]
    }
   ],
   "source": [
    "print(np.diag([1,2,3,4],k=0))"
   ]
  },
  {
   "cell_type": "markdown",
   "id": "d6d42c1a",
   "metadata": {},
   "source": [
    "**np.identity(M)** -> MxM olacak şekilde birim matris üretir."
   ]
  },
  {
   "cell_type": "code",
   "execution_count": 47,
   "id": "c309561d",
   "metadata": {},
   "outputs": [
    {
     "name": "stdout",
     "output_type": "stream",
     "text": [
      "[[1. 0. 0. 0.]\n",
      " [0. 1. 0. 0.]\n",
      " [0. 0. 1. 0.]\n",
      " [0. 0. 0. 1.]]\n"
     ]
    }
   ],
   "source": [
    "print(np.identity(4))"
   ]
  },
  {
   "cell_type": "markdown",
   "id": "d8e49be2",
   "metadata": {},
   "source": [
    "**np.eye(M,N,k)** -> MxN olacak şekilde belirli bir diagonal boyunca 1 yerleştirir. k hangi dioganal olduğunu belirtir."
   ]
  },
  {
   "cell_type": "code",
   "execution_count": 54,
   "id": "27e562d9",
   "metadata": {},
   "outputs": [
    {
     "name": "stdout",
     "output_type": "stream",
     "text": [
      "[[1. 0. 0. 0. 0.]\n",
      " [0. 1. 0. 0. 0.]\n",
      " [0. 0. 1. 0. 0.]\n",
      " [0. 0. 0. 1. 0.]\n",
      " [0. 0. 0. 0. 1.]\n",
      " [0. 0. 0. 0. 0.]]\n"
     ]
    }
   ],
   "source": [
    "print(np.eye(6,5,0))"
   ]
  },
  {
   "cell_type": "markdown",
   "id": "ece430d1",
   "metadata": {},
   "source": [
    "**np.triu(arr)** -> Verilen arrayi üst üçgen matris haline getirir.     \n",
    "**np.tril(arr)** -> Verilen arrayi alt üçgen matris haline getirir."
   ]
  },
  {
   "cell_type": "code",
   "execution_count": 218,
   "id": "1717e62c",
   "metadata": {},
   "outputs": [
    {
     "name": "stdout",
     "output_type": "stream",
     "text": [
      "[[1 2 3]\n",
      " [0 5 6]\n",
      " [0 0 9]]\n",
      "[[1 0 0]\n",
      " [4 5 0]\n",
      " [7 8 9]]\n"
     ]
    }
   ],
   "source": [
    "m = [[1,2,3],\n",
    "     [4,5,6],\n",
    "     [7,8,9]]\n",
    "print(np.triu(m))  # Üst üçgen\n",
    "print(np.tril(m))  # Alt üçgen"
   ]
  },
  {
   "cell_type": "markdown",
   "id": "aee7db9e",
   "metadata": {},
   "source": [
    "**np.empty(shape)** -> Verilen shape'de garbage value'lar ile array oluşturur."
   ]
  },
  {
   "cell_type": "code",
   "execution_count": 222,
   "id": "4c2c4c03",
   "metadata": {},
   "outputs": [
    {
     "name": "stdout",
     "output_type": "stream",
     "text": [
      "[[1.68836702e-315 0.00000000e+000 2.64325121e-321             nan\n",
      "  4.94065646e-322 2.85915013e+242 3.93262085e-028 1.02123424e+277\n",
      "  1.44014371e+228]\n",
      " [1.53487099e+025 1.54738352e-114 3.80974740e+180 6.35583534e+020\n",
      "  1.02124015e+277 3.81187285e+180 2.82200878e+242 1.85474307e-004\n",
      "  5.83153336e+180]\n",
      " [2.82216759e+242 1.85504109e-004 4.88706099e+199 6.47522208e+170\n",
      "  9.25068518e+242 7.04386960e+199 1.94932375e+243 2.52022652e+180\n",
      "  5.32070781e+233]\n",
      " [2.24089095e+089 9.90540978e+169 2.85809602e+242 4.77093018e+180\n",
      "  1.67751539e+243 1.02874565e+113 1.23785117e+290 1.86128241e-004\n",
      "  2.73649752e+113]\n",
      " [2.11268229e-110 3.90663404e+233 1.84841356e-004 1.93698154e-004\n",
      "  9.75023779e+199 3.93270558e-028 3.17303269e+025 9.25079923e+242\n",
      "  8.92846779e+252]\n",
      " [1.94466252e+243 2.11689915e-110 1.84841356e-004 4.06084130e+228\n",
      "  1.53510896e+025 2.18110797e-114 3.45441458e+228 1.17075759e+214\n",
      "  7.69469308e+170]\n",
      " [6.55737773e+179 6.99177865e+228 1.84841356e-004 6.21064460e+175\n",
      "  6.99161584e+228 1.06209538e+248 6.99177865e+228 7.35423705e+223\n",
      "  1.76965544e+113]\n",
      " [1.23785117e+290 1.07972692e+064 1.53511353e+025 2.38414332e-114\n",
      "  1.69375270e+190 3.76537712e+026 1.71718673e+180 9.28681073e+199\n",
      "  1.64079973e-306]]\n"
     ]
    }
   ],
   "source": [
    "print(np.empty((8,9)))   # Bellekteki rastgele değerlerle (hızlı, doldurmaz)"
   ]
  },
  {
   "cell_type": "markdown",
   "id": "9152b8c1",
   "metadata": {},
   "source": [
    "**np.tile(dizi,tekrar)** -> verilen diziyi tekrar adedince art arda tekrar eder.        \n",
    "**np.repeat(dizi,tekrar)** -> verilen dizinin her bir elemanını tekrar adedince tekrar eder."
   ]
  },
  {
   "cell_type": "code",
   "execution_count": 224,
   "id": "6c159036",
   "metadata": {},
   "outputs": [
    {
     "name": "stdout",
     "output_type": "stream",
     "text": [
      "[1 2 3 1 2 3]\n",
      "[1 1 1 2 2 2 3 3 3]\n"
     ]
    }
   ],
   "source": [
    "print(np.tile([1, 2, 3], 2))  # [1,2,3] dizisini 2 defa tekrar et\n",
    "print(np.repeat([1, 2, 3], 3)) # Her elemanı 2 defa tekrar et"
   ]
  },
  {
   "cell_type": "markdown",
   "id": "a8b62ef5",
   "metadata": {},
   "source": [
    "# indexleme"
   ]
  },
  {
   "cell_type": "code",
   "execution_count": 65,
   "id": "0c54f8eb",
   "metadata": {},
   "outputs": [
    {
     "name": "stdout",
     "output_type": "stream",
     "text": [
      "[10 20]\n",
      "50\n"
     ]
    }
   ],
   "source": [
    "arr = np.array([10, 20, 30, 40, 50])\n",
    "print(arr[0:2])\n",
    "print(arr[-1])"
   ]
  },
  {
   "cell_type": "code",
   "execution_count": 66,
   "id": "3eb19862",
   "metadata": {},
   "outputs": [
    {
     "name": "stdout",
     "output_type": "stream",
     "text": [
      "1\n",
      "6\n",
      "9\n"
     ]
    }
   ],
   "source": [
    "arr2d = np.array([[1, 2, 3],\n",
    "                  [4, 5, 6],\n",
    "                  [7, 8, 9]])\n",
    "\n",
    "print(arr2d[0, 0])  # 1. satır, 1. sütun -> 1\n",
    "print(arr2d[1, 2])  # 2. satır, 3. sütun -> 6\n",
    "print(arr2d[-1, -1])# son satır, son sütun -> 9"
   ]
  },
  {
   "cell_type": "code",
   "execution_count": 69,
   "id": "979933ea",
   "metadata": {},
   "outputs": [
    {
     "name": "stdout",
     "output_type": "stream",
     "text": [
      "[20 30 40]\n",
      "[10 20 30]\n",
      "[10 30 50]\n"
     ]
    }
   ],
   "source": [
    "arr = np.array([10, 20, 30, 40, 50])\n",
    "\n",
    "print(arr[1:4])   # 1. indexten 4’e kadar -> [20 30 40]\n",
    "print(arr[:3])    # baştan 3. indexe kadar -> [10 20 30]\n",
    "print(arr[::2])   # 2’şer atlayarak -> [10 30 50]"
   ]
  },
  {
   "cell_type": "code",
   "execution_count": 70,
   "id": "e8bd0053",
   "metadata": {},
   "outputs": [
    {
     "name": "stdout",
     "output_type": "stream",
     "text": [
      "[[2 3]\n",
      " [5 6]]\n"
     ]
    }
   ],
   "source": [
    "arr2d = np.array([[1, 2, 3],\n",
    "                  [4, 5, 6],\n",
    "                  [7, 8, 9]])\n",
    "\n",
    "print(arr2d[0:2, 1:3]) # 1-2. satırlar ve 2-3. sütunlar"
   ]
  },
  {
   "cell_type": "code",
   "execution_count": 73,
   "id": "70eb1b15",
   "metadata": {},
   "outputs": [
    {
     "name": "stdout",
     "output_type": "stream",
     "text": [
      "[10 30 50]\n"
     ]
    }
   ],
   "source": [
    "arr = np.array([10, 20, 30, 40, 50])\n",
    "\n",
    "print(arr[[0, 2, 4]])  # 0., 2., 4. indexler -> [10 30 50]"
   ]
  },
  {
   "cell_type": "markdown",
   "id": "0086813d",
   "metadata": {},
   "source": [
    "# Veri Tipleri"
   ]
  },
  {
   "cell_type": "markdown",
   "id": "f1ea3cb0",
   "metadata": {},
   "source": [
    "**int** -> Tam sayılardır. Sonuna gelen sayı kaç bit tuttuğunu gösterir. (int8,int16,int32,int64)"
   ]
  },
  {
   "cell_type": "code",
   "execution_count": 82,
   "id": "014d94ba",
   "metadata": {},
   "outputs": [
    {
     "name": "stdout",
     "output_type": "stream",
     "text": [
      "[-1  2  3]\n"
     ]
    }
   ],
   "source": [
    "print(np.array([-1, 2, 3], dtype=np.int8))"
   ]
  },
  {
   "cell_type": "markdown",
   "id": "134a7f98",
   "metadata": {},
   "source": [
    "**uint** -> İşaretsiz tam sayılardır. Yani sadece 0 ve pozitif değerleri tutarlar. (uint8, uint16, uint32, uint64)"
   ]
  },
  {
   "cell_type": "code",
   "execution_count": 78,
   "id": "7a1111dc",
   "metadata": {},
   "outputs": [
    {
     "name": "stdout",
     "output_type": "stream",
     "text": [
      "[1 2 3]\n"
     ]
    }
   ],
   "source": [
    "print(np.array([1, 2, 3], dtype=np.uint8))"
   ]
  },
  {
   "cell_type": "markdown",
   "id": "2030c4fb",
   "metadata": {},
   "source": [
    "**float** -> Ondalıklı sayıları tutar. sonundaki bit değeri arttıkça depolama alanı ve hassasiyet artar. (float16, float32, float64)"
   ]
  },
  {
   "cell_type": "code",
   "execution_count": 80,
   "id": "2eb713c6",
   "metadata": {},
   "outputs": [
    {
     "name": "stdout",
     "output_type": "stream",
     "text": [
      "[1.5 2.  3. ]\n"
     ]
    }
   ],
   "source": [
    "print(np.array([1.5, 2, 3], dtype=np.float64))"
   ]
  },
  {
   "cell_type": "markdown",
   "id": "a6b91e5b",
   "metadata": {},
   "source": [
    "**bool** -> Mantıksal True ya da False tutar. 1 byte yer kaplar."
   ]
  },
  {
   "cell_type": "code",
   "execution_count": 83,
   "id": "2be4294c",
   "metadata": {},
   "outputs": [
    {
     "name": "stdout",
     "output_type": "stream",
     "text": [
      "[ True False  True  True]\n"
     ]
    }
   ],
   "source": [
    "print(np.array([True, False, True, True], dtype=bool))"
   ]
  },
  {
   "cell_type": "markdown",
   "id": "ea02c321",
   "metadata": {},
   "source": [
    "**object** -> Karışık veri tiplerini tutmak içindir. Performansı düşürdüğü için kullanımı fazla tavsiye edilmez."
   ]
  },
  {
   "cell_type": "code",
   "execution_count": 84,
   "id": "396d423f",
   "metadata": {},
   "outputs": [
    {
     "name": "stdout",
     "output_type": "stream",
     "text": [
      "[1 'merhaba' 3.14 True]\n"
     ]
    }
   ],
   "source": [
    "print(np.array([1, \"merhaba\", 3.14, True], dtype=object))"
   ]
  },
  {
   "cell_type": "markdown",
   "id": "e9e5cc71",
   "metadata": {},
   "source": [
    "**datetime** -> Zaman verisini tutmak için kullanılır."
   ]
  },
  {
   "cell_type": "code",
   "execution_count": 87,
   "id": "1b76fa93",
   "metadata": {},
   "outputs": [
    {
     "name": "stdout",
     "output_type": "stream",
     "text": [
      "['2025-08-15' '2025-08-16' '2025-08-17']\n"
     ]
    }
   ],
   "source": [
    "dates = np.array(['2025-08-15', '2025-08-16', '2025-08-17'], dtype='datetime64')\n",
    "print(dates)"
   ]
  },
  {
   "cell_type": "markdown",
   "id": "12ccb9a2",
   "metadata": {},
   "source": [
    "**complex** -> complex sayıları tutmak için kullanılır."
   ]
  },
  {
   "cell_type": "code",
   "execution_count": 88,
   "id": "585b4be2",
   "metadata": {},
   "outputs": [
    {
     "name": "stdout",
     "output_type": "stream",
     "text": [
      "[1.+2.j 3.-4.j 5.+0.j]\n"
     ]
    }
   ],
   "source": [
    "z = np.array([1+2j, 3-4j, 5+0j], dtype=np.complex64)\n",
    "print(z)"
   ]
  },
  {
   "cell_type": "markdown",
   "id": "ff9d7c3f",
   "metadata": {},
   "source": [
    "**arr.dtype** -> Bir arrayin veri tipini öğrenmek için kullanılır."
   ]
  },
  {
   "cell_type": "code",
   "execution_count": 89,
   "id": "e6e117f9",
   "metadata": {},
   "outputs": [
    {
     "name": "stdout",
     "output_type": "stream",
     "text": [
      "Veri tipi: int64\n"
     ]
    }
   ],
   "source": [
    "print(\"Veri tipi:\", arr.dtype)"
   ]
  },
  {
   "cell_type": "markdown",
   "id": "4606013b",
   "metadata": {},
   "source": [
    "Numpy içerisindeki bütün veri tipleri:"
   ]
  },
  {
   "cell_type": "code",
   "execution_count": 90,
   "id": "ba949724",
   "metadata": {},
   "outputs": [
    {
     "name": "stdout",
     "output_type": "stream",
     "text": [
      "Dtype: int64\n",
      "Tüm dtype’lar: dict_keys(['bool', 'float16', 'float32', 'float64', 'longdouble', 'complex64', 'complex128', 'clongdouble', 'bytes_', 'str_', 'void', 'object_', 'datetime64', 'timedelta64', 'int8', 'byte', 'uint8', 'ubyte', 'int16', 'short', 'uint16', 'ushort', 'int32', 'intc', 'uint32', 'uintc', 'int64', 'long', 'uint64', 'ulong', 'longlong', 'ulonglong', 'intp', 'uintp', 'double', 'cdouble', 'single', 'csingle', 'half', 'bool_', 'int_', 'uint', 'float', 'complex', 'object', 'bytes', 'a', 'int', 'str', 'unicode', 'float128', 'complex256'])\n"
     ]
    }
   ],
   "source": [
    "print(\"Dtype:\", arr.dtype) \n",
    "print(\"Tüm dtype’lar:\", np.sctypeDict.keys()) "
   ]
  },
  {
   "cell_type": "markdown",
   "id": "93bbfe7d",
   "metadata": {},
   "source": [
    "# Random"
   ]
  },
  {
   "cell_type": "markdown",
   "id": "ce01cacf",
   "metadata": {},
   "source": [
    "**np.random.rand(shape)** -> 0-1 arası olacak şekilde belirtilen shape'de array üretir."
   ]
  },
  {
   "cell_type": "code",
   "execution_count": 105,
   "id": "92439fb8",
   "metadata": {},
   "outputs": [
    {
     "name": "stdout",
     "output_type": "stream",
     "text": [
      "[[0.69163464]\n",
      " [0.44253306]\n",
      " [0.45212619]\n",
      " [0.07029306]\n",
      " [0.9531884 ]]\n"
     ]
    }
   ],
   "source": [
    "print(np.random.rand(5,1)) "
   ]
  },
  {
   "cell_type": "markdown",
   "id": "0fef6208",
   "metadata": {},
   "source": [
    "**np.random.randint(Başlangıç,Bitiş,Shape)** -> Başlangıç ve bitiş değerleri arasında belirtilen shape'de rastgele array oluşturur. Bitiş dahil değildir. "
   ]
  },
  {
   "cell_type": "code",
   "execution_count": 113,
   "id": "7e31a25d",
   "metadata": {},
   "outputs": [
    {
     "name": "stdout",
     "output_type": "stream",
     "text": [
      "[[9 2]\n",
      " [4 3]]\n"
     ]
    }
   ],
   "source": [
    "print(np.random.randint(1, 10, (2,2)))"
   ]
  },
  {
   "cell_type": "markdown",
   "id": "165b0e53",
   "metadata": {},
   "source": [
    "**np.random.randn(Shape)** -> Normal (Gaussian) dağılımdan (ortalama=0, std=1) rastgele sayılar üretir."
   ]
  },
  {
   "cell_type": "code",
   "execution_count": 117,
   "id": "a17e3461",
   "metadata": {},
   "outputs": [
    {
     "name": "stdout",
     "output_type": "stream",
     "text": [
      "[[-0.48262864 -0.57969139  0.51858904]\n",
      " [ 0.38323884  0.01895136 -0.80447496]]\n"
     ]
    }
   ],
   "source": [
    "print(np.random.randn(2, 3))"
   ]
  },
  {
   "cell_type": "markdown",
   "id": "53e396c3",
   "metadata": {},
   "source": [
    "**np.random.normal(Ortalama,Standart Sapma,Shape)** -> Belirli bir ortalamaya ve standart sapmaya sahip rastgele çıktılar üretir."
   ]
  },
  {
   "cell_type": "code",
   "execution_count": 122,
   "id": "3d373fd2",
   "metadata": {},
   "outputs": [
    {
     "name": "stdout",
     "output_type": "stream",
     "text": [
      "[ 0.97808894 -0.09228166  0.04493757 -0.37998905 -0.98216506]\n",
      "[[102.53870562 104.24935616 104.93828085]\n",
      " [107.79527782 104.65029066 115.48394714]]\n"
     ]
    }
   ],
   "source": [
    "print(np.random.normal(0, 1, 5))    # Ortalama=0, std=1, 5 sayı\n",
    "print(np.random.normal(100, 10, (2, 3)))  # Ortalama=100, std=10, 2x3 matris"
   ]
  },
  {
   "cell_type": "markdown",
   "id": "f1f7ff68",
   "metadata": {},
   "source": [
    "**np.random.choice(arr,sayı,tekrar_durumu)** -> Bir diziden (array,liste,..) rastgele eleman seçmek için kullanılır. "
   ]
  },
  {
   "cell_type": "code",
   "execution_count": 141,
   "id": "69e027cc",
   "metadata": {},
   "outputs": [
    {
     "name": "stdout",
     "output_type": "stream",
     "text": [
      "20\n",
      "[10 30 20]\n",
      "[30 40 10 20 50]\n"
     ]
    }
   ],
   "source": [
    "arr = [10, 20, 30, 40, 50]\n",
    "print(np.random.choice(arr))          # Tek seçim\n",
    "print(np.random.choice(arr, 3))       # 3 eleman seç\n",
    "print(np.random.choice(arr, 5, replace=False)) # Tekrarsız seçim"
   ]
  },
  {
   "cell_type": "markdown",
   "id": "85b02b63",
   "metadata": {},
   "source": [
    "**np.random.shuffle(arr)** -> arrayin elamanlarını rastgele karıştırır. in_place işlem yapar yani orijinal array üzerinde değişiklik yapılır, yeni bir kopya oluşturulmaz."
   ]
  },
  {
   "cell_type": "code",
   "execution_count": 154,
   "id": "037f03cf",
   "metadata": {},
   "outputs": [
    {
     "name": "stdout",
     "output_type": "stream",
     "text": [
      "[50, 10, 40, 20, 30]\n"
     ]
    }
   ],
   "source": [
    "arr = [10, 20, 30, 40, 50]\n",
    "np.random.shuffle(arr)\n",
    "print(arr)"
   ]
  },
  {
   "cell_type": "markdown",
   "id": "dded56b7",
   "metadata": {},
   "source": [
    "**np.random.seed(seed)**-> Aynı rastgele sonuçları üretmek için kullanılır (Reproducibility)."
   ]
  },
  {
   "cell_type": "code",
   "execution_count": 160,
   "id": "00412424",
   "metadata": {},
   "outputs": [
    {
     "name": "stdout",
     "output_type": "stream",
     "text": [
      "[0.37454012 0.95071431 0.73199394]\n"
     ]
    }
   ],
   "source": [
    "np.random.seed(42)\n",
    "print(np.random.rand(3))"
   ]
  },
  {
   "cell_type": "markdown",
   "id": "c2504e23",
   "metadata": {},
   "source": [
    "# inf-nan kavramları"
   ]
  },
  {
   "cell_type": "markdown",
   "id": "0b83f0e5",
   "metadata": {},
   "source": [
    "**inf** -> Çok büyük sayıları ifade eder. Genelde 0'a çok yakın sayılara bölme ile oluşur. Belirli bir bit sayısı ile ifade edilemediği için inf ile ifade edilir.      \n",
    "**nan** -> (Not a Number) gerçek bir sayıya karşılık gelmez. 0/0 gibi tanımsız işlemler sonucu oluşur."
   ]
  },
  {
   "cell_type": "code",
   "execution_count": 165,
   "id": "ad0e982b",
   "metadata": {},
   "outputs": [
    {
     "name": "stdout",
     "output_type": "stream",
     "text": [
      "Is complex: [False  True False False False]\n",
      "Is real: [ True False  True  True  True]\n",
      "Is finite: [ True  True False False  True]\n",
      "Is nan: [False False False  True False]\n"
     ]
    }
   ],
   "source": [
    "# Örnek array\n",
    "arr = np.array([1, 2+3j, np.inf, np.nan, 5.0])\n",
    "\n",
    "print(\"Is complex:\", np.iscomplex(arr))   # Kompleks sayı mı?\n",
    "print(\"Is real:\", np.isreal(arr))         # Reel sayı mı?\n",
    "print(\"Is finite:\", np.isfinite(arr))     # Sonlu mu? (inf, nan hariç)\n",
    "print(\"Is nan:\", np.isnan(arr))           # NaN mı? (Not a Number)"
   ]
  },
  {
   "cell_type": "code",
   "execution_count": 169,
   "id": "9c69b6fd",
   "metadata": {},
   "outputs": [
    {
     "name": "stdout",
     "output_type": "stream",
     "text": [
      "False\n"
     ]
    }
   ],
   "source": [
    "print(np.nan == np.nan) #nan hiçbir şeye eşit değildir kendine bile"
   ]
  },
  {
   "cell_type": "markdown",
   "id": "994818a7",
   "metadata": {},
   "source": [
    "# Aritmetik işlemler"
   ]
  },
  {
   "cell_type": "markdown",
   "id": "9259155c",
   "metadata": {},
   "source": [
    "**element-wise** -> Bir arraydeki Her bir indexteki elemanın diğer array içerisinde aynı indexteki eleman ile işleme tabi tutulmasıdır. İşleme tabi tutulan arraylerin her biri aynı shape'de olmalıdır. Sonuçta oluşan array yine aynı shape'de olur."
   ]
  },
  {
   "cell_type": "code",
   "execution_count": 173,
   "id": "d008f4d6",
   "metadata": {},
   "outputs": [
    {
     "name": "stdout",
     "output_type": "stream",
     "text": [
      "[3 7 9]\n",
      "[-5 -3 -3]\n",
      "[-4 10 18]\n",
      "[-0.25  0.4   0.5 ]\n",
      "[-1  0  0]\n",
      "[3 2 3]\n",
      "[  1  32 729]\n",
      "[ 1 -2 -3]\n",
      "[ 1 -2 -3]\n",
      "[1 2 3]\n"
     ]
    }
   ],
   "source": [
    "a = np.array([-1, 2, 3])\n",
    "b = np.array([4, 5, 6])\n",
    "c = np.array([-1, -2, 3])\n",
    "\n",
    "print(a + b)\n",
    "print(a - b)\n",
    "print(a * b)\n",
    "print(a / b)\n",
    "print(a // b)\n",
    "print(a % b)\n",
    "print(a ** b)\n",
    "print(-a)\n",
    "print(np.negative(a))\n",
    "print(np.abs(c))"
   ]
  },
  {
   "cell_type": "code",
   "execution_count": 175,
   "id": "1b439f18",
   "metadata": {},
   "outputs": [
    {
     "name": "stdout",
     "output_type": "stream",
     "text": [
      "45\n",
      "5.0\n",
      "5.0\n",
      "1\n",
      "9\n",
      "2.581988897471611\n",
      "[1.         1.41421356 1.73205081 2.         2.23606798 2.44948974\n",
      " 2.64575131 2.82842712 3.        ]\n"
     ]
    }
   ],
   "source": [
    "a = np.array([1, 2, 3, 4, 5, 6, 7, 8, 9])\n",
    "\n",
    "print(np.sum(a))\n",
    "print(np.mean(a))\n",
    "print(np.median(a))\n",
    "print(np.min(a))\n",
    "print(np.max(a))\n",
    "print(np.std(a))\n",
    "print(np.sqrt(a))"
   ]
  },
  {
   "cell_type": "markdown",
   "id": "f65e110c",
   "metadata": {},
   "source": [
    "**axis** -> axis kavramı işlemin hangi boyutta yapılacağını belirtir. 2 Boyutlu bir array için:     \n",
    "0 → satırlar boyunca (dikey)        \n",
    "1 → sütunlar boyunca (yatay)        \n",
    "Axis belirtilmezse bütün elemanlar üzerinde işlemler yapılır ve sonuç tek bir scalar olur."
   ]
  },
  {
   "cell_type": "code",
   "execution_count": 176,
   "id": "13eea71b",
   "metadata": {},
   "outputs": [
    {
     "name": "stdout",
     "output_type": "stream",
     "text": [
      "[5 7 9]\n",
      "[ 6 15]\n"
     ]
    }
   ],
   "source": [
    "a = np.array([[1, 2, 3],\n",
    "              [4, 5, 6]])\n",
    "\n",
    "print(np.sum(a, axis=0))  # Sütunları toplamak (axis=0)\n",
    "print(np.sum(a, axis=1))  # Satırları toplamak (axis=1)"
   ]
  },
  {
   "cell_type": "markdown",
   "id": "65991880",
   "metadata": {},
   "source": [
    "3 boyutlu ve daha derin array'ler için axis kavramı benzer mantıkta çalışır: En dıştaki katman axis=0 olmak üzere derinlik boyunca içeriye doğru axis artar."
   ]
  },
  {
   "cell_type": "markdown",
   "id": "fa2431fb",
   "metadata": {},
   "source": [
    "**out** parametresi ile sonuç başka bir değişkene yazdırılabilir."
   ]
  },
  {
   "cell_type": "code",
   "execution_count": 177,
   "id": "ff9da3ba",
   "metadata": {},
   "outputs": [
    {
     "name": "stdout",
     "output_type": "stream",
     "text": [
      "[5. 7. 9.]\n"
     ]
    }
   ],
   "source": [
    "a = np.array([1, 2, 3])\n",
    "b = np.array([4, 5, 6])\n",
    "c = np.empty(3)\n",
    "np.add(a, b, out=c)\n",
    "print(c)  # [5. 7. 9.]"
   ]
  },
  {
   "cell_type": "markdown",
   "id": "819a712e",
   "metadata": {},
   "source": [
    "Ardışık elemanlar arasındaki işlemler için de fonksiyonlar var."
   ]
  },
  {
   "cell_type": "code",
   "execution_count": 179,
   "id": "cf8966c8",
   "metadata": {},
   "outputs": [
    {
     "name": "stdout",
     "output_type": "stream",
     "text": [
      "[ 1  3  6 10]\n",
      "[ 1  2  6 24]\n",
      "[1 1 1]\n"
     ]
    }
   ],
   "source": [
    "a = np.array([1, 2, 3, 4])\n",
    "print(np.cumsum(a))  # kümülatif toplam\n",
    "print(np.cumprod(a)) # kümülatif çarpım\n",
    "print(np.diff(a))    # ardışık fark"
   ]
  },
  {
   "cell_type": "markdown",
   "id": "23196f27",
   "metadata": {},
   "source": [
    "# Array şekil işlemleri"
   ]
  },
  {
   "cell_type": "markdown",
   "id": "e89e0be4",
   "metadata": {},
   "source": [
    "**reshape()** ile yeniden şekillendirme mümkündür. Yeni boyutların çarpımı eleman sayısını vermelidir. Bir boyutun **-1** verilmesi o boyutun otomatik doldurulacağı anlamına gelir."
   ]
  },
  {
   "cell_type": "code",
   "execution_count": 183,
   "id": "8a37f7fd",
   "metadata": {},
   "outputs": [
    {
     "name": "stdout",
     "output_type": "stream",
     "text": [
      "(12,)\n",
      "[ 0  1  2  3  4  5  6  7  8  9 10 11]\n",
      "[[ 0  1  2  3]\n",
      " [ 4  5  6  7]\n",
      " [ 8  9 10 11]]\n"
     ]
    }
   ],
   "source": [
    "b = np.arange(12)\n",
    "print(b.shape)\n",
    "print(b)\n",
    "c = b.reshape(3, 4)\n",
    "print(c)"
   ]
  },
  {
   "cell_type": "code",
   "execution_count": 188,
   "id": "15dea203",
   "metadata": {},
   "outputs": [
    {
     "name": "stdout",
     "output_type": "stream",
     "text": [
      "(12,)\n",
      "[ 0  1  2  3  4  5  6  7  8  9 10 11]\n",
      "[[ 0  1  2  3]\n",
      " [ 4  5  6  7]\n",
      " [ 8  9 10 11]]\n"
     ]
    }
   ],
   "source": [
    "b = np.arange(12)\n",
    "print(b.shape)\n",
    "print(b)\n",
    "c = b.reshape(3, -1)\n",
    "print(c)"
   ]
  },
  {
   "cell_type": "markdown",
   "id": "6afdf056",
   "metadata": {},
   "source": [
    "**newaxis** ile yeni boş bir eksen eklenebilir."
   ]
  },
  {
   "cell_type": "code",
   "execution_count": 190,
   "id": "d310a51b",
   "metadata": {},
   "outputs": [
    {
     "name": "stdout",
     "output_type": "stream",
     "text": [
      "(3,)\n",
      "(3, 1)\n",
      "[[1]\n",
      " [2]\n",
      " [3]]\n"
     ]
    }
   ],
   "source": [
    "x = np.array([1, 2, 3])\n",
    "print(x.shape)\n",
    "y = x[:, np.newaxis]  # (3,) → (3,1)\n",
    "print(y.shape)\n",
    "print(y)"
   ]
  },
  {
   "cell_type": "markdown",
   "id": "e1784e75",
   "metadata": {},
   "source": [
    "**flatten** ile bütün elemanlar düzleştirilebilir. Bu işlemden sonra bütün elemanlar tek bir listenin elemanıymış gibi olur."
   ]
  },
  {
   "cell_type": "code",
   "execution_count": 193,
   "id": "a4a94d58",
   "metadata": {},
   "outputs": [
    {
     "name": "stdout",
     "output_type": "stream",
     "text": [
      "[[ 0  1  2  3]\n",
      " [ 4  5  6  7]\n",
      " [ 8  9 10 11]]\n",
      "(12,)\n",
      "[ 0  1  2  3  4  5  6  7  8  9 10 11]\n"
     ]
    }
   ],
   "source": [
    "b = np.arange(12).reshape(3,4)\n",
    "print(b)\n",
    "z = b.flatten()  #Düzleştirme\n",
    "print(z.shape)   #\n",
    "print(z)"
   ]
  },
  {
   "cell_type": "markdown",
   "id": "d37cf5f8",
   "metadata": {},
   "source": [
    "**squeeze** -> Boyutu bir olan eksenleri kaldırır. (Fazla parantezleri)"
   ]
  },
  {
   "cell_type": "code",
   "execution_count": 196,
   "id": "c23fbd83",
   "metadata": {},
   "outputs": [
    {
     "name": "stdout",
     "output_type": "stream",
     "text": [
      "Orijinal shape: (1, 3, 1)\n",
      "Squeezed shape: (3,)\n",
      "[1 2 3]\n"
     ]
    }
   ],
   "source": [
    "a = np.array([[[1], [2], [3]]])\n",
    "print(\"Orijinal shape:\", a.shape)\n",
    "b = a.squeeze()  # boyutu 1 olan ekseni kaldır\n",
    "print(\"Squeezed shape:\", b.shape)\n",
    "print(b)"
   ]
  },
  {
   "cell_type": "markdown",
   "id": "96f6a009",
   "metadata": {},
   "source": [
    "**stack** -> Farklı arraylerin birleştirilmesini sağlar."
   ]
  },
  {
   "cell_type": "code",
   "execution_count": 200,
   "id": "11a533b0",
   "metadata": {},
   "outputs": [
    {
     "name": "stdout",
     "output_type": "stream",
     "text": [
      "[[1 2 3]\n",
      " [4 5 6]\n",
      " [7 8 9]]\n",
      "[1 2 3 4 5 6 7 8 9]\n",
      "[[[1 4 7]\n",
      "  [2 5 8]\n",
      "  [3 6 9]]]\n"
     ]
    }
   ],
   "source": [
    "a = np.array([1,2,3])\n",
    "b = np.array([4,5,6])\n",
    "c = np.array([7,8,9])\n",
    "\n",
    "print(np.vstack((a,b,c)))  # dikey\n",
    "print(np.hstack((a,b,c)))  # yatay\n",
    "\n",
    "print(np.dstack((a,b,c))) #Derinlik boyunca"
   ]
  },
  {
   "cell_type": "code",
   "execution_count": 203,
   "id": "be3ccac3",
   "metadata": {},
   "outputs": [
    {
     "name": "stdout",
     "output_type": "stream",
     "text": [
      "(2, 2)\n",
      "\n",
      "vstack 2D:\n",
      " [[1 2]\n",
      " [3 4]\n",
      " [5 6]\n",
      " [7 8]]\n",
      "vstack 2D shape: (4, 2)\n",
      "\n",
      "stack axis=0 2D:\n",
      " [[[1 2]\n",
      "  [3 4]]\n",
      "\n",
      " [[5 6]\n",
      "  [7 8]]]\n",
      "stack axis=0 2D shape: (2, 2, 2)\n"
     ]
    }
   ],
   "source": [
    "c = np.array([[1,2],[3,4]])\n",
    "d = np.array([[5,6],[7,8]])\n",
    "print(c.shape)\n",
    "v2 = np.vstack((c, d))\n",
    "print(\"\\nvstack 2D:\\n\", v2)\n",
    "print(\"vstack 2D shape:\", v2.shape)  # (4,2)\n",
    "\n",
    "s2 = np.stack((c, d), axis=0) #Yeni bir Boyut ekleyerek birleştirir.\n",
    "print(\"\\nstack axis=0 2D:\\n\", s2)\n",
    "print(\"stack axis=0 2D shape:\", s2.shape)  # (2,2,2)"
   ]
  },
  {
   "cell_type": "markdown",
   "id": "3be3aa51",
   "metadata": {},
   "source": [
    "**concatenate**->daha esnek birleştirme imkanı sunar (axis parametresi)"
   ]
  },
  {
   "cell_type": "code",
   "execution_count": 207,
   "id": "c1a4ba06",
   "metadata": {},
   "outputs": [
    {
     "name": "stdout",
     "output_type": "stream",
     "text": [
      "[[1 2]\n",
      " [3 4]\n",
      " [5 6]\n",
      " [7 8]]\n"
     ]
    }
   ],
   "source": [
    "a = np.array([[1,2],[3,4]])\n",
    "b = np.array([[5,6],[7,8]])\n",
    "print(np.concatenate((a,b), axis=0))"
   ]
  },
  {
   "cell_type": "markdown",
   "id": "02baca6d",
   "metadata": {},
   "source": [
    "**split**->Arrayi eşit parçalara bölmeyi sağlar."
   ]
  },
  {
   "cell_type": "code",
   "execution_count": 208,
   "id": "2b2f2584",
   "metadata": {},
   "outputs": [
    {
     "name": "stdout",
     "output_type": "stream",
     "text": [
      "Part 0: [0 1 2 3]\n",
      "Part 1: [4 5 6]\n",
      "Part 2: [7 8 9]\n"
     ]
    }
   ],
   "source": [
    "a = np.arange(10)  # [0 1 2 3 4 5 6 7 8 9]\n",
    "parts = np.array_split(a, 3)\n",
    "for i, p in enumerate(parts):\n",
    "    print(f\"Part {i}:\", p)"
   ]
  },
  {
   "cell_type": "code",
   "execution_count": 213,
   "id": "b90bea45",
   "metadata": {},
   "outputs": [
    {
     "name": "stdout",
     "output_type": "stream",
     "text": [
      "Original array:\n",
      " [[ 0  1  2  3]\n",
      " [ 4  5  6  7]\n",
      " [ 8  9 10 11]\n",
      " [12 13 14 15]]\n",
      "\n",
      "Vsplit:\n",
      "[[0 1 2 3]\n",
      " [4 5 6 7]]\n",
      "[[ 8  9 10 11]\n",
      " [12 13 14 15]]\n",
      "\n",
      "Hsplit:\n",
      "[[ 0  1]\n",
      " [ 4  5]\n",
      " [ 8  9]\n",
      " [12 13]]\n",
      "[[ 2  3]\n",
      " [ 6  7]\n",
      " [10 11]\n",
      " [14 15]]\n"
     ]
    }
   ],
   "source": [
    "b = np.arange(16).reshape(4,4)\n",
    "print(\"Original array:\\n\", b)\n",
    "\n",
    "# Satırlar boyunca böl (dikey)\n",
    "rows_split = np.vsplit(b, 2)\n",
    "print(\"\\nVsplit:\")\n",
    "for part in rows_split:\n",
    "    print(part)\n",
    "\n",
    "# Sütunlar boyunca böl (yatay)\n",
    "cols_split = np.hsplit(b, 2)\n",
    "print(\"\\nHsplit:\")\n",
    "for part in cols_split:\n",
    "    print(part)"
   ]
  },
  {
   "cell_type": "code",
   "execution_count": 2,
   "id": "f07412a3",
   "metadata": {},
   "outputs": [
    {
     "name": "stdout",
     "output_type": "stream",
     "text": [
      "[[[ 0  1  2  3]\n",
      "  [ 4  5  6  7]\n",
      "  [ 8  9 10 11]]\n",
      "\n",
      " [[12 13 14 15]\n",
      "  [16 17 18 19]\n",
      "  [20 21 22 23]]]\n",
      "\n",
      "Depth part 0:\n",
      " [[[ 0]\n",
      "  [ 4]\n",
      "  [ 8]]\n",
      "\n",
      " [[12]\n",
      "  [16]\n",
      "  [20]]]\n",
      "\n",
      "Depth part 1:\n",
      " [[[ 1]\n",
      "  [ 5]\n",
      "  [ 9]]\n",
      "\n",
      " [[13]\n",
      "  [17]\n",
      "  [21]]]\n",
      "\n",
      "Depth part 2:\n",
      " [[[ 2]\n",
      "  [ 6]\n",
      "  [10]]\n",
      "\n",
      " [[14]\n",
      "  [18]\n",
      "  [22]]]\n",
      "\n",
      "Depth part 3:\n",
      " [[[ 3]\n",
      "  [ 7]\n",
      "  [11]]\n",
      "\n",
      " [[15]\n",
      "  [19]\n",
      "  [23]]]\n"
     ]
    }
   ],
   "source": [
    "c = np.arange(24).reshape(2,3,4)\n",
    "print(c)\n",
    "# Derinlik boyunca böl\n",
    "depth_split = np.dsplit(c, 4)  # axis=2'yi (En son axis) böler\n",
    "for i, part in enumerate(depth_split):\n",
    "    print(f\"\\nDepth part {i}:\\n\", part)"
   ]
  },
  {
   "cell_type": "markdown",
   "id": "3e0c1079",
   "metadata": {},
   "source": [
    "# Lineer Cebir fonksiyonları"
   ]
  },
  {
   "cell_type": "code",
   "execution_count": 3,
   "id": "d7bd4327",
   "metadata": {},
   "outputs": [],
   "source": [
    "A = np.array([[1, 2], [3, 4]])\n",
    "B = np.array([[2, 0], [1, 3]])"
   ]
  },
  {
   "cell_type": "markdown",
   "id": "ea797763",
   "metadata": {},
   "source": [
    "**Matrix çarpımı** ->"
   ]
  },
  {
   "cell_type": "code",
   "execution_count": 5,
   "id": "6f7e83bd",
   "metadata": {},
   "outputs": [
    {
     "name": "stdout",
     "output_type": "stream",
     "text": [
      "Dot product:\n",
      " [[ 4  6]\n",
      " [10 12]]\n"
     ]
    }
   ],
   "source": [
    "print(\"Dot product:\\n\", np.dot(A, B))   # matris çarpımı"
   ]
  },
  {
   "cell_type": "code",
   "execution_count": 6,
   "id": "578e80f6",
   "metadata": {},
   "outputs": [
    {
     "name": "stdout",
     "output_type": "stream",
     "text": [
      "Matmul:\n",
      " [[ 4  6]\n",
      " [10 12]]\n"
     ]
    }
   ],
   "source": [
    "print(\"Matmul:\\n\", np.matmul(A, B))     # aynı işlev"
   ]
  },
  {
   "cell_type": "code",
   "execution_count": 7,
   "id": "998b1bb1",
   "metadata": {},
   "outputs": [
    {
     "name": "stdout",
     "output_type": "stream",
     "text": [
      "Kısayol @:\n",
      " [[ 4  6]\n",
      " [10 12]]\n"
     ]
    }
   ],
   "source": [
    "print(\"Kısayol @:\\n\", A @ B)"
   ]
  },
  {
   "cell_type": "markdown",
   "id": "d8c07437",
   "metadata": {},
   "source": [
    "**Cross Product**"
   ]
  },
  {
   "cell_type": "code",
   "execution_count": 8,
   "id": "34734fcc",
   "metadata": {},
   "outputs": [],
   "source": [
    "A = np.array([1, 2, 3])\n",
    "B = np.array([2, 0, 5])"
   ]
  },
  {
   "cell_type": "code",
   "execution_count": 9,
   "id": "9bbff156",
   "metadata": {},
   "outputs": [
    {
     "data": {
      "text/plain": [
       "array([10,  1, -4])"
      ]
     },
     "execution_count": 9,
     "metadata": {},
     "output_type": "execute_result"
    }
   ],
   "source": [
    "np.cross(A,B)"
   ]
  },
  {
   "cell_type": "markdown",
   "id": "31a8956b",
   "metadata": {},
   "source": [
    "**Determinant**->"
   ]
  },
  {
   "cell_type": "code",
   "execution_count": 10,
   "id": "c7889e66",
   "metadata": {},
   "outputs": [],
   "source": [
    "A = np.array([[1, 2], [3, 4]])\n",
    "B = np.array([[2, 0], [1, 3]])"
   ]
  },
  {
   "cell_type": "code",
   "execution_count": 12,
   "id": "79740260",
   "metadata": {},
   "outputs": [
    {
     "name": "stdout",
     "output_type": "stream",
     "text": [
      "Determinant: -2.0000000000000004\n"
     ]
    }
   ],
   "source": [
    "print(\"Determinant:\", np.linalg.det(A))"
   ]
  },
  {
   "cell_type": "markdown",
   "id": "6c99169d",
   "metadata": {},
   "source": [
    "**inverse** ->"
   ]
  },
  {
   "cell_type": "code",
   "execution_count": 13,
   "id": "7450c314",
   "metadata": {},
   "outputs": [
    {
     "name": "stdout",
     "output_type": "stream",
     "text": [
      "A^-1:\n",
      " [[-2.   1. ]\n",
      " [ 1.5 -0.5]]\n"
     ]
    }
   ],
   "source": [
    "invA = np.linalg.inv(A)\n",
    "print(\"A^-1:\\n\", invA)"
   ]
  },
  {
   "cell_type": "code",
   "execution_count": 14,
   "id": "e9b3fe0b",
   "metadata": {},
   "outputs": [
    {
     "data": {
      "text/plain": [
       "array([[-2. ,  1. ],\n",
       "       [ 1.5, -0.5]])"
      ]
     },
     "execution_count": 14,
     "metadata": {},
     "output_type": "execute_result"
    }
   ],
   "source": [
    "np.linalg.pinv(A)"
   ]
  },
  {
   "cell_type": "markdown",
   "id": "8115bf4e",
   "metadata": {},
   "source": [
    "**Transpose** ->"
   ]
  },
  {
   "cell_type": "code",
   "execution_count": 15,
   "id": "5caa348e",
   "metadata": {},
   "outputs": [
    {
     "name": "stdout",
     "output_type": "stream",
     "text": [
      "Transpoz:\n",
      " [[1 3]\n",
      " [2 4]]\n"
     ]
    }
   ],
   "source": [
    "print(\"Transpoz:\\n\", A.T)"
   ]
  },
  {
   "cell_type": "code",
   "execution_count": 16,
   "id": "eb5eaecb",
   "metadata": {},
   "outputs": [
    {
     "data": {
      "text/plain": [
       "array([[1, 3],\n",
       "       [2, 4]])"
      ]
     },
     "execution_count": 16,
     "metadata": {},
     "output_type": "execute_result"
    }
   ],
   "source": [
    "np.transpose(A)"
   ]
  },
  {
   "cell_type": "markdown",
   "id": "ad5af57d",
   "metadata": {},
   "source": [
    "**Trace** ->"
   ]
  },
  {
   "cell_type": "code",
   "execution_count": 18,
   "id": "309b5d1b",
   "metadata": {},
   "outputs": [
    {
     "data": {
      "text/plain": [
       "array([[1, 2],\n",
       "       [3, 4]])"
      ]
     },
     "execution_count": 18,
     "metadata": {},
     "output_type": "execute_result"
    }
   ],
   "source": [
    "A"
   ]
  },
  {
   "cell_type": "code",
   "execution_count": 17,
   "id": "e92ebc9f",
   "metadata": {},
   "outputs": [
    {
     "name": "stdout",
     "output_type": "stream",
     "text": [
      "Trace: 5\n"
     ]
    }
   ],
   "source": [
    "print(\"Trace:\", np.trace(A))   # köşegen toplamı"
   ]
  },
  {
   "cell_type": "markdown",
   "id": "fff5fa66",
   "metadata": {},
   "source": [
    "**Rank**->"
   ]
  },
  {
   "cell_type": "code",
   "execution_count": 21,
   "id": "54d20928",
   "metadata": {},
   "outputs": [
    {
     "name": "stdout",
     "output_type": "stream",
     "text": [
      "Rank: 2\n"
     ]
    }
   ],
   "source": [
    "print(\"Rank:\", np.linalg.matrix_rank(A))"
   ]
  },
  {
   "cell_type": "markdown",
   "id": "a0911387",
   "metadata": {},
   "source": [
    "**eigenvalues/eigenvectors**"
   ]
  },
  {
   "cell_type": "code",
   "execution_count": 22,
   "id": "87b9eda2",
   "metadata": {},
   "outputs": [
    {
     "name": "stdout",
     "output_type": "stream",
     "text": [
      "Eigenvalues: [-0.37228132  5.37228132]\n",
      "Eigenvectors:\n",
      " [[-0.82456484 -0.41597356]\n",
      " [ 0.56576746 -0.90937671]]\n"
     ]
    }
   ],
   "source": [
    "eigvals, eigvecs = np.linalg.eig(A)\n",
    "print(\"Eigenvalues:\", eigvals)\n",
    "print(\"Eigenvectors:\\n\", eigvecs)"
   ]
  },
  {
   "cell_type": "markdown",
   "id": "11005923",
   "metadata": {},
   "source": [
    "**singular value decomposition**"
   ]
  },
  {
   "cell_type": "code",
   "execution_count": 23,
   "id": "7861d449",
   "metadata": {},
   "outputs": [
    {
     "name": "stdout",
     "output_type": "stream",
     "text": [
      "U:\n",
      " [[-0.40455358 -0.9145143 ]\n",
      " [-0.9145143   0.40455358]]\n",
      "S (singular values): [5.4649857  0.36596619]\n",
      "Vt:\n",
      " [[-0.57604844 -0.81741556]\n",
      " [ 0.81741556 -0.57604844]]\n"
     ]
    }
   ],
   "source": [
    "U, S, Vt = np.linalg.svd(A)\n",
    "print(\"U:\\n\", U)\n",
    "print(\"S (singular values):\", S)\n",
    "print(\"Vt:\\n\", Vt)"
   ]
  },
  {
   "cell_type": "markdown",
   "id": "bedd9589",
   "metadata": {},
   "source": [
    "**norm**"
   ]
  },
  {
   "cell_type": "code",
   "execution_count": 26,
   "id": "4a6a364d",
   "metadata": {},
   "outputs": [
    {
     "name": "stdout",
     "output_type": "stream",
     "text": [
      "5.0\n"
     ]
    }
   ],
   "source": [
    "v = np.array([3, 4])\n",
    "print(np.linalg.norm(v,ord=2))"
   ]
  },
  {
   "cell_type": "markdown",
   "id": "2c66fa05",
   "metadata": {},
   "source": [
    "**Lineer çözüm**"
   ]
  },
  {
   "cell_type": "code",
   "execution_count": 28,
   "id": "41f567a5",
   "metadata": {},
   "outputs": [
    {
     "name": "stdout",
     "output_type": "stream",
     "text": [
      "Çözüm x: [2.2 3.6]\n"
     ]
    }
   ],
   "source": [
    "A = np.array([[2, 1], [1, 3]])\n",
    "b = np.array([8, 13])\n",
    "x = np.linalg.solve(A, b)\n",
    "print(\"Çözüm x:\", x)"
   ]
  },
  {
   "cell_type": "markdown",
   "id": "b36340f0",
   "metadata": {},
   "source": [
    "**En küçük kareler**"
   ]
  },
  {
   "cell_type": "code",
   "execution_count": 30,
   "id": "4cc022bf",
   "metadata": {},
   "outputs": [
    {
     "data": {
      "text/plain": [
       "(array([2.2, 3.6]),\n",
       " array([], dtype=float64),\n",
       " np.int32(2),\n",
       " array([3.61803399, 1.38196601]))"
      ]
     },
     "execution_count": 30,
     "metadata": {},
     "output_type": "execute_result"
    }
   ],
   "source": [
    "np.linalg.lstsq(A, b)"
   ]
  },
  {
   "cell_type": "markdown",
   "id": "954a662a",
   "metadata": {},
   "source": [
    "# Broadcasting"
   ]
  },
  {
   "cell_type": "markdown",
   "id": "1091672b",
   "metadata": {},
   "source": [
    "eğer işlem yapılan arrayler aynı shape'de değilse numpy derinliği az olan array'i elemanları tekrar ederek genişletir.      \n",
    "[1,2,3] shape (3,) → broadcast → (1,3) → her satır için kopyalanır → shape (2,3)        "
   ]
  },
  {
   "cell_type": "code",
   "execution_count": 42,
   "id": "ea953fd7",
   "metadata": {},
   "outputs": [
    {
     "name": "stdout",
     "output_type": "stream",
     "text": [
      "[[11 22 33]\n",
      " [14 25 36]]\n"
     ]
    }
   ],
   "source": [
    "a = np.array([[1,2,3],\n",
    "              [4,5,6]])  # shape: (2,3)\n",
    "b = np.array([10,20,30])  # shape: (3,)\n",
    "\n",
    "c = a + b\n",
    "print(c)"
   ]
  },
  {
   "cell_type": "code",
   "execution_count": 44,
   "id": "3064fae2",
   "metadata": {},
   "outputs": [
    {
     "name": "stdout",
     "output_type": "stream",
     "text": [
      "[[11 21 31]\n",
      " [12 22 32]]\n"
     ]
    }
   ],
   "source": [
    "row = np.array([[1],[2]])  # shape: (2,1)\n",
    "col = np.array([10,20,30]) # shape: (3,)\n",
    "\n",
    "# 1 1 1     10 20 30\n",
    "# 2 2 2     10 20 30\n",
    "result = row + col  # row ve col broadcasting\n",
    "print(result)"
   ]
  },
  {
   "cell_type": "code",
   "execution_count": 49,
   "id": "76ad7998",
   "metadata": {},
   "outputs": [
    {
     "name": "stdout",
     "output_type": "stream",
     "text": [
      "[[ 0  1  2]\n",
      " [-1  0  1]\n",
      " [-2 -1  0]]\n",
      "*************************\n",
      "[0 0 0]\n"
     ]
    }
   ],
   "source": [
    "a = np.array([1,2,3])\n",
    "b = np.array([[1],[2],[3]])\n",
    "print(a-b)\n",
    "print(\"*\"*25)\n",
    "print(a-b.flatten())"
   ]
  },
  {
   "cell_type": "markdown",
   "id": "afa609f6",
   "metadata": {},
   "source": [
    "# Masking-Filter"
   ]
  },
  {
   "cell_type": "code",
   "execution_count": 51,
   "id": "a6da581c",
   "metadata": {},
   "outputs": [
    {
     "name": "stdout",
     "output_type": "stream",
     "text": [
      "Mask: [False False False  True  True  True  True]\n",
      "Filtrelenmiş array: [25 30 35 40]\n"
     ]
    }
   ],
   "source": [
    "arr = np.array([10, 15, 20, 25, 30, 35, 40])\n",
    "mask = arr > 20\n",
    "print(\"Mask:\", mask)\n",
    "filtered = arr[mask]\n",
    "print(\"Filtrelenmiş array:\", filtered)"
   ]
  },
  {
   "cell_type": "code",
   "execution_count": 53,
   "id": "fc8d962c",
   "metadata": {},
   "outputs": [
    {
     "name": "stdout",
     "output_type": "stream",
     "text": [
      "20'den büyükler: [25 30 35 40]\n"
     ]
    }
   ],
   "source": [
    "print(\"20'den büyükler:\", arr[arr > 20])"
   ]
  },
  {
   "cell_type": "code",
   "execution_count": 54,
   "id": "43403c49",
   "metadata": {},
   "outputs": [
    {
     "name": "stdout",
     "output_type": "stream",
     "text": [
      "Mask:\n",
      " [[False False False]\n",
      " [False False  True]\n",
      " [ True  True  True]]\n"
     ]
    }
   ],
   "source": [
    "mat = np.array([[1, 2, 3],\n",
    "                [4, 5, 6],\n",
    "                [7, 8, 9]])\n",
    "\n",
    "mask = mat > 5\n",
    "print(\"Mask:\\n\", mask)\n",
    "filtered = mat[mask]"
   ]
  },
  {
   "cell_type": "code",
   "execution_count": 56,
   "id": "4d60c245",
   "metadata": {},
   "outputs": [
    {
     "name": "stdout",
     "output_type": "stream",
     "text": [
      "[20 25 30]\n"
     ]
    }
   ],
   "source": [
    "print(arr[(arr > 15) & (arr < 35)])"
   ]
  },
  {
   "cell_type": "code",
   "execution_count": 58,
   "id": "293d22d7",
   "metadata": {},
   "outputs": [
    {
     "name": "stdout",
     "output_type": "stream",
     "text": [
      "[3 4 5 6]\n",
      "[0 2 4 6 8 9]\n",
      "[0 1 2 3 4 5]\n"
     ]
    }
   ],
   "source": [
    "arr = np.arange(10)\n",
    "print(arr[(arr > 2) & (arr < 7)])\n",
    "print(arr[(arr % 2 == 0) | (arr > 7)])\n",
    "print(arr[~(arr > 5)])"
   ]
  },
  {
   "cell_type": "code",
   "execution_count": 59,
   "id": "024f0aad",
   "metadata": {},
   "outputs": [
    {
     "data": {
      "text/plain": [
       "array([0, 1, 2, 3, 4, 5, 6, 7, 8, 9])"
      ]
     },
     "execution_count": 59,
     "metadata": {},
     "output_type": "execute_result"
    }
   ],
   "source": [
    "arr"
   ]
  },
  {
   "cell_type": "code",
   "execution_count": 60,
   "id": "c8bebebf",
   "metadata": {},
   "outputs": [
    {
     "name": "stdout",
     "output_type": "stream",
     "text": [
      "[0 1 2 3 4 5 1 1 1 1]\n"
     ]
    }
   ],
   "source": [
    "arr[arr>5] = 1\n",
    "print(arr)"
   ]
  },
  {
   "cell_type": "markdown",
   "id": "a28f6181",
   "metadata": {},
   "source": [
    "**np.where(koşul,sağlandığı durum,sağlanmadığı durum)** -> Bir koşulun array'de sağlandığı ve sağlanmadığı yerler için işlem yapmayı sağlar."
   ]
  },
  {
   "cell_type": "code",
   "execution_count": 61,
   "id": "66e4531b",
   "metadata": {},
   "outputs": [
    {
     "name": "stdout",
     "output_type": "stream",
     "text": [
      "[0 0 0 1 1]\n"
     ]
    }
   ],
   "source": [
    "arr = np.array([10, 20, 30, 40, 50])\n",
    "result = np.where(arr > 30, 1, 0)\n",
    "print(result)"
   ]
  },
  {
   "cell_type": "markdown",
   "id": "9eb7ced5",
   "metadata": {},
   "source": [
    "# Array kopyalama"
   ]
  },
  {
   "cell_type": "markdown",
   "id": "baa472fe",
   "metadata": {},
   "source": [
    "**shallow copy** -> Memory içerisinde başka bir yere kopyalanmaz. Birinde yapılan değişiklik diğerini etkiler.      \n",
    "**deep copy** -> Memory içerisinde farklı bir yere kopyası oluşturulur."
   ]
  },
  {
   "cell_type": "code",
   "execution_count": 62,
   "id": "f4260297",
   "metadata": {},
   "outputs": [
    {
     "name": "stdout",
     "output_type": "stream",
     "text": [
      "[100   2   3]\n"
     ]
    }
   ],
   "source": [
    "a = np.array([1, 2, 3])\n",
    "b = a \n",
    "\n",
    "b[0] = 100\n",
    "print(a)"
   ]
  },
  {
   "cell_type": "code",
   "execution_count": 63,
   "id": "f50e10f4",
   "metadata": {},
   "outputs": [
    {
     "name": "stdout",
     "output_type": "stream",
     "text": [
      "[  1 200   3]\n"
     ]
    }
   ],
   "source": [
    "a = np.array([1, 2, 3])\n",
    "b = a.view() #Shallow copy\n",
    "\n",
    "b[1] = 200\n",
    "print(a)"
   ]
  },
  {
   "cell_type": "code",
   "execution_count": 64,
   "id": "16487947",
   "metadata": {},
   "outputs": [
    {
     "name": "stdout",
     "output_type": "stream",
     "text": [
      "[1 2 3]\n",
      "[  1   2 300]\n"
     ]
    }
   ],
   "source": [
    "a = np.array([1, 2, 3])\n",
    "b = a.copy()  # deep copy\n",
    "\n",
    "b[2] = 300\n",
    "print(a)\n",
    "print(b)"
   ]
  },
  {
   "cell_type": "markdown",
   "id": "7cdcd1c3",
   "metadata": {},
   "source": [
    "# Array Kaydetme/yükleme"
   ]
  },
  {
   "cell_type": "markdown",
   "id": "59a7f09f",
   "metadata": {},
   "source": [
    "Tek bir array kaydetme"
   ]
  },
  {
   "cell_type": "code",
   "execution_count": 66,
   "id": "aa819296",
   "metadata": {},
   "outputs": [
    {
     "name": "stdout",
     "output_type": "stream",
     "text": [
      "[1 2 3 4 5]\n"
     ]
    }
   ],
   "source": [
    "a = np.array([1, 2, 3, 4, 5])\n",
    "\n",
    "\n",
    "np.save(\"my_array.npy\", a)\n",
    "\n",
    "\n",
    "b = np.load(\"my_array.npy\")\n",
    "print(b)"
   ]
  },
  {
   "cell_type": "markdown",
   "id": "f1ec5be8",
   "metadata": {},
   "source": [
    "Birden çok array kaydetme"
   ]
  },
  {
   "cell_type": "code",
   "execution_count": 67,
   "id": "e579b148",
   "metadata": {},
   "outputs": [
    {
     "name": "stdout",
     "output_type": "stream",
     "text": [
      "[1 2 3]\n",
      "[[1 2]\n",
      " [3 4]]\n"
     ]
    }
   ],
   "source": [
    "x = np.array([1, 2, 3])\n",
    "y = np.array([[1, 2], [3, 4]])\n",
    "\n",
    "np.savez(\"my_arrays.npz\", arr1=x, arr2=y)\n",
    "\n",
    "# Yükleme\n",
    "data = np.load(\"my_arrays.npz\")\n",
    "print(data[\"arr1\"])\n",
    "print(data[\"arr2\"])\n",
    "                   "
   ]
  },
  {
   "cell_type": "markdown",
   "id": "bbee15c1",
   "metadata": {},
   "source": [
    "text formatında kaydetme"
   ]
  },
  {
   "cell_type": "code",
   "execution_count": 68,
   "id": "5c1cc1dc",
   "metadata": {},
   "outputs": [
    {
     "name": "stdout",
     "output_type": "stream",
     "text": [
      "[1. 2. 3. 4. 5.]\n"
     ]
    }
   ],
   "source": [
    "np.savetxt(\"my_array.txt\", a, delimiter=\",\", fmt=\"%d\")\n",
    "b = np.loadtxt(\"my_array.txt\", delimiter=\",\")\n",
    "print(b)"
   ]
  }
 ],
 "metadata": {
  "kernelspec": {
   "display_name": ".venv (3.12.3)",
   "language": "python",
   "name": "python3"
  },
  "language_info": {
   "codemirror_mode": {
    "name": "ipython",
    "version": 3
   },
   "file_extension": ".py",
   "mimetype": "text/x-python",
   "name": "python",
   "nbconvert_exporter": "python",
   "pygments_lexer": "ipython3",
   "version": "3.12.3"
  }
 },
 "nbformat": 4,
 "nbformat_minor": 5
}
